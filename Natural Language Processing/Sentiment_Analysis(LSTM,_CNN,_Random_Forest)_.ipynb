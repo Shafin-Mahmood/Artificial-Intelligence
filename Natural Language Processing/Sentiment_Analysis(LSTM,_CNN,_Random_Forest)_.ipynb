{
  "cells": [
    {
      "cell_type": "markdown",
      "metadata": {
        "id": "TP6tUbPWzcI1"
      },
      "source": [
        "Import module printing the dataset"
      ]
    },
    {
      "cell_type": "code",
      "execution_count": null,
      "metadata": {
        "colab": {
          "base_uri": "https://localhost:8080/",
          "height": 363
        },
        "id": "igY0uw9MK39U",
        "outputId": "ee216d61-1a95-4126-e1a7-95ff7f1d332d"
      },
      "outputs": [
        {
          "data": {
            "application/vnd.google.colaboratory.intrinsic+json": {
              "summary": "{\n  \"name\": \"data\",\n  \"rows\": 4987,\n  \"fields\": [\n    {\n      \"column\": \"Text\",\n      \"properties\": {\n        \"dtype\": \"string\",\n        \"num_unique_values\": 4959,\n        \"samples\": [\n          \"`   You know that the name change is not at all the whole point here. The problems here such as heavily relying on Chinese sources, inaccuracy in historical facts, copying government propaganda, are commonplace not only in this particular article but most all topics on nations colonized under China. And further, if the current situation continues on Wikipedia, you cannot guarentee the so called NPOV. Not only that will be a joke, the whole Wikipedia thing will end up being another hypocratic, ``civilization`` game. The biggest issue here is the mentality behind the creation of these articles and problems here, hence the debate and this is just the beginning. You have to realize that the overwhelming articles on China-occupied regions on Wikipedia are full of POV but not NPOV. So don't keep fulling yourselves. It's time to wake up now.  Those who're currently in advantageous positions here, are so not because they're intelectually and morally strong but just because their numbers are bigger. They are basically consisted of two types: One types are those Chinese who're either been brainwashed and/or are chauvinistic fanatics. And the other types are Americans who (naturally) have so little knowledge about the world outside of northern America. But then they would have hard time admitting that and therefore, they will end up either pretending as they know or they would simply echo the Chinese POV which is largely circulated and readily available. For them, the famous saying, which goes like if you repeat a lie a thousand times it would become the truth, will make perfect sense. That ``truth``, or what you guys are shouting here as ``the common`` names and stuff, is exactly what is blocking not only your eyesights but as well your human consciousness.  One big difference between the two types though are that the Chinese here do know what they are doing because they have their agenda and they're intentional. But the Americans are just naive and are being used.   `\",\n          \"  ==Animated series edits by T-Man== Look, T-man, you just don;t seem to get it.  This page, Legends of the Dark Knight, is about a COMIC BOOK series.  You cannot simply use the =Top Level Tag= to create a confusing double entry on this page for a comic book series and ONE EPISODE OF A TV SHOW.  Episodes of TV shows, especially animated ones, do not get their own wikior top level entry.  I am content with there being a ==Notes== section to point out this fact, although your write-up is too long and unverified and POV on the subject and it should be shortened further. Please wait for consensus now before changing it again. Thoughts by others?  \",\n          \"  Dear Asbestos, I thought admins could unblock themselves.  I've done it before, but found that I couldn't today.  Anyway, it was such a ridiculous ban it was hardly worth commenting on.  I admit I shouldn't have sworn, but Ed's action was completely out of proportion and a deliberate escalation.  And anyway  had already told me off, politely.  I didn't realise everyone was so bloody sensitive.  \\u2014 | \"\n        ],\n        \"semantic_type\": \"\",\n        \"description\": \"\"\n      }\n    },\n    {\n      \"column\": \"lable\",\n      \"properties\": {\n        \"dtype\": \"category\",\n        \"num_unique_values\": 22,\n        \"samples\": [\n          \"1\",\n          \"0.599647002\",\n          \"0.599615742\"\n        ],\n        \"semantic_type\": \"\",\n        \"description\": \"\"\n      }\n    }\n  ]\n}",
              "type": "dataframe",
              "variable_name": "data"
            },
            "text/html": [
              "\n",
              "  <div id=\"df-4f36c49c-c42f-47ee-b348-e541bdc9dc0e\" class=\"colab-df-container\">\n",
              "    <div>\n",
              "<style scoped>\n",
              "    .dataframe tbody tr th:only-of-type {\n",
              "        vertical-align: middle;\n",
              "    }\n",
              "\n",
              "    .dataframe tbody tr th {\n",
              "        vertical-align: top;\n",
              "    }\n",
              "\n",
              "    .dataframe thead th {\n",
              "        text-align: right;\n",
              "    }\n",
              "</style>\n",
              "<table border=\"1\" class=\"dataframe\">\n",
              "  <thead>\n",
              "    <tr style=\"text-align: right;\">\n",
              "      <th></th>\n",
              "      <th>Text</th>\n",
              "      <th>lable</th>\n",
              "    </tr>\n",
              "  </thead>\n",
              "  <tbody>\n",
              "    <tr>\n",
              "      <th>0</th>\n",
              "      <td>`- This is not ``creative``.  Those are the di...</td>\n",
              "      <td>1</td>\n",
              "    </tr>\n",
              "    <tr>\n",
              "      <th>1</th>\n",
              "      <td>`  :: the term ``standard model`` is itself le...</td>\n",
              "      <td>0</td>\n",
              "    </tr>\n",
              "    <tr>\n",
              "      <th>2</th>\n",
              "      <td>True or false, the situation as of March 200...</td>\n",
              "      <td>0</td>\n",
              "    </tr>\n",
              "    <tr>\n",
              "      <th>3</th>\n",
              "      <td>Next, maybe you could work on being less cond...</td>\n",
              "      <td>1</td>\n",
              "    </tr>\n",
              "    <tr>\n",
              "      <th>4</th>\n",
              "      <td>This page will need disambiguation.</td>\n",
              "      <td>0</td>\n",
              "    </tr>\n",
              "    <tr>\n",
              "      <th>5</th>\n",
              "      <td>:If I may butt in  I've spent the last 1/4 h...</td>\n",
              "      <td>1</td>\n",
              "    </tr>\n",
              "    <tr>\n",
              "      <th>6</th>\n",
              "      <td>` Changed Macedonia link to Macedon; ancients ...</td>\n",
              "      <td>1</td>\n",
              "    </tr>\n",
              "    <tr>\n",
              "      <th>7</th>\n",
              "      <td>`  :::: You're onto something important, there...</td>\n",
              "      <td>1</td>\n",
              "    </tr>\n",
              "    <tr>\n",
              "      <th>8</th>\n",
              "      <td>`I posted this to  because the timeline confus...</td>\n",
              "      <td>0</td>\n",
              "    </tr>\n",
              "    <tr>\n",
              "      <th>9</th>\n",
              "      <td>There is no such thing as Christian religiocen...</td>\n",
              "      <td>1</td>\n",
              "    </tr>\n",
              "  </tbody>\n",
              "</table>\n",
              "</div>\n",
              "    <div class=\"colab-df-buttons\">\n",
              "\n",
              "  <div class=\"colab-df-container\">\n",
              "    <button class=\"colab-df-convert\" onclick=\"convertToInteractive('df-4f36c49c-c42f-47ee-b348-e541bdc9dc0e')\"\n",
              "            title=\"Convert this dataframe to an interactive table.\"\n",
              "            style=\"display:none;\">\n",
              "\n",
              "  <svg xmlns=\"http://www.w3.org/2000/svg\" height=\"24px\" viewBox=\"0 -960 960 960\">\n",
              "    <path d=\"M120-120v-720h720v720H120Zm60-500h600v-160H180v160Zm220 220h160v-160H400v160Zm0 220h160v-160H400v160ZM180-400h160v-160H180v160Zm440 0h160v-160H620v160ZM180-180h160v-160H180v160Zm440 0h160v-160H620v160Z\"/>\n",
              "  </svg>\n",
              "    </button>\n",
              "\n",
              "  <style>\n",
              "    .colab-df-container {\n",
              "      display:flex;\n",
              "      gap: 12px;\n",
              "    }\n",
              "\n",
              "    .colab-df-convert {\n",
              "      background-color: #E8F0FE;\n",
              "      border: none;\n",
              "      border-radius: 50%;\n",
              "      cursor: pointer;\n",
              "      display: none;\n",
              "      fill: #1967D2;\n",
              "      height: 32px;\n",
              "      padding: 0 0 0 0;\n",
              "      width: 32px;\n",
              "    }\n",
              "\n",
              "    .colab-df-convert:hover {\n",
              "      background-color: #E2EBFA;\n",
              "      box-shadow: 0px 1px 2px rgba(60, 64, 67, 0.3), 0px 1px 3px 1px rgba(60, 64, 67, 0.15);\n",
              "      fill: #174EA6;\n",
              "    }\n",
              "\n",
              "    .colab-df-buttons div {\n",
              "      margin-bottom: 4px;\n",
              "    }\n",
              "\n",
              "    [theme=dark] .colab-df-convert {\n",
              "      background-color: #3B4455;\n",
              "      fill: #D2E3FC;\n",
              "    }\n",
              "\n",
              "    [theme=dark] .colab-df-convert:hover {\n",
              "      background-color: #434B5C;\n",
              "      box-shadow: 0px 1px 3px 1px rgba(0, 0, 0, 0.15);\n",
              "      filter: drop-shadow(0px 1px 2px rgba(0, 0, 0, 0.3));\n",
              "      fill: #FFFFFF;\n",
              "    }\n",
              "  </style>\n",
              "\n",
              "    <script>\n",
              "      const buttonEl =\n",
              "        document.querySelector('#df-4f36c49c-c42f-47ee-b348-e541bdc9dc0e button.colab-df-convert');\n",
              "      buttonEl.style.display =\n",
              "        google.colab.kernel.accessAllowed ? 'block' : 'none';\n",
              "\n",
              "      async function convertToInteractive(key) {\n",
              "        const element = document.querySelector('#df-4f36c49c-c42f-47ee-b348-e541bdc9dc0e');\n",
              "        const dataTable =\n",
              "          await google.colab.kernel.invokeFunction('convertToInteractive',\n",
              "                                                    [key], {});\n",
              "        if (!dataTable) return;\n",
              "\n",
              "        const docLinkHtml = 'Like what you see? Visit the ' +\n",
              "          '<a target=\"_blank\" href=https://colab.research.google.com/notebooks/data_table.ipynb>data table notebook</a>'\n",
              "          + ' to learn more about interactive tables.';\n",
              "        element.innerHTML = '';\n",
              "        dataTable['output_type'] = 'display_data';\n",
              "        await google.colab.output.renderOutput(dataTable, element);\n",
              "        const docLink = document.createElement('div');\n",
              "        docLink.innerHTML = docLinkHtml;\n",
              "        element.appendChild(docLink);\n",
              "      }\n",
              "    </script>\n",
              "  </div>\n",
              "\n",
              "\n",
              "<div id=\"df-988f2b9f-34e7-4f74-9cfe-606177863040\">\n",
              "  <button class=\"colab-df-quickchart\" onclick=\"quickchart('df-988f2b9f-34e7-4f74-9cfe-606177863040')\"\n",
              "            title=\"Suggest charts\"\n",
              "            style=\"display:none;\">\n",
              "\n",
              "<svg xmlns=\"http://www.w3.org/2000/svg\" height=\"24px\"viewBox=\"0 0 24 24\"\n",
              "     width=\"24px\">\n",
              "    <g>\n",
              "        <path d=\"M19 3H5c-1.1 0-2 .9-2 2v14c0 1.1.9 2 2 2h14c1.1 0 2-.9 2-2V5c0-1.1-.9-2-2-2zM9 17H7v-7h2v7zm4 0h-2V7h2v10zm4 0h-2v-4h2v4z\"/>\n",
              "    </g>\n",
              "</svg>\n",
              "  </button>\n",
              "\n",
              "<style>\n",
              "  .colab-df-quickchart {\n",
              "      --bg-color: #E8F0FE;\n",
              "      --fill-color: #1967D2;\n",
              "      --hover-bg-color: #E2EBFA;\n",
              "      --hover-fill-color: #174EA6;\n",
              "      --disabled-fill-color: #AAA;\n",
              "      --disabled-bg-color: #DDD;\n",
              "  }\n",
              "\n",
              "  [theme=dark] .colab-df-quickchart {\n",
              "      --bg-color: #3B4455;\n",
              "      --fill-color: #D2E3FC;\n",
              "      --hover-bg-color: #434B5C;\n",
              "      --hover-fill-color: #FFFFFF;\n",
              "      --disabled-bg-color: #3B4455;\n",
              "      --disabled-fill-color: #666;\n",
              "  }\n",
              "\n",
              "  .colab-df-quickchart {\n",
              "    background-color: var(--bg-color);\n",
              "    border: none;\n",
              "    border-radius: 50%;\n",
              "    cursor: pointer;\n",
              "    display: none;\n",
              "    fill: var(--fill-color);\n",
              "    height: 32px;\n",
              "    padding: 0;\n",
              "    width: 32px;\n",
              "  }\n",
              "\n",
              "  .colab-df-quickchart:hover {\n",
              "    background-color: var(--hover-bg-color);\n",
              "    box-shadow: 0 1px 2px rgba(60, 64, 67, 0.3), 0 1px 3px 1px rgba(60, 64, 67, 0.15);\n",
              "    fill: var(--button-hover-fill-color);\n",
              "  }\n",
              "\n",
              "  .colab-df-quickchart-complete:disabled,\n",
              "  .colab-df-quickchart-complete:disabled:hover {\n",
              "    background-color: var(--disabled-bg-color);\n",
              "    fill: var(--disabled-fill-color);\n",
              "    box-shadow: none;\n",
              "  }\n",
              "\n",
              "  .colab-df-spinner {\n",
              "    border: 2px solid var(--fill-color);\n",
              "    border-color: transparent;\n",
              "    border-bottom-color: var(--fill-color);\n",
              "    animation:\n",
              "      spin 1s steps(1) infinite;\n",
              "  }\n",
              "\n",
              "  @keyframes spin {\n",
              "    0% {\n",
              "      border-color: transparent;\n",
              "      border-bottom-color: var(--fill-color);\n",
              "      border-left-color: var(--fill-color);\n",
              "    }\n",
              "    20% {\n",
              "      border-color: transparent;\n",
              "      border-left-color: var(--fill-color);\n",
              "      border-top-color: var(--fill-color);\n",
              "    }\n",
              "    30% {\n",
              "      border-color: transparent;\n",
              "      border-left-color: var(--fill-color);\n",
              "      border-top-color: var(--fill-color);\n",
              "      border-right-color: var(--fill-color);\n",
              "    }\n",
              "    40% {\n",
              "      border-color: transparent;\n",
              "      border-right-color: var(--fill-color);\n",
              "      border-top-color: var(--fill-color);\n",
              "    }\n",
              "    60% {\n",
              "      border-color: transparent;\n",
              "      border-right-color: var(--fill-color);\n",
              "    }\n",
              "    80% {\n",
              "      border-color: transparent;\n",
              "      border-right-color: var(--fill-color);\n",
              "      border-bottom-color: var(--fill-color);\n",
              "    }\n",
              "    90% {\n",
              "      border-color: transparent;\n",
              "      border-bottom-color: var(--fill-color);\n",
              "    }\n",
              "  }\n",
              "</style>\n",
              "\n",
              "  <script>\n",
              "    async function quickchart(key) {\n",
              "      const quickchartButtonEl =\n",
              "        document.querySelector('#' + key + ' button');\n",
              "      quickchartButtonEl.disabled = true;  // To prevent multiple clicks.\n",
              "      quickchartButtonEl.classList.add('colab-df-spinner');\n",
              "      try {\n",
              "        const charts = await google.colab.kernel.invokeFunction(\n",
              "            'suggestCharts', [key], {});\n",
              "      } catch (error) {\n",
              "        console.error('Error during call to suggestCharts:', error);\n",
              "      }\n",
              "      quickchartButtonEl.classList.remove('colab-df-spinner');\n",
              "      quickchartButtonEl.classList.add('colab-df-quickchart-complete');\n",
              "    }\n",
              "    (() => {\n",
              "      let quickchartButtonEl =\n",
              "        document.querySelector('#df-988f2b9f-34e7-4f74-9cfe-606177863040 button');\n",
              "      quickchartButtonEl.style.display =\n",
              "        google.colab.kernel.accessAllowed ? 'block' : 'none';\n",
              "    })();\n",
              "  </script>\n",
              "</div>\n",
              "\n",
              "    </div>\n",
              "  </div>\n"
            ],
            "text/plain": [
              "                                                Text lable\n",
              "0  `- This is not ``creative``.  Those are the di...     1\n",
              "1  `  :: the term ``standard model`` is itself le...     0\n",
              "2    True or false, the situation as of March 200...     0\n",
              "3   Next, maybe you could work on being less cond...     1\n",
              "4               This page will need disambiguation.      0\n",
              "5    :If I may butt in  I've spent the last 1/4 h...     1\n",
              "6  ` Changed Macedonia link to Macedon; ancients ...     1\n",
              "7  `  :::: You're onto something important, there...     1\n",
              "8  `I posted this to  because the timeline confus...     0\n",
              "9  There is no such thing as Christian religiocen...     1"
            ]
          },
          "execution_count": 22,
          "metadata": {},
          "output_type": "execute_result"
        }
      ],
      "source": [
        "import pandas as pd\n",
        "import numpy as np\n",
        "import matplotlib.pyplot as plt\n",
        "import seaborn as sns\n",
        "\n",
        "#READ DATA\n",
        "data=pd.read_csv(\"/content/drive/MyDrive/DATA/Example.csv\")\n",
        "data.head(10)"
      ]
    },
    {
      "cell_type": "code",
      "execution_count": null,
      "metadata": {
        "id": "xXZPCzUoNpHR"
      },
      "outputs": [],
      "source": [
        "from sklearn.feature_extraction.text import TfidfVectorizer\n",
        "from sklearn.model_selection import train_test_split\n",
        "from sklearn.linear_model import LogisticRegressionCV\n",
        "from sklearn import metrics\n",
        "import nltk\n",
        "from nltk.corpus import stopwords\n",
        "import string\n",
        "import re"
      ]
    },
    {
      "cell_type": "code",
      "execution_count": null,
      "metadata": {
        "colab": {
          "base_uri": "https://localhost:8080/"
        },
        "id": "j4X-HbNNMr7A",
        "outputId": "a9c630dd-cc3f-41f8-ca56-223f0dbb1797"
      },
      "outputs": [
        {
          "name": "stdout",
          "output_type": "stream",
          "text": [
            "Drive already mounted at /content/drive; to attempt to forcibly remount, call drive.mount(\"/content/drive\", force_remount=True).\n"
          ]
        }
      ],
      "source": [
        "from google.colab import drive\n",
        "drive.mount('/content/drive')"
      ]
    },
    {
      "cell_type": "markdown",
      "metadata": {
        "id": "HRF4T1CjDPCD"
      },
      "source": [
        "# **SAMPLE DATA 4000**"
      ]
    },
    {
      "cell_type": "code",
      "execution_count": null,
      "metadata": {
        "colab": {
          "base_uri": "https://localhost:8080/"
        },
        "id": "Q-bGeMhvOPRj",
        "outputId": "641e10dd-66f8-4d46-c4cc-f193a9ee23d0"
      },
      "outputs": [
        {
          "name": "stdout",
          "output_type": "stream",
          "text": [
            "235       == Parentage and children ==  I see this was...\n",
            "3980      Wow, that's like six-million times better th...\n",
            "905     `  It seems to me, to use a Christian metaphor...\n",
            "2763    `   Sooooo... Does any OTHER admin want to com...\n",
            "2895      ==  English versions ==  There is not need t...\n",
            "                              ...                        \n",
            "3292     :Like if you were from Switzerland (I'm think...\n",
            "4040      ::Because the Scottish Episcopal Church is a...\n",
            "2548      ::: just because freaky animal lib-ers are o...\n",
            "418     `  Dear Squeakbox:  I have been very polite to...\n",
            "1083      :As I understand it, there's no rule that it...\n",
            "Name: Text, Length: 4000, dtype: object\n",
            "235     0\n",
            "3980    0\n",
            "905     1\n",
            "2763    1\n",
            "2895    1\n",
            "       ..\n",
            "3292    1\n",
            "4040    0\n",
            "2548    1\n",
            "418     1\n",
            "1083    0\n",
            "Name: lable, Length: 4000, dtype: object\n"
          ]
        }
      ],
      "source": [
        "# Sample data\n",
        "\n",
        "sample_data = data.sample(4000,replace=True, random_state=1)\n",
        "X = sample_data['Text']\n",
        "y = sample_data['lable']\n",
        "print(X)\n",
        "print(y)"
      ]
    },
    {
      "cell_type": "code",
      "execution_count": null,
      "metadata": {
        "id": "ycRe9GKrDf-G"
      },
      "outputs": [],
      "source": []
    },
    {
      "cell_type": "markdown",
      "metadata": {
        "id": "T0irolPODbxA"
      },
      "source": [
        "# WORD CLOUD"
      ]
    },
    {
      "cell_type": "code",
      "execution_count": null,
      "metadata": {
        "id": "CIJJm0KtOnPb"
      },
      "outputs": [],
      "source": [
        "from wordcloud import WordCloud"
      ]
    },
    {
      "cell_type": "code",
      "execution_count": null,
      "metadata": {
        "colab": {
          "base_uri": "https://localhost:8080/",
          "height": 285
        },
        "id": "h16b2p9HObe6",
        "outputId": "1f2a201d-7362-44bf-c52e-a7a05eb90b92"
      },
      "outputs": [
        {
          "data": {
            "image/png": "[encoded data removed]",
            "text/plain": [
              "<Figure size 640x480 with 1 Axes>"
            ]
          },
          "metadata": {},
          "output_type": "display_data"
        }
      ],
      "source": [
        "# Sample a subset of the data to avoid processing the entire dataset\n",
        "sample_data = data['Text'].sample(4000, replace=True,random_state=1)  # Adjust the sample size as needed\n",
        "\n",
        "# Create a string with all text data from the sample\n",
        "word_cloud = \" \".join(str(text) for text in sample_data)\n",
        "\n",
        "# Generate the word cloud\n",
        "wordcloud = WordCloud(width=1000, height=500, background_color='white', min_font_size=10).generate(word_cloud)\n",
        "\n",
        "# Display the word cloud\n",
        "plt.imshow(wordcloud, interpolation='bilinear')\n",
        "plt.axis('off')  # Hide axes\n",
        "plt.show()\n"
      ]
    },
    {
      "cell_type": "markdown",
      "metadata": {
        "id": "dV1xQ5vaDmkb"
      },
      "source": [
        "# STOP WORDS"
      ]
    },
    {
      "cell_type": "code",
      "execution_count": null,
      "metadata": {
        "colab": {
          "base_uri": "https://localhost:8080/"
        },
        "id": "oEl3Gwx4Nu_7",
        "outputId": "7312697a-9583-49b8-96b7-65db26f6efe0"
      },
      "outputs": [
        {
          "name": "stderr",
          "output_type": "stream",
          "text": [
            "[nltk_data] Downloading package stopwords to /root/nltk_data...\n",
            "[nltk_data]   Package stopwords is already up-to-date!\n"
          ]
        }
      ],
      "source": [
        "nltk.download('stopwords')\n",
        "stop_words = set(stopwords.words('english'))"
      ]
    },
    {
      "cell_type": "markdown",
      "metadata": {
        "id": "CDuAbe--Drdj"
      },
      "source": [
        "# CLEAN DATA"
      ]
    },
    {
      "cell_type": "code",
      "execution_count": null,
      "metadata": {
        "colab": {
          "base_uri": "https://localhost:8080/",
          "height": 711
        },
        "id": "vxVbkpztN1wa",
        "outputId": "2f6a3363-50bc-4cf2-ca58-0f42788c11b9"
      },
      "outputs": [
        {
          "name": "stderr",
          "output_type": "stream",
          "text": [
            "[nltk_data] Downloading package stopwords to /root/nltk_data...\n",
            "[nltk_data]   Package stopwords is already up-to-date!\n"
          ]
        },
        {
          "data": {
            "application/vnd.google.colaboratory.intrinsic+json": {
              "summary": "{\n  \"name\": \"data\",\n  \"rows\": 4987,\n  \"fields\": [\n    {\n      \"column\": \"Text\",\n      \"properties\": {\n        \"dtype\": \"string\",\n        \"num_unique_values\": 4959,\n        \"samples\": [\n          \"`   You know that the name change is not at all the whole point here. The problems here such as heavily relying on Chinese sources, inaccuracy in historical facts, copying government propaganda, are commonplace not only in this particular article but most all topics on nations colonized under China. And further, if the current situation continues on Wikipedia, you cannot guarentee the so called NPOV. Not only that will be a joke, the whole Wikipedia thing will end up being another hypocratic, ``civilization`` game. The biggest issue here is the mentality behind the creation of these articles and problems here, hence the debate and this is just the beginning. You have to realize that the overwhelming articles on China-occupied regions on Wikipedia are full of POV but not NPOV. So don't keep fulling yourselves. It's time to wake up now.  Those who're currently in advantageous positions here, are so not because they're intelectually and morally strong but just because their numbers are bigger. They are basically consisted of two types: One types are those Chinese who're either been brainwashed and/or are chauvinistic fanatics. And the other types are Americans who (naturally) have so little knowledge about the world outside of northern America. But then they would have hard time admitting that and therefore, they will end up either pretending as they know or they would simply echo the Chinese POV which is largely circulated and readily available. For them, the famous saying, which goes like if you repeat a lie a thousand times it would become the truth, will make perfect sense. That ``truth``, or what you guys are shouting here as ``the common`` names and stuff, is exactly what is blocking not only your eyesights but as well your human consciousness.  One big difference between the two types though are that the Chinese here do know what they are doing because they have their agenda and they're intentional. But the Americans are just naive and are being used.   `\",\n          \"  ==Animated series edits by T-Man== Look, T-man, you just don;t seem to get it.  This page, Legends of the Dark Knight, is about a COMIC BOOK series.  You cannot simply use the =Top Level Tag= to create a confusing double entry on this page for a comic book series and ONE EPISODE OF A TV SHOW.  Episodes of TV shows, especially animated ones, do not get their own wikior top level entry.  I am content with there being a ==Notes== section to point out this fact, although your write-up is too long and unverified and POV on the subject and it should be shortened further. Please wait for consensus now before changing it again. Thoughts by others?  \",\n          \"  Dear Asbestos, I thought admins could unblock themselves.  I've done it before, but found that I couldn't today.  Anyway, it was such a ridiculous ban it was hardly worth commenting on.  I admit I shouldn't have sworn, but Ed's action was completely out of proportion and a deliberate escalation.  And anyway  had already told me off, politely.  I didn't realise everyone was so bloody sensitive.  \\u2014 | \"\n        ],\n        \"semantic_type\": \"\",\n        \"description\": \"\"\n      }\n    },\n    {\n      \"column\": \"lable\",\n      \"properties\": {\n        \"dtype\": \"category\",\n        \"num_unique_values\": 22,\n        \"samples\": [\n          \"1\",\n          \"0.599647002\",\n          \"0.599615742\"\n        ],\n        \"semantic_type\": \"\",\n        \"description\": \"\"\n      }\n    },\n    {\n      \"column\": \"Cleaned_Text\",\n      \"properties\": {\n        \"dtype\": \"string\",\n        \"num_unique_values\": 4916,\n        \"samples\": [\n          \"speaking kjv bad habit using parts sites support claim ignores site done bessel freemasonrybcyca grand lodge definitely habitual problem notice responded plus side gets factual violates userspace policy\",\n          \"album title format redirected album page one simple fact look album cover clearly see hyphen words death grip indicating deathgrip yesterday albums proper correct title\",\n          \"sentence residents belong islamic sect called ahmadiyya muslim association second paragraph changed residents belong islamic sect called ahmadiyya muslim association\"\n        ],\n        \"semantic_type\": \"\",\n        \"description\": \"\"\n      }\n    }\n  ]\n}",
              "type": "dataframe",
              "variable_name": "data"
            },
            "text/html": [
              "\n",
              "  <div id=\"df-10ad5c68-c685-4f09-8778-fcec5029cd04\" class=\"colab-df-container\">\n",
              "    <div>\n",
              "<style scoped>\n",
              "    .dataframe tbody tr th:only-of-type {\n",
              "        vertical-align: middle;\n",
              "    }\n",
              "\n",
              "    .dataframe tbody tr th {\n",
              "        vertical-align: top;\n",
              "    }\n",
              "\n",
              "    .dataframe thead th {\n",
              "        text-align: right;\n",
              "    }\n",
              "</style>\n",
              "<table border=\"1\" class=\"dataframe\">\n",
              "  <thead>\n",
              "    <tr style=\"text-align: right;\">\n",
              "      <th></th>\n",
              "      <th>Text</th>\n",
              "      <th>lable</th>\n",
              "      <th>Cleaned_Text</th>\n",
              "    </tr>\n",
              "  </thead>\n",
              "  <tbody>\n",
              "    <tr>\n",
              "      <th>0</th>\n",
              "      <td>`- This is not ``creative``.  Those are the di...</td>\n",
              "      <td>1</td>\n",
              "      <td>creative dictionary definitions terms insuranc...</td>\n",
              "    </tr>\n",
              "    <tr>\n",
              "      <th>1</th>\n",
              "      <td>`  :: the term ``standard model`` is itself le...</td>\n",
              "      <td>0</td>\n",
              "      <td>term standard model less npov think would pref...</td>\n",
              "    </tr>\n",
              "    <tr>\n",
              "      <th>2</th>\n",
              "      <td>True or false, the situation as of March 200...</td>\n",
              "      <td>0</td>\n",
              "      <td>true false situation march saudi proposal land...</td>\n",
              "    </tr>\n",
              "    <tr>\n",
              "      <th>3</th>\n",
              "      <td>Next, maybe you could work on being less cond...</td>\n",
              "      <td>1</td>\n",
              "      <td>next maybe could work less condescending sugge...</td>\n",
              "    </tr>\n",
              "    <tr>\n",
              "      <th>4</th>\n",
              "      <td>This page will need disambiguation.</td>\n",
              "      <td>0</td>\n",
              "      <td>page need disambiguation</td>\n",
              "    </tr>\n",
              "    <tr>\n",
              "      <th>5</th>\n",
              "      <td>:If I may butt in  I've spent the last 1/4 h...</td>\n",
              "      <td>1</td>\n",
              "      <td>may butt ive spent last hour following andre t...</td>\n",
              "    </tr>\n",
              "    <tr>\n",
              "      <th>6</th>\n",
              "      <td>` Changed Macedonia link to Macedon; ancients ...</td>\n",
              "      <td>1</td>\n",
              "      <td>changed macedonia link macedon ancients call l...</td>\n",
              "    </tr>\n",
              "    <tr>\n",
              "      <th>7</th>\n",
              "      <td>`  :::: You're onto something important, there...</td>\n",
              "      <td>1</td>\n",
              "      <td>onto something important even liturgical renew...</td>\n",
              "    </tr>\n",
              "    <tr>\n",
              "      <th>8</th>\n",
              "      <td>`I posted this to  because the timeline confus...</td>\n",
              "      <td>0</td>\n",
              "      <td>posted timeline confused hey tried clean timel...</td>\n",
              "    </tr>\n",
              "    <tr>\n",
              "      <th>9</th>\n",
              "      <td>There is no such thing as Christian religiocen...</td>\n",
              "      <td>1</td>\n",
              "      <td>thing christian religiocentrism come please st...</td>\n",
              "    </tr>\n",
              "    <tr>\n",
              "      <th>10</th>\n",
              "      <td>`  :Click on my ``Annoying Users`` link! I gue...</td>\n",
              "      <td>1</td>\n",
              "      <td>click annoying users link guess massachusetts ...</td>\n",
              "    </tr>\n",
              "    <tr>\n",
              "      <th>11</th>\n",
              "      <td>`  ¿Why do some people want to remove all fact...</td>\n",
              "      <td>0</td>\n",
              "      <td>people want remove facts normal anatamy functi...</td>\n",
              "    </tr>\n",
              "    <tr>\n",
              "      <th>12</th>\n",
              "      <td>`  Am glad you have asserted we are all equal....</td>\n",
              "      <td>1</td>\n",
              "      <td>glad asserted equal fundamental operationial r...</td>\n",
              "    </tr>\n",
              "    <tr>\n",
              "      <th>13</th>\n",
              "      <td>Is it Gauss or Gauß? I still don't know, can s...</td>\n",
              "      <td>0</td>\n",
              "      <td>gauss gau still know someone deep knowledge ge...</td>\n",
              "    </tr>\n",
              "    <tr>\n",
              "      <th>14</th>\n",
              "      <td>I just save an awful lot -). - fonzy</td>\n",
              "      <td>0</td>\n",
              "      <td>save awful lot fonzy</td>\n",
              "    </tr>\n",
              "    <tr>\n",
              "      <th>15</th>\n",
              "      <td>Iraq is not good  ===  ===  USA is bad</td>\n",
              "      <td>1</td>\n",
              "      <td>iraq good usa bad</td>\n",
              "    </tr>\n",
              "    <tr>\n",
              "      <th>16</th>\n",
              "      <td>Perhaps it was possible to have dual citizen...</td>\n",
              "      <td>0</td>\n",
              "      <td>perhaps possible dual citizenship said maybe s...</td>\n",
              "    </tr>\n",
              "    <tr>\n",
              "      <th>17</th>\n",
              "      <td>`  ``The WTC Towers were constructed almost en...</td>\n",
              "      <td>1</td>\n",
              "      <td>wtc towers constructed almost entirely steel c...</td>\n",
              "    </tr>\n",
              "    <tr>\n",
              "      <th>18</th>\n",
              "      <td>Wikipedia is banned? Why?</td>\n",
              "      <td>1</td>\n",
              "      <td>wikipedia banned</td>\n",
              "    </tr>\n",
              "    <tr>\n",
              "      <th>19</th>\n",
              "      <td>`  ::I've been considering the proposed versio...</td>\n",
              "      <td>1</td>\n",
              "      <td>ive considering proposed version far considera...</td>\n",
              "    </tr>\n",
              "  </tbody>\n",
              "</table>\n",
              "</div>\n",
              "    <div class=\"colab-df-buttons\">\n",
              "\n",
              "  <div class=\"colab-df-container\">\n",
              "    <button class=\"colab-df-convert\" onclick=\"convertToInteractive('df-10ad5c68-c685-4f09-8778-fcec5029cd04')\"\n",
              "            title=\"Convert this dataframe to an interactive table.\"\n",
              "            style=\"display:none;\">\n",
              "\n",
              "  <svg xmlns=\"http://www.w3.org/2000/svg\" height=\"24px\" viewBox=\"0 -960 960 960\">\n",
              "    <path d=\"M120-120v-720h720v720H120Zm60-500h600v-160H180v160Zm220 220h160v-160H400v160Zm0 220h160v-160H400v160ZM180-400h160v-160H180v160Zm440 0h160v-160H620v160ZM180-180h160v-160H180v160Zm440 0h160v-160H620v160Z\"/>\n",
              "  </svg>\n",
              "    </button>\n",
              "\n",
              "  <style>\n",
              "    .colab-df-container {\n",
              "      display:flex;\n",
              "      gap: 12px;\n",
              "    }\n",
              "\n",
              "    .colab-df-convert {\n",
              "      background-color: #E8F0FE;\n",
              "      border: none;\n",
              "      border-radius: 50%;\n",
              "      cursor: pointer;\n",
              "      display: none;\n",
              "      fill: #1967D2;\n",
              "      height: 32px;\n",
              "      padding: 0 0 0 0;\n",
              "      width: 32px;\n",
              "    }\n",
              "\n",
              "    .colab-df-convert:hover {\n",
              "      background-color: #E2EBFA;\n",
              "      box-shadow: 0px 1px 2px rgba(60, 64, 67, 0.3), 0px 1px 3px 1px rgba(60, 64, 67, 0.15);\n",
              "      fill: #174EA6;\n",
              "    }\n",
              "\n",
              "    .colab-df-buttons div {\n",
              "      margin-bottom: 4px;\n",
              "    }\n",
              "\n",
              "    [theme=dark] .colab-df-convert {\n",
              "      background-color: #3B4455;\n",
              "      fill: #D2E3FC;\n",
              "    }\n",
              "\n",
              "    [theme=dark] .colab-df-convert:hover {\n",
              "      background-color: #434B5C;\n",
              "      box-shadow: 0px 1px 3px 1px rgba(0, 0, 0, 0.15);\n",
              "      filter: drop-shadow(0px 1px 2px rgba(0, 0, 0, 0.3));\n",
              "      fill: #FFFFFF;\n",
              "    }\n",
              "  </style>\n",
              "\n",
              "    <script>\n",
              "      const buttonEl =\n",
              "        document.querySelector('#df-10ad5c68-c685-4f09-8778-fcec5029cd04 button.colab-df-convert');\n",
              "      buttonEl.style.display =\n",
              "        google.colab.kernel.accessAllowed ? 'block' : 'none';\n",
              "\n",
              "      async function convertToInteractive(key) {\n",
              "        const element = document.querySelector('#df-10ad5c68-c685-4f09-8778-fcec5029cd04');\n",
              "        const dataTable =\n",
              "          await google.colab.kernel.invokeFunction('convertToInteractive',\n",
              "                                                    [key], {});\n",
              "        if (!dataTable) return;\n",
              "\n",
              "        const docLinkHtml = 'Like what you see? Visit the ' +\n",
              "          '<a target=\"_blank\" href=https://colab.research.google.com/notebooks/data_table.ipynb>data table notebook</a>'\n",
              "          + ' to learn more about interactive tables.';\n",
              "        element.innerHTML = '';\n",
              "        dataTable['output_type'] = 'display_data';\n",
              "        await google.colab.output.renderOutput(dataTable, element);\n",
              "        const docLink = document.createElement('div');\n",
              "        docLink.innerHTML = docLinkHtml;\n",
              "        element.appendChild(docLink);\n",
              "      }\n",
              "    </script>\n",
              "  </div>\n",
              "\n",
              "\n",
              "<div id=\"df-4edea53e-f16c-4c3d-b072-13fcc0946e7f\">\n",
              "  <button class=\"colab-df-quickchart\" onclick=\"quickchart('df-4edea53e-f16c-4c3d-b072-13fcc0946e7f')\"\n",
              "            title=\"Suggest charts\"\n",
              "            style=\"display:none;\">\n",
              "\n",
              "<svg xmlns=\"http://www.w3.org/2000/svg\" height=\"24px\"viewBox=\"0 0 24 24\"\n",
              "     width=\"24px\">\n",
              "    <g>\n",
              "        <path d=\"M19 3H5c-1.1 0-2 .9-2 2v14c0 1.1.9 2 2 2h14c1.1 0 2-.9 2-2V5c0-1.1-.9-2-2-2zM9 17H7v-7h2v7zm4 0h-2V7h2v10zm4 0h-2v-4h2v4z\"/>\n",
              "    </g>\n",
              "</svg>\n",
              "  </button>\n",
              "\n",
              "<style>\n",
              "  .colab-df-quickchart {\n",
              "      --bg-color: #E8F0FE;\n",
              "      --fill-color: #1967D2;\n",
              "      --hover-bg-color: #E2EBFA;\n",
              "      --hover-fill-color: #174EA6;\n",
              "      --disabled-fill-color: #AAA;\n",
              "      --disabled-bg-color: #DDD;\n",
              "  }\n",
              "\n",
              "  [theme=dark] .colab-df-quickchart {\n",
              "      --bg-color: #3B4455;\n",
              "      --fill-color: #D2E3FC;\n",
              "      --hover-bg-color: #434B5C;\n",
              "      --hover-fill-color: #FFFFFF;\n",
              "      --disabled-bg-color: #3B4455;\n",
              "      --disabled-fill-color: #666;\n",
              "  }\n",
              "\n",
              "  .colab-df-quickchart {\n",
              "    background-color: var(--bg-color);\n",
              "    border: none;\n",
              "    border-radius: 50%;\n",
              "    cursor: pointer;\n",
              "    display: none;\n",
              "    fill: var(--fill-color);\n",
              "    height: 32px;\n",
              "    padding: 0;\n",
              "    width: 32px;\n",
              "  }\n",
              "\n",
              "  .colab-df-quickchart:hover {\n",
              "    background-color: var(--hover-bg-color);\n",
              "    box-shadow: 0 1px 2px rgba(60, 64, 67, 0.3), 0 1px 3px 1px rgba(60, 64, 67, 0.15);\n",
              "    fill: var(--button-hover-fill-color);\n",
              "  }\n",
              "\n",
              "  .colab-df-quickchart-complete:disabled,\n",
              "  .colab-df-quickchart-complete:disabled:hover {\n",
              "    background-color: var(--disabled-bg-color);\n",
              "    fill: var(--disabled-fill-color);\n",
              "    box-shadow: none;\n",
              "  }\n",
              "\n",
              "  .colab-df-spinner {\n",
              "    border: 2px solid var(--fill-color);\n",
              "    border-color: transparent;\n",
              "    border-bottom-color: var(--fill-color);\n",
              "    animation:\n",
              "      spin 1s steps(1) infinite;\n",
              "  }\n",
              "\n",
              "  @keyframes spin {\n",
              "    0% {\n",
              "      border-color: transparent;\n",
              "      border-bottom-color: var(--fill-color);\n",
              "      border-left-color: var(--fill-color);\n",
              "    }\n",
              "    20% {\n",
              "      border-color: transparent;\n",
              "      border-left-color: var(--fill-color);\n",
              "      border-top-color: var(--fill-color);\n",
              "    }\n",
              "    30% {\n",
              "      border-color: transparent;\n",
              "      border-left-color: var(--fill-color);\n",
              "      border-top-color: var(--fill-color);\n",
              "      border-right-color: var(--fill-color);\n",
              "    }\n",
              "    40% {\n",
              "      border-color: transparent;\n",
              "      border-right-color: var(--fill-color);\n",
              "      border-top-color: var(--fill-color);\n",
              "    }\n",
              "    60% {\n",
              "      border-color: transparent;\n",
              "      border-right-color: var(--fill-color);\n",
              "    }\n",
              "    80% {\n",
              "      border-color: transparent;\n",
              "      border-right-color: var(--fill-color);\n",
              "      border-bottom-color: var(--fill-color);\n",
              "    }\n",
              "    90% {\n",
              "      border-color: transparent;\n",
              "      border-bottom-color: var(--fill-color);\n",
              "    }\n",
              "  }\n",
              "</style>\n",
              "\n",
              "  <script>\n",
              "    async function quickchart(key) {\n",
              "      const quickchartButtonEl =\n",
              "        document.querySelector('#' + key + ' button');\n",
              "      quickchartButtonEl.disabled = true;  // To prevent multiple clicks.\n",
              "      quickchartButtonEl.classList.add('colab-df-spinner');\n",
              "      try {\n",
              "        const charts = await google.colab.kernel.invokeFunction(\n",
              "            'suggestCharts', [key], {});\n",
              "      } catch (error) {\n",
              "        console.error('Error during call to suggestCharts:', error);\n",
              "      }\n",
              "      quickchartButtonEl.classList.remove('colab-df-spinner');\n",
              "      quickchartButtonEl.classList.add('colab-df-quickchart-complete');\n",
              "    }\n",
              "    (() => {\n",
              "      let quickchartButtonEl =\n",
              "        document.querySelector('#df-4edea53e-f16c-4c3d-b072-13fcc0946e7f button');\n",
              "      quickchartButtonEl.style.display =\n",
              "        google.colab.kernel.accessAllowed ? 'block' : 'none';\n",
              "    })();\n",
              "  </script>\n",
              "</div>\n",
              "\n",
              "    </div>\n",
              "  </div>\n"
            ],
            "text/plain": [
              "                                                 Text lable  \\\n",
              "0   `- This is not ``creative``.  Those are the di...     1   \n",
              "1   `  :: the term ``standard model`` is itself le...     0   \n",
              "2     True or false, the situation as of March 200...     0   \n",
              "3    Next, maybe you could work on being less cond...     1   \n",
              "4                This page will need disambiguation.      0   \n",
              "5     :If I may butt in  I've spent the last 1/4 h...     1   \n",
              "6   ` Changed Macedonia link to Macedon; ancients ...     1   \n",
              "7   `  :::: You're onto something important, there...     1   \n",
              "8   `I posted this to  because the timeline confus...     0   \n",
              "9   There is no such thing as Christian religiocen...     1   \n",
              "10  `  :Click on my ``Annoying Users`` link! I gue...     1   \n",
              "11  `  ¿Why do some people want to remove all fact...     0   \n",
              "12  `  Am glad you have asserted we are all equal....     1   \n",
              "13  Is it Gauss or Gauß? I still don't know, can s...     0   \n",
              "14               I just save an awful lot -). - fonzy     0   \n",
              "15          Iraq is not good  ===  ===  USA is bad        1   \n",
              "16    Perhaps it was possible to have dual citizen...     0   \n",
              "17  `  ``The WTC Towers were constructed almost en...     1   \n",
              "18                        Wikipedia is banned? Why?       1   \n",
              "19  `  ::I've been considering the proposed versio...     1   \n",
              "\n",
              "                                         Cleaned_Text  \n",
              "0   creative dictionary definitions terms insuranc...  \n",
              "1   term standard model less npov think would pref...  \n",
              "2   true false situation march saudi proposal land...  \n",
              "3   next maybe could work less condescending sugge...  \n",
              "4                            page need disambiguation  \n",
              "5   may butt ive spent last hour following andre t...  \n",
              "6   changed macedonia link macedon ancients call l...  \n",
              "7   onto something important even liturgical renew...  \n",
              "8   posted timeline confused hey tried clean timel...  \n",
              "9   thing christian religiocentrism come please st...  \n",
              "10  click annoying users link guess massachusetts ...  \n",
              "11  people want remove facts normal anatamy functi...  \n",
              "12  glad asserted equal fundamental operationial r...  \n",
              "13  gauss gau still know someone deep knowledge ge...  \n",
              "14                               save awful lot fonzy  \n",
              "15                                  iraq good usa bad  \n",
              "16  perhaps possible dual citizenship said maybe s...  \n",
              "17  wtc towers constructed almost entirely steel c...  \n",
              "18                                   wikipedia banned  \n",
              "19  ive considering proposed version far considera...  "
            ]
          },
          "execution_count": 29,
          "metadata": {},
          "output_type": "execute_result"
        }
      ],
      "source": [
        "import re\n",
        "import string\n",
        "from nltk.corpus import stopwords\n",
        "\n",
        "nltk.download('stopwords')\n",
        "stop_words = set(stopwords.words('english'))\n",
        "\n",
        "# Dictionary of short forms and their corresponding full forms\n",
        "abbreviation_map = {\n",
        "    \"isn't\": \"is not\",\n",
        "    \"aren't\": \"are not\",\n",
        "    \"can't\": \"cannot\",\n",
        "    \"couldn't\": \"could not\",\n",
        "    \"don't\": \"do not\",\n",
        "    \"doesn't\": \"does not\",\n",
        "    \"it's\": \"it is\",\n",
        "    \"i'm\": \"I am\",\n",
        "    \"you're\": \"you are\",\n",
        "    \"he's\": \"he is\",\n",
        "    \"she's\": \"she is\",\n",
        "    \"we're\": \"we are\",\n",
        "    \"they're\": \"they are\",\n",
        "    \"I've\": \"I have\",\n",
        "    \"we've\": \"we have\",\n",
        "    \"you've\": \"you have\",\n",
        "    \"they've\": \"they have\",\n",
        "    \"I'll\": \"I will\",\n",
        "    \"you'll\": \"you will\",\n",
        "    \"he'll\": \"he will\",\n",
        "    \"she'll\": \"she will\",\n",
        "    \"we'll\": \"we will\",\n",
        "    \"they'll\": \"they will\",\n",
        "    \"I'd\": \"I would\",\n",
        "    \"you'd\": \"you would\",\n",
        "    \"he'd\": \"he would\",\n",
        "    \"she'd\": \"she would\",\n",
        "    \"we'd\": \"we would\",\n",
        "    \"they'd\": \"they would\",\n",
        "    \"let's\": \"let us\",\n",
        "    \"who's\": \"who is\",\n",
        "    \"what's\": \"what is\",\n",
        "    \"where's\": \"where is\",\n",
        "    \"there's\": \"there is\",\n",
        "    \"here's\": \"here is\",\n",
        "    \"that's\": \"that is\",\n",
        "    \"how's\": \"how is\",\n",
        "    \"isn't\": \"is not\",\n",
        "    \"didn't\": \"did not\",\n",
        "    \"wasn't\": \"was not\",\n",
        "    \"weren't\": \"were not\",\n",
        "    \"wouldn't\": \"would not\",\n",
        "    \"shouldn't\": \"should not\",\n",
        "    \"hasn't\": \"has not\",\n",
        "    \"hadn't\": \"had not\",\n",
        "    \"won't\": \"will not\",\n",
        "    \"wouldn't\": \"would not\",\n",
        "    \"couldn't\": \"could not\",\n",
        "    \"doesn't\": \"does not\"\n",
        "}\n",
        "\n",
        "def clean_text(text):\n",
        "    # Handle potential float values by converting to string first\n",
        "    if isinstance(text, float):\n",
        "        text = str(text)\n",
        "\n",
        "    # Convert to lowercase\n",
        "    text = text.lower()\n",
        "\n",
        "    # Replace short forms with full forms\n",
        "    for short_form, full_form in abbreviation_map.items():\n",
        "        text = text.replace(short_form, full_form)\n",
        "\n",
        "    # Remove URLs\n",
        "    text = re.sub(r'http\\S+|www\\S+|https\\S+', '', text, flags=re.MULTILINE)\n",
        "\n",
        "    # Remove email addresses\n",
        "    text = re.sub(r'\\b\\w+@\\w+\\.\\w+\\b', '', text)\n",
        "\n",
        "    # Remove digits\n",
        "    text = re.sub(r'\\d+', '', text)\n",
        "\n",
        "    # Remove punctuation\n",
        "    text = text.translate(str.maketrans('', '', string.punctuation))\n",
        "\n",
        "    # Remove extra whitespace\n",
        "    text = text.strip()\n",
        "\n",
        "    # Remove multiple spaces\n",
        "    text = re.sub(r'\\s+', ' ', text)\n",
        "    # Remove special characters and short words\n",
        "    text = re.sub(r':|<|>|>>|[^a-zA-Z\\s]', '', text)\n",
        "\n",
        "    # Remove 1 or 2 character words (excluding specific words like \"no\")\n",
        "    words_to_keep = [\"no\"]\n",
        "    pattern = r'\\b(?!' + r'\\b|\\b'.join(words_to_keep) + r'\\b)\\w{1,2}\\b'\n",
        "    text = re.sub(pattern, '', text)\n",
        "\n",
        "    # Remove stopwords\n",
        "    text = ' '.join([word for word in text.split() if word not in stop_words])\n",
        "\n",
        "    return text\n",
        "\n",
        "# Apply the function to the 'Text' column of your DataFrame\n",
        "data['Text'] = data['Text'].apply(clean_text)\n",
        "data = pd.read_csv('/content/drive/MyDrive/DATA/Example.csv')\n",
        "\n",
        "# Apply the clean_text function to the 'Text' column of your DataFrame\n",
        "data['Cleaned_Text'] = data['Text'].apply(clean_text)\n",
        "\n",
        "# Save the cleaned data to a new CSV file\n",
        "data.to_csv('cleaned_data.csv', index=False)\n",
        "\n",
        "data.head(20)\n"
      ]
    },
    {
      "cell_type": "code",
      "execution_count": null,
      "metadata": {
        "colab": {
          "base_uri": "https://localhost:8080/"
        },
        "id": "JcwcliSDt1dN",
        "outputId": "d671222f-544e-4c07-f241-217afb5211f1"
      },
      "outputs": [
        {
          "name": "stdout",
          "output_type": "stream",
          "text": [
            "(4987, 3)\n",
            "                                                Text lable  \\\n",
            "0  `- This is not ``creative``.  Those are the di...     1   \n",
            "1  `  :: the term ``standard model`` is itself le...     0   \n",
            "2    True or false, the situation as of March 200...     0   \n",
            "3   Next, maybe you could work on being less cond...     1   \n",
            "4               This page will need disambiguation.      0   \n",
            "\n",
            "                                        Cleaned_Text  \n",
            "0  creative dictionary definitions terms insuranc...  \n",
            "1  term standard model less npov think would pref...  \n",
            "2  true false situation march saudi proposal land...  \n",
            "3  next maybe could work less condescending sugge...  \n",
            "4                           page need disambiguation  \n",
            "Index(['Text', 'lable', 'Cleaned_Text'], dtype='object')\n",
            "235       == Parentage and children ==  I see this was...\n",
            "3980      Wow, that's like six-million times better th...\n",
            "905     `  It seems to me, to use a Christian metaphor...\n",
            "2763    `   Sooooo... Does any OTHER admin want to com...\n",
            "2895      ==  English versions ==  There is not need t...\n",
            "Name: Text, dtype: object\n",
            "235     0\n",
            "3980    0\n",
            "905     1\n",
            "2763    1\n",
            "2895    1\n",
            "Name: lable, dtype: object\n"
          ]
        }
      ],
      "source": [
        "\n",
        "data.head()\n",
        "data.shape\n",
        "print(data.shape)\n",
        "print(data.head())\n",
        "print(data.columns)\n",
        "print(X.head())\n",
        "print(y.head())\n"
      ]
    },
    {
      "cell_type": "markdown",
      "metadata": {
        "id": "N6fNpGzsz5pc"
      },
      "source": [
        "Eliminate last 17 thousand dataset beacuse its too long and time wasting"
      ]
    },
    {
      "cell_type": "code",
      "execution_count": null,
      "metadata": {
        "id": "EOwe7nRdt3lD"
      },
      "outputs": [],
      "source": [
        "data = data.iloc[:4000,:]"
      ]
    },
    {
      "cell_type": "code",
      "execution_count": null,
      "metadata": {
        "colab": {
          "base_uri": "https://localhost:8080/",
          "height": 178
        },
        "id": "mKkKpAAEt-cy",
        "outputId": "cf501e69-5eac-449d-a3d8-e8c0a9747945"
      },
      "outputs": [
        {
          "data": {
            "text/html": [
              "<div>\n",
              "<style scoped>\n",
              "    .dataframe tbody tr th:only-of-type {\n",
              "        vertical-align: middle;\n",
              "    }\n",
              "\n",
              "    .dataframe tbody tr th {\n",
              "        vertical-align: top;\n",
              "    }\n",
              "\n",
              "    .dataframe thead th {\n",
              "        text-align: right;\n",
              "    }\n",
              "</style>\n",
              "<table border=\"1\" class=\"dataframe\">\n",
              "  <thead>\n",
              "    <tr style=\"text-align: right;\">\n",
              "      <th></th>\n",
              "      <th>count</th>\n",
              "    </tr>\n",
              "    <tr>\n",
              "      <th>lable</th>\n",
              "      <th></th>\n",
              "    </tr>\n",
              "  </thead>\n",
              "  <tbody>\n",
              "    <tr>\n",
              "      <th>1</th>\n",
              "      <td>2330</td>\n",
              "    </tr>\n",
              "    <tr>\n",
              "      <th>0</th>\n",
              "      <td>1670</td>\n",
              "    </tr>\n",
              "  </tbody>\n",
              "</table>\n",
              "</div><br><label><b>dtype:</b> int64</label>"
            ],
            "text/plain": [
              "lable\n",
              "1    2330\n",
              "0    1670\n",
              "Name: count, dtype: int64"
            ]
          },
          "execution_count": 32,
          "metadata": {},
          "output_type": "execute_result"
        }
      ],
      "source": [
        "data['lable'].value_counts()"
      ]
    },
    {
      "cell_type": "markdown",
      "metadata": {
        "id": "KJiyQt7601hl"
      },
      "source": [
        "visualize the leable"
      ]
    },
    {
      "cell_type": "code",
      "execution_count": null,
      "metadata": {
        "colab": {
          "base_uri": "https://localhost:8080/",
          "height": 461
        },
        "id": "mseqOBt-uBhC",
        "outputId": "2df21322-b38a-4fe9-d503-d878b14040cf"
      },
      "outputs": [
        {
          "data": {
            "text/plain": [
              "<Axes: xlabel='lable'>"
            ]
          },
          "execution_count": 33,
          "metadata": {},
          "output_type": "execute_result"
        },
        {
          "data": {
            "image/png": "[encoded data removed]",
            "text/plain": [
              "<Figure size 640x480 with 1 Axes>"
            ]
          },
          "metadata": {},
          "output_type": "display_data"
        }
      ],
      "source": [
        "data['lable'].value_counts().plot(kind='bar')"
      ]
    },
    {
      "cell_type": "markdown",
      "metadata": {
        "id": "MVZqiuSw1TLL"
      },
      "source": [
        "Creating a pie chart for the label i got"
      ]
    },
    {
      "cell_type": "code",
      "execution_count": null,
      "metadata": {
        "colab": {
          "base_uri": "https://localhost:8080/",
          "height": 538
        },
        "id": "WfSo8LLkuNeM",
        "outputId": "6514f124-70c5-443f-d4f9-2bb14fd76103"
      },
      "outputs": [
        {
          "data": {
            "text/plain": [
              "Text(0.5, 1.0, 'label distribution')"
            ]
          },
          "execution_count": 34,
          "metadata": {},
          "output_type": "execute_result"
        },
        {
          "data": {
            "image/png": "[encoded data removed]",
            "text/plain": [
              "<Figure size 1000x600 with 1 Axes>"
            ]
          },
          "metadata": {},
          "output_type": "display_data"
        }
      ],
      "source": [
        "plt.figure(figsize=(10,6))\n",
        "colors = ['green', 'orange']\n",
        "data['lable'].value_counts().plot(kind='pie', autopct='%.1f%%',shadow = True,colors = colors,startangle = 45,\n",
        "                 explode=(0, 0.1))\n",
        "plt.title('label distribution')\n"
      ]
    },
    {
      "cell_type": "markdown",
      "metadata": {
        "id": "go0IQJDf1rpG"
      },
      "source": [
        "the code is trying to extract the value at the 999th position within the  column"
      ]
    },
    {
      "cell_type": "markdown",
      "metadata": {
        "id": "jaiL9tQg2ITO"
      },
      "source": [
        "visualizing the negetive and positive words,it counts frequents word of each category"
      ]
    },
    {
      "cell_type": "code",
      "execution_count": null,
      "metadata": {
        "colab": {
          "base_uri": "https://localhost:8080/",
          "height": 36
        },
        "id": "_rfmpiYR-rBZ",
        "outputId": "b1e2a24b-0de4-48ce-95dd-dd78da382623"
      },
      "outputs": [
        {
          "data": {
            "application/vnd.google.colaboratory.intrinsic+json": {
              "type": "string"
            },
            "text/plain": [
              "'  == Pig Fenian ==  Nice wrist action boys, keep it up.  '"
            ]
          },
          "execution_count": 35,
          "metadata": {},
          "output_type": "execute_result"
        }
      ],
      "source": [
        "data['Text'][999]"
      ]
    },
    {
      "cell_type": "code",
      "execution_count": null,
      "metadata": {
        "colab": {
          "base_uri": "https://localhost:8080/"
        },
        "id": "dJoIrMu-Ehcr",
        "outputId": "7350d02b-9322-469b-d2e5-f82bc2f7722a"
      },
      "outputs": [
        {
          "name": "stdout",
          "output_type": "stream",
          "text": [
            "Index(['Text', 'lable', 'Cleaned_Text'], dtype='object')\n"
          ]
        }
      ],
      "source": [
        "print(data.columns)"
      ]
    },
    {
      "cell_type": "markdown",
      "metadata": {
        "id": "YtW5wapYE8JR"
      },
      "source": []
    },
    {
      "cell_type": "markdown",
      "metadata": {
        "id": "EKVgQ5jb2vpy"
      },
      "source": [
        "Text to numbering featuress\n"
      ]
    },
    {
      "cell_type": "markdown",
      "metadata": {
        "id": "wLY1JURWD2Qu"
      },
      "source": [
        "# Text to matrix"
      ]
    },
    {
      "cell_type": "markdown",
      "metadata": {
        "id": "qQ6rZbS1JroR"
      },
      "source": [
        "# **Use TfidfVectorizer**"
      ]
    },
    {
      "cell_type": "code",
      "execution_count": null,
      "metadata": {
        "id": "0adpeFSSwPDL"
      },
      "outputs": [],
      "source": [
        "from sklearn.feature_extraction.text import TfidfVectorizer # convert a collection of raw text documents into a matrix\n",
        "tfidf=TfidfVectorizer(strip_accents=None,lowercase=False,preprocessor=None,use_idf=True,norm='l2',smooth_idf=True)\n",
        "# Extract the label values from the 'data' DataFrame and assign them to variable 'y'\n",
        "data['Text'] = data['Text'].fillna('')\n",
        "y=data.lable.values\n",
        "x=tfidf.fit_transform(data.Text)"
      ]
    },
    {
      "cell_type": "code",
      "execution_count": null,
      "metadata": {
        "id": "9uR46WkYwoHb"
      },
      "outputs": [],
      "source": [
        "from sklearn.model_selection import train_test_split\n",
        "X_train,X_test,y_train,y_test=train_test_split(x,y,random_state=1,test_size=0.2,shuffle=False)"
      ]
    },
    {
      "cell_type": "code",
      "execution_count": null,
      "metadata": {
        "colab": {
          "base_uri": "https://localhost:8080/"
        },
        "id": "Y9NtxbNBwqf0",
        "outputId": "996cd176-6026-4cf7-fda2-e3d5db18a4c0"
      },
      "outputs": [
        {
          "name": "stderr",
          "output_type": "stream",
          "text": [
            "[Parallel(n_jobs=-1)]: Using backend LokyBackend with 2 concurrent workers.\n",
            "[Parallel(n_jobs=-1)]: Done   6 out of   6 | elapsed:   57.2s finished\n"
          ]
        }
      ],
      "source": [
        "from sklearn.linear_model import LogisticRegressionCV\n",
        "#cross-validation to select the best regularization parameter.\n",
        "clf=LogisticRegressionCV(cv=6,scoring='accuracy',random_state=0,n_jobs=-1,verbose=3,max_iter=500).fit(X_train,y_train)\n",
        "y_pred = clf.predict(X_test)"
      ]
    },
    {
      "cell_type": "code",
      "execution_count": null,
      "metadata": {
        "colab": {
          "base_uri": "https://localhost:8080/"
        },
        "id": "6MvXKEGYxUhZ",
        "outputId": "f8f616af-0b56-4c2c-fd84-742839829f02"
      },
      "outputs": [
        {
          "name": "stdout",
          "output_type": "stream",
          "text": [
            "Test Accuracy: 0.6025\n",
            "Train Accuracy: 0.5775\n"
          ]
        }
      ],
      "source": [
        "from sklearn import metrics\n",
        "\n",
        "\n",
        "print(\"Test Accuracy:\", metrics.accuracy_score(y_test, y_pred))\n",
        "print(\"Train Accuracy:\", metrics.accuracy_score(y_train, clf.predict(X_train)))\n"
      ]
    },
    {
      "cell_type": "markdown",
      "metadata": {
        "id": "_4sOCcqFKG8N"
      },
      "source": [
        "# Random Forest Classifier"
      ]
    },
    {
      "cell_type": "code",
      "execution_count": null,
      "metadata": {
        "colab": {
          "base_uri": "https://localhost:8080/"
        },
        "id": "OOdzDX8j_Q4a",
        "outputId": "8ab10ef5-1ad9-43c8-9dae-7f6b0557dd73"
      },
      "outputs": [
        {
          "name": "stdout",
          "output_type": "stream",
          "text": [
            "Accuracy: 0.55\n"
          ]
        }
      ],
      "source": [
        "from sklearn.feature_extraction.text import CountVectorizer\n",
        "from sklearn.ensemble import RandomForestClassifier\n",
        "from sklearn.model_selection import train_test_split\n",
        "from sklearn.metrics import accuracy_score\n",
        "\n",
        "# Step 1: Convert the text data into numerical features\n",
        "vectorizer = CountVectorizer(strip_accents=None, lowercase=False, preprocessor=None)\n",
        "X = vectorizer.fit_transform(data.Text)\n",
        "\n",
        "# Step 2: Extract the label values\n",
        "y = data.lable.values\n",
        "\n",
        "# Step 3: Split the data into training and testing sets\n",
        "X_train, X_test, y_train, y_test = train_test_split(X, y, test_size=0.2, random_state=42)\n",
        "\n",
        "# Step 4: Train the Random Forest classifier\n",
        "rf = RandomForestClassifier(n_estimators=100, random_state=42)\n",
        "rf.fit(X_train, y_train)\n",
        "\n",
        "# Step 5: Make predictions on the test set\n",
        "y_pred = rf.predict(X_test)\n",
        "\n",
        "# Step 6: Evaluate the model\n",
        "accuracy = accuracy_score(y_test, y_pred)\n",
        "print(f'Accuracy: {accuracy:.2f}')\n"
      ]
    },
    {
      "cell_type": "markdown",
      "metadata": {
        "id": "3OsrRJHoKP0U"
      },
      "source": [
        "# LSTM"
      ]
    },
    {
      "cell_type": "code",
      "execution_count": null,
      "metadata": {
        "id": "gTvPPiaBAjBP"
      },
      "outputs": [],
      "source": [
        "import numpy as np\n",
        "import pandas as pd\n",
        "from tensorflow.keras.preprocessing.text import Tokenizer\n",
        "from tensorflow.keras.preprocessing.sequence import pad_sequences\n",
        "from tensorflow.keras.models import Sequential\n",
        "from tensorflow.keras.layers import Embedding, LSTM, Dense, Dropout\n",
        "from tensorflow.keras.optimizers import Adam\n",
        "from sklearn.model_selection import train_test_split\n",
        "from sklearn.preprocessing import LabelEncoder\n",
        "from sklearn.metrics import accuracy_score\n"
      ]
    },
    {
      "cell_type": "code",
      "execution_count": null,
      "metadata": {
        "colab": {
          "background_save": true,
          "base_uri": "https://localhost:8080/"
        },
        "id": "nk7YjElUADWF",
        "outputId": "a6ef78ae-672a-4965-ca40-dc0b5a415c89"
      },
      "outputs": [
        {
          "name": "stdout",
          "output_type": "stream",
          "text": [
            "Epoch 1/10\n"
          ]
        },
        {
          "name": "stderr",
          "output_type": "stream",
          "text": [
            "/usr/local/lib/python3.10/dist-packages/keras/src/layers/core/embedding.py:90: UserWarning: Argument `input_length` is deprecated. Just remove it.\n",
            "  warnings.warn(\n"
          ]
        },
        {
          "name": "stdout",
          "output_type": "stream",
          "text": [
            "\u001b[1m50/50\u001b[0m \u001b[32m━━━━━━━━━━━━━━━━━━━━\u001b[0m\u001b[37m\u001b[0m \u001b[1m29s\u001b[0m 451ms/step - accuracy: 0.5676 - loss: 0.6875 - val_accuracy: 0.5725 - val_loss: 0.6834\n",
            "Epoch 2/10\n",
            "\u001b[1m50/50\u001b[0m \u001b[32m━━━━━━━━━━━━━━━━━━━━\u001b[0m\u001b[37m\u001b[0m \u001b[1m35s\u001b[0m 345ms/step - accuracy: 0.5665 - loss: 0.6857 - val_accuracy: 0.5725 - val_loss: 0.6828\n",
            "Epoch 3/10\n",
            "\u001b[1m50/50\u001b[0m \u001b[32m━━━━━━━━━━━━━━━━━━━━\u001b[0m\u001b[37m\u001b[0m \u001b[1m18s\u001b[0m 357ms/step - accuracy: 0.5854 - loss: 0.6796 - val_accuracy: 0.5725 - val_loss: 0.6849\n",
            "Epoch 4/10\n",
            "\u001b[1m50/50\u001b[0m \u001b[32m━━━━━━━━━━━━━━━━━━━━\u001b[0m\u001b[37m\u001b[0m \u001b[1m20s\u001b[0m 346ms/step - accuracy: 0.5983 - loss: 0.6654 - val_accuracy: 0.5612 - val_loss: 0.6934\n",
            "Epoch 5/10\n",
            "\u001b[1m50/50\u001b[0m \u001b[32m━━━━━━━━━━━━━━━━━━━━\u001b[0m\u001b[37m\u001b[0m \u001b[1m21s\u001b[0m 350ms/step - accuracy: 0.6217 - loss: 0.6359 - val_accuracy: 0.5612 - val_loss: 0.7253\n",
            "Epoch 6/10\n",
            "\u001b[1m50/50\u001b[0m \u001b[32m━━━━━━━━━━━━━━━━━━━━\u001b[0m\u001b[37m\u001b[0m \u001b[1m23s\u001b[0m 398ms/step - accuracy: 0.6548 - loss: 0.5879 - val_accuracy: 0.5537 - val_loss: 0.8513\n",
            "Epoch 7/10\n",
            "\u001b[1m50/50\u001b[0m \u001b[32m━━━━━━━━━━━━━━━━━━━━\u001b[0m\u001b[37m\u001b[0m \u001b[1m19s\u001b[0m 386ms/step - accuracy: 0.6446 - loss: 0.5869 - val_accuracy: 0.5362 - val_loss: 0.8572\n",
            "Epoch 8/10\n",
            "\u001b[1m50/50\u001b[0m \u001b[32m━━━━━━━━━━━━━━━━━━━━\u001b[0m\u001b[37m\u001b[0m \u001b[1m19s\u001b[0m 353ms/step - accuracy: 0.6745 - loss: 0.5452 - val_accuracy: 0.5537 - val_loss: 0.8691\n",
            "Epoch 9/10\n",
            "\u001b[1m50/50\u001b[0m \u001b[32m━━━━━━━━━━━━━━━━━━━━\u001b[0m\u001b[37m\u001b[0m \u001b[1m17s\u001b[0m 345ms/step - accuracy: 0.6903 - loss: 0.5403 - val_accuracy: 0.5437 - val_loss: 0.9099\n",
            "Epoch 10/10\n",
            "\u001b[1m50/50\u001b[0m \u001b[32m━━━━━━━━━━━━━━━━━━━━\u001b[0m\u001b[37m\u001b[0m \u001b[1m20s\u001b[0m 341ms/step - accuracy: 0.7013 - loss: 0.5299 - val_accuracy: 0.5500 - val_loss: 0.8781\n",
            "\u001b[1m25/25\u001b[0m \u001b[32m━━━━━━━━━━━━━━━━━━━━\u001b[0m\u001b[37m\u001b[0m \u001b[1m3s\u001b[0m 120ms/step\n",
            "Accuracy: 0.55\n"
          ]
        }
      ],
      "source": [
        "\n",
        "# Assuming 'data' is a DataFrame containing the 'Text' and 'label' columns\n",
        "\n",
        "# Step 1: Tokenize the text data\n",
        "tokenizer = Tokenizer(num_words=10000)  # Limit the vocabulary size\n",
        "tokenizer.fit_on_texts(data.Text)\n",
        "X = tokenizer.texts_to_sequences(data.Text)\n",
        "\n",
        "# Step 2: Pad the sequences to ensure uniform input length\n",
        "max_len = 100  # You can choose a different max_len based on your data\n",
        "X = pad_sequences(X, maxlen=max_len, padding='post')\n",
        "\n",
        "# Step 3: Encode the labels\n",
        "lable_encoder = LabelEncoder()\n",
        "y = lable_encoder.fit_transform(data.lable)\n",
        "\n",
        "# Step 4: Split the data into training and testing sets\n",
        "X_train, X_test, y_train, y_test = train_test_split(X, y, test_size=0.2, random_state=42)\n",
        "\n",
        "# Step 5: Define the LSTM model\n",
        "model = Sequential()\n",
        "model.add(Embedding(input_dim=10000, output_dim=128, input_length=max_len))\n",
        "model.add(LSTM(units=128, return_sequences=False))\n",
        "model.add(Dropout(0.5))\n",
        "model.add(Dense(units=64, activation='relu'))\n",
        "model.add(Dropout(0.5))\n",
        "model.add(Dense(units=1, activation='sigmoid'))\n",
        "\n",
        "# Step 6: Compile the model\n",
        "model.compile(optimizer=Adam(learning_rate=0.001), loss='binary_crossentropy', metrics=['accuracy'])\n",
        "\n",
        "# Step 7: Train the model\n",
        "model.fit(X_train, y_train, epochs=10, batch_size=64, validation_data=(X_test, y_test))\n",
        "\n",
        "# Step 8: Evaluate the model\n",
        "y_pred = model.predict(X_test)\n",
        "y_pred = np.round(y_pred).astype(int)\n",
        "accuracy = accuracy_score(y_test, y_pred)\n",
        "print(f'Accuracy: {accuracy:.2f}')\n"
      ]
    },
    {
      "cell_type": "markdown",
      "metadata": {
        "id": "0PEbnopZKYMS"
      },
      "source": [
        "# CNN"
      ]
    },
    {
      "cell_type": "code",
      "execution_count": null,
      "metadata": {
        "colab": {
          "background_save": true
        },
        "id": "ndWULHsuBZw-",
        "outputId": "da0507fc-fa75-4a31-fc58-52b8d1090fcd"
      },
      "outputs": [
        {
          "name": "stdout",
          "output_type": "stream",
          "text": [
            "Epoch 1/10\n"
          ]
        },
        {
          "name": "stderr",
          "output_type": "stream",
          "text": [
            "/usr/local/lib/python3.10/dist-packages/keras/src/layers/core/embedding.py:90: UserWarning: Argument `input_length` is deprecated. Just remove it.\n",
            "  warnings.warn(\n"
          ]
        },
        {
          "name": "stdout",
          "output_type": "stream",
          "text": [
            "\u001b[1m50/50\u001b[0m \u001b[32m━━━━━━━━━━━━━━━━━━━━\u001b[0m\u001b[37m\u001b[0m \u001b[1m8s\u001b[0m 122ms/step - accuracy: 0.5773 - loss: 0.6831 - val_accuracy: 0.5725 - val_loss: 0.6824\n",
            "Epoch 2/10\n",
            "\u001b[1m50/50\u001b[0m \u001b[32m━━━━━━━━━━━━━━━━━━━━\u001b[0m\u001b[37m\u001b[0m \u001b[1m10s\u001b[0m 114ms/step - accuracy: 0.5947 - loss: 0.6621 - val_accuracy: 0.5725 - val_loss: 0.6818\n",
            "Epoch 3/10\n",
            "\u001b[1m50/50\u001b[0m \u001b[32m━━━━━━━━━━━━━━━━━━━━\u001b[0m\u001b[37m\u001b[0m \u001b[1m8s\u001b[0m 153ms/step - accuracy: 0.6535 - loss: 0.6080 - val_accuracy: 0.5663 - val_loss: 0.6926\n",
            "Epoch 4/10\n",
            "\u001b[1m50/50\u001b[0m \u001b[32m━━━━━━━━━━━━━━━━━━━━\u001b[0m\u001b[37m\u001b[0m \u001b[1m6s\u001b[0m 122ms/step - accuracy: 0.9002 - loss: 0.4150 - val_accuracy: 0.5487 - val_loss: 0.7754\n",
            "Epoch 5/10\n",
            "\u001b[1m50/50\u001b[0m \u001b[32m━━━━━━━━━━━━━━━━━━━━\u001b[0m\u001b[37m\u001b[0m \u001b[1m5s\u001b[0m 104ms/step - accuracy: 0.9731 - loss: 0.1517 - val_accuracy: 0.5025 - val_loss: 0.9353\n",
            "Epoch 6/10\n",
            "\u001b[1m50/50\u001b[0m \u001b[32m━━━━━━━━━━━━━━━━━━━━\u001b[0m\u001b[37m\u001b[0m \u001b[1m7s\u001b[0m 143ms/step - accuracy: 0.9820 - loss: 0.0780 - val_accuracy: 0.5238 - val_loss: 1.0252\n",
            "Epoch 7/10\n",
            "\u001b[1m50/50\u001b[0m \u001b[32m━━━━━━━━━━━━━━━━━━━━\u001b[0m\u001b[37m\u001b[0m \u001b[1m8s\u001b[0m 89ms/step - accuracy: 0.9878 - loss: 0.0546 - val_accuracy: 0.5088 - val_loss: 1.0953\n",
            "Epoch 8/10\n",
            "\u001b[1m50/50\u001b[0m \u001b[32m━━━━━━━━━━━━━━━━━━━━\u001b[0m\u001b[37m\u001b[0m \u001b[1m7s\u001b[0m 132ms/step - accuracy: 0.9929 - loss: 0.0368 - val_accuracy: 0.5150 - val_loss: 1.1395\n",
            "Epoch 9/10\n",
            "\u001b[1m50/50\u001b[0m \u001b[32m━━━━━━━━━━━━━━━━━━━━\u001b[0m\u001b[37m\u001b[0m \u001b[1m8s\u001b[0m 90ms/step - accuracy: 0.9885 - loss: 0.0453 - val_accuracy: 0.5437 - val_loss: 1.3359\n",
            "Epoch 10/10\n",
            "\u001b[1m50/50\u001b[0m \u001b[32m━━━━━━━━━━━━━━━━━━━━\u001b[0m\u001b[37m\u001b[0m \u001b[1m7s\u001b[0m 134ms/step - accuracy: 0.9937 - loss: 0.0280 - val_accuracy: 0.5238 - val_loss: 1.2462\n",
            "\u001b[1m25/25\u001b[0m \u001b[32m━━━━━━━━━━━━━━━━━━━━\u001b[0m\u001b[37m\u001b[0m \u001b[1m0s\u001b[0m 12ms/step\n",
            "Accuracy: 0.52\n"
          ]
        }
      ],
      "source": [
        "import numpy as np\n",
        "import pandas as pd\n",
        "from tensorflow.keras.preprocessing.text import Tokenizer # for tokenization (text into integer)\n",
        "from tensorflow.keras.preprocessing.sequence import pad_sequences # ensure all sequence has same length\n",
        "from tensorflow.keras.models import Sequential # to create a sequential model\n",
        "from tensorflow.keras.layers import Embedding, Conv1D, GlobalMaxPooling1D, Dense, Dropout #layers needed to build a CNN  for text classification.\n",
        "from tensorflow.keras.optimizers import Adam #to adjust the learning rate during training.\n",
        "from sklearn.model_selection import train_test_split\n",
        "from sklearn.preprocessing import LabelEncoder # convert categorical labels into numeric form.\n",
        "from sklearn.metrics import accuracy_score\n",
        "\n",
        "# Step 1: Tokenize the text data\n",
        "tokenizer = Tokenizer(num_words=10000)  # limit the vocabulary size\n",
        "tokenizer.fit_on_texts(data.Text)\n",
        "X = tokenizer.texts_to_sequences(data.Text) # converts the text data into sequences of integers\n",
        "\n",
        "# Step 2: Pad the sequences to ensure uniform input length\n",
        "max_len = 100  # if it’s longer than 100 tokens) or padded (if it’s shorter than 100 tokens) to have exactly 100 tokens.\n",
        "X = pad_sequences(X, maxlen=max_len, padding='post') # [1,2] max len 3 then [1,2,0]\n",
        "\n",
        "# Step 3: Encode the labels\n",
        "label_encoder = LabelEncoder()\n",
        "y = label_encoder.fit_transform(data.lable)\n",
        "\n",
        "# Step 4: Split the data into training and testing sets\n",
        "X_train, X_test, y_train, y_test = train_test_split(X, y, test_size=0.2, random_state=42)\n",
        "\n",
        "# Step 5: Define the CNN model\n",
        "model = Sequential()\n",
        "model.add(Embedding(input_dim=10000, output_dim=128, input_length=max_len)) # turns positive integersinto dense vectors 128 of fixed size.\n",
        "model.add(Conv1D(filters=128, kernel_size=5, activation='relu'))  # 1D input data , work in sequential data\n",
        "model.add(GlobalMaxPooling1D()) #reducing the data size, reduce output of the Conv1D\n",
        "model.add(Dense(units=64, activation='relu')) # neuron 64 , connect each neuron, relu for complex relationship in data\n",
        "model.add(Dropout(0.5))\n",
        "model.add(Dense(units=1, activation='sigmoid'))\n",
        "\n",
        "# Step 6: Compile the model\n",
        "model.compile(optimizer=Adam(learning_rate=0.001), loss='binary_crossentropy', metrics=['accuracy'])\n",
        "\n",
        "# Step 7: Train the model\n",
        "model.fit(X_train, y_train, epochs=10, batch_size=64, validation_data=(X_test, y_test))\n",
        "\n",
        "# Step 8: Evaluate the model\n",
        "y_pred = model.predict(X_test)\n",
        "y_pred = np.round(y_pred).astype(int)\n",
        "accuracy = accuracy_score(y_test, y_pred)\n",
        "print(f'Accuracy: {accuracy:.2f}')\n"
      ]
    }
  ],
  "metadata": {
    "colab": {
      "provenance": []
    },
    "kernelspec": {
      "display_name": "Python 3",
      "name": "python3"
    },
    "language_info": {
      "name": "python"
    }
  },
  "nbformat": 4,
  "nbformat_minor": 0
}