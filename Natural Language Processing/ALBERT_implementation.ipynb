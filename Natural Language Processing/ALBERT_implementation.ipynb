{
  "cells": [
    {
      "cell_type": "markdown",
      "metadata": {
        "id": "TP6tUbPWzcI1"
      },
      "source": [
        "Import module printing the dataset"
      ]
    },
    {
      "cell_type": "code",
      "execution_count": 3,
      "metadata": {
        "colab": {
          "base_uri": "https://localhost:8080/",
          "height": 363
        },
        "id": "igY0uw9MK39U",
        "outputId": "3d21f067-1ddd-41a4-937e-a82b0e5d745a"
      },
      "outputs": [
        {
          "output_type": "execute_result",
          "data": {
            "text/plain": [
              "                                                Text  lable  \\\n",
              "0  `- This is not ``creative``.  Those are the di...    1.0   \n",
              "1  `  :: the term ``standard model`` is itself le...    0.0   \n",
              "2    True or false, the situation as of March 200...    0.0   \n",
              "3   Next, maybe you could work on being less cond...    1.0   \n",
              "4               This page will need disambiguation.     0.0   \n",
              "5    :If I may butt in  I've spent the last 1/4 h...    1.0   \n",
              "6  ` Changed Macedonia link to Macedon; ancients ...    1.0   \n",
              "7  `  :::: You're onto something important, there...    1.0   \n",
              "8  `I posted this to  because the timeline confus...    0.0   \n",
              "9  There is no such thing as Christian religiocen...    1.0   \n",
              "\n",
              "                                       Clean Dataset  \n",
              "0  this creative those dictionary definitions ter...  \n",
              "1  term standard model less npov think wed prefer...  \n",
              "2  true false situation march saudi proposal land...  \n",
              "3  next maybe could work less condescending sugge...  \n",
              "4                      this page need disambiguation  \n",
              "5  may butt ive spent last hour following andre t...  \n",
              "6  changed macedonia link macedon ancients didnt ...  \n",
              "7  youre onto something important even liturgical...  \n",
              "8  posted timeline confused hey tried clean timel...  \n",
              "9  there thing christian religiocentrism come ple...  "
            ],
            "text/html": [
              "\n",
              "  <div id=\"df-6039f3e6-89cb-4b74-9489-bb6add0b34ea\" class=\"colab-df-container\">\n",
              "    <div>\n",
              "<style scoped>\n",
              "    .dataframe tbody tr th:only-of-type {\n",
              "        vertical-align: middle;\n",
              "    }\n",
              "\n",
              "    .dataframe tbody tr th {\n",
              "        vertical-align: top;\n",
              "    }\n",
              "\n",
              "    .dataframe thead th {\n",
              "        text-align: right;\n",
              "    }\n",
              "</style>\n",
              "<table border=\"1\" class=\"dataframe\">\n",
              "  <thead>\n",
              "    <tr style=\"text-align: right;\">\n",
              "      <th></th>\n",
              "      <th>Text</th>\n",
              "      <th>lable</th>\n",
              "      <th>Clean Dataset</th>\n",
              "    </tr>\n",
              "  </thead>\n",
              "  <tbody>\n",
              "    <tr>\n",
              "      <th>0</th>\n",
              "      <td>`- This is not ``creative``.  Those are the di...</td>\n",
              "      <td>1.0</td>\n",
              "      <td>this creative those dictionary definitions ter...</td>\n",
              "    </tr>\n",
              "    <tr>\n",
              "      <th>1</th>\n",
              "      <td>`  :: the term ``standard model`` is itself le...</td>\n",
              "      <td>0.0</td>\n",
              "      <td>term standard model less npov think wed prefer...</td>\n",
              "    </tr>\n",
              "    <tr>\n",
              "      <th>2</th>\n",
              "      <td>True or false, the situation as of March 200...</td>\n",
              "      <td>0.0</td>\n",
              "      <td>true false situation march saudi proposal land...</td>\n",
              "    </tr>\n",
              "    <tr>\n",
              "      <th>3</th>\n",
              "      <td>Next, maybe you could work on being less cond...</td>\n",
              "      <td>1.0</td>\n",
              "      <td>next maybe could work less condescending sugge...</td>\n",
              "    </tr>\n",
              "    <tr>\n",
              "      <th>4</th>\n",
              "      <td>This page will need disambiguation.</td>\n",
              "      <td>0.0</td>\n",
              "      <td>this page need disambiguation</td>\n",
              "    </tr>\n",
              "    <tr>\n",
              "      <th>5</th>\n",
              "      <td>:If I may butt in  I've spent the last 1/4 h...</td>\n",
              "      <td>1.0</td>\n",
              "      <td>may butt ive spent last hour following andre t...</td>\n",
              "    </tr>\n",
              "    <tr>\n",
              "      <th>6</th>\n",
              "      <td>` Changed Macedonia link to Macedon; ancients ...</td>\n",
              "      <td>1.0</td>\n",
              "      <td>changed macedonia link macedon ancients didnt ...</td>\n",
              "    </tr>\n",
              "    <tr>\n",
              "      <th>7</th>\n",
              "      <td>`  :::: You're onto something important, there...</td>\n",
              "      <td>1.0</td>\n",
              "      <td>youre onto something important even liturgical...</td>\n",
              "    </tr>\n",
              "    <tr>\n",
              "      <th>8</th>\n",
              "      <td>`I posted this to  because the timeline confus...</td>\n",
              "      <td>0.0</td>\n",
              "      <td>posted timeline confused hey tried clean timel...</td>\n",
              "    </tr>\n",
              "    <tr>\n",
              "      <th>9</th>\n",
              "      <td>There is no such thing as Christian religiocen...</td>\n",
              "      <td>1.0</td>\n",
              "      <td>there thing christian religiocentrism come ple...</td>\n",
              "    </tr>\n",
              "  </tbody>\n",
              "</table>\n",
              "</div>\n",
              "    <div class=\"colab-df-buttons\">\n",
              "\n",
              "  <div class=\"colab-df-container\">\n",
              "    <button class=\"colab-df-convert\" onclick=\"convertToInteractive('df-6039f3e6-89cb-4b74-9489-bb6add0b34ea')\"\n",
              "            title=\"Convert this dataframe to an interactive table.\"\n",
              "            style=\"display:none;\">\n",
              "\n",
              "  <svg xmlns=\"http://www.w3.org/2000/svg\" height=\"24px\" viewBox=\"0 -960 960 960\">\n",
              "    <path d=\"M120-120v-720h720v720H120Zm60-500h600v-160H180v160Zm220 220h160v-160H400v160Zm0 220h160v-160H400v160ZM180-400h160v-160H180v160Zm440 0h160v-160H620v160ZM180-180h160v-160H180v160Zm440 0h160v-160H620v160Z\"/>\n",
              "  </svg>\n",
              "    </button>\n",
              "\n",
              "  <style>\n",
              "    .colab-df-container {\n",
              "      display:flex;\n",
              "      gap: 12px;\n",
              "    }\n",
              "\n",
              "    .colab-df-convert {\n",
              "      background-color: #E8F0FE;\n",
              "      border: none;\n",
              "      border-radius: 50%;\n",
              "      cursor: pointer;\n",
              "      display: none;\n",
              "      fill: #1967D2;\n",
              "      height: 32px;\n",
              "      padding: 0 0 0 0;\n",
              "      width: 32px;\n",
              "    }\n",
              "\n",
              "    .colab-df-convert:hover {\n",
              "      background-color: #E2EBFA;\n",
              "      box-shadow: 0px 1px 2px rgba(60, 64, 67, 0.3), 0px 1px 3px 1px rgba(60, 64, 67, 0.15);\n",
              "      fill: #174EA6;\n",
              "    }\n",
              "\n",
              "    .colab-df-buttons div {\n",
              "      margin-bottom: 4px;\n",
              "    }\n",
              "\n",
              "    [theme=dark] .colab-df-convert {\n",
              "      background-color: #3B4455;\n",
              "      fill: #D2E3FC;\n",
              "    }\n",
              "\n",
              "    [theme=dark] .colab-df-convert:hover {\n",
              "      background-color: #434B5C;\n",
              "      box-shadow: 0px 1px 3px 1px rgba(0, 0, 0, 0.15);\n",
              "      filter: drop-shadow(0px 1px 2px rgba(0, 0, 0, 0.3));\n",
              "      fill: #FFFFFF;\n",
              "    }\n",
              "  </style>\n",
              "\n",
              "    <script>\n",
              "      const buttonEl =\n",
              "        document.querySelector('#df-6039f3e6-89cb-4b74-9489-bb6add0b34ea button.colab-df-convert');\n",
              "      buttonEl.style.display =\n",
              "        google.colab.kernel.accessAllowed ? 'block' : 'none';\n",
              "\n",
              "      async function convertToInteractive(key) {\n",
              "        const element = document.querySelector('#df-6039f3e6-89cb-4b74-9489-bb6add0b34ea');\n",
              "        const dataTable =\n",
              "          await google.colab.kernel.invokeFunction('convertToInteractive',\n",
              "                                                    [key], {});\n",
              "        if (!dataTable) return;\n",
              "\n",
              "        const docLinkHtml = 'Like what you see? Visit the ' +\n",
              "          '<a target=\"_blank\" href=https://colab.research.google.com/notebooks/data_table.ipynb>data table notebook</a>'\n",
              "          + ' to learn more about interactive tables.';\n",
              "        element.innerHTML = '';\n",
              "        dataTable['output_type'] = 'display_data';\n",
              "        await google.colab.output.renderOutput(dataTable, element);\n",
              "        const docLink = document.createElement('div');\n",
              "        docLink.innerHTML = docLinkHtml;\n",
              "        element.appendChild(docLink);\n",
              "      }\n",
              "    </script>\n",
              "  </div>\n",
              "\n",
              "\n",
              "<div id=\"df-62c88273-d786-4cbd-a88d-1ba2f95e3a9d\">\n",
              "  <button class=\"colab-df-quickchart\" onclick=\"quickchart('df-62c88273-d786-4cbd-a88d-1ba2f95e3a9d')\"\n",
              "            title=\"Suggest charts\"\n",
              "            style=\"display:none;\">\n",
              "\n",
              "<svg xmlns=\"http://www.w3.org/2000/svg\" height=\"24px\"viewBox=\"0 0 24 24\"\n",
              "     width=\"24px\">\n",
              "    <g>\n",
              "        <path d=\"M19 3H5c-1.1 0-2 .9-2 2v14c0 1.1.9 2 2 2h14c1.1 0 2-.9 2-2V5c0-1.1-.9-2-2-2zM9 17H7v-7h2v7zm4 0h-2V7h2v10zm4 0h-2v-4h2v4z\"/>\n",
              "    </g>\n",
              "</svg>\n",
              "  </button>\n",
              "\n",
              "<style>\n",
              "  .colab-df-quickchart {\n",
              "      --bg-color: #E8F0FE;\n",
              "      --fill-color: #1967D2;\n",
              "      --hover-bg-color: #E2EBFA;\n",
              "      --hover-fill-color: #174EA6;\n",
              "      --disabled-fill-color: #AAA;\n",
              "      --disabled-bg-color: #DDD;\n",
              "  }\n",
              "\n",
              "  [theme=dark] .colab-df-quickchart {\n",
              "      --bg-color: #3B4455;\n",
              "      --fill-color: #D2E3FC;\n",
              "      --hover-bg-color: #434B5C;\n",
              "      --hover-fill-color: #FFFFFF;\n",
              "      --disabled-bg-color: #3B4455;\n",
              "      --disabled-fill-color: #666;\n",
              "  }\n",
              "\n",
              "  .colab-df-quickchart {\n",
              "    background-color: var(--bg-color);\n",
              "    border: none;\n",
              "    border-radius: 50%;\n",
              "    cursor: pointer;\n",
              "    display: none;\n",
              "    fill: var(--fill-color);\n",
              "    height: 32px;\n",
              "    padding: 0;\n",
              "    width: 32px;\n",
              "  }\n",
              "\n",
              "  .colab-df-quickchart:hover {\n",
              "    background-color: var(--hover-bg-color);\n",
              "    box-shadow: 0 1px 2px rgba(60, 64, 67, 0.3), 0 1px 3px 1px rgba(60, 64, 67, 0.15);\n",
              "    fill: var(--button-hover-fill-color);\n",
              "  }\n",
              "\n",
              "  .colab-df-quickchart-complete:disabled,\n",
              "  .colab-df-quickchart-complete:disabled:hover {\n",
              "    background-color: var(--disabled-bg-color);\n",
              "    fill: var(--disabled-fill-color);\n",
              "    box-shadow: none;\n",
              "  }\n",
              "\n",
              "  .colab-df-spinner {\n",
              "    border: 2px solid var(--fill-color);\n",
              "    border-color: transparent;\n",
              "    border-bottom-color: var(--fill-color);\n",
              "    animation:\n",
              "      spin 1s steps(1) infinite;\n",
              "  }\n",
              "\n",
              "  @keyframes spin {\n",
              "    0% {\n",
              "      border-color: transparent;\n",
              "      border-bottom-color: var(--fill-color);\n",
              "      border-left-color: var(--fill-color);\n",
              "    }\n",
              "    20% {\n",
              "      border-color: transparent;\n",
              "      border-left-color: var(--fill-color);\n",
              "      border-top-color: var(--fill-color);\n",
              "    }\n",
              "    30% {\n",
              "      border-color: transparent;\n",
              "      border-left-color: var(--fill-color);\n",
              "      border-top-color: var(--fill-color);\n",
              "      border-right-color: var(--fill-color);\n",
              "    }\n",
              "    40% {\n",
              "      border-color: transparent;\n",
              "      border-right-color: var(--fill-color);\n",
              "      border-top-color: var(--fill-color);\n",
              "    }\n",
              "    60% {\n",
              "      border-color: transparent;\n",
              "      border-right-color: var(--fill-color);\n",
              "    }\n",
              "    80% {\n",
              "      border-color: transparent;\n",
              "      border-right-color: var(--fill-color);\n",
              "      border-bottom-color: var(--fill-color);\n",
              "    }\n",
              "    90% {\n",
              "      border-color: transparent;\n",
              "      border-bottom-color: var(--fill-color);\n",
              "    }\n",
              "  }\n",
              "</style>\n",
              "\n",
              "  <script>\n",
              "    async function quickchart(key) {\n",
              "      const quickchartButtonEl =\n",
              "        document.querySelector('#' + key + ' button');\n",
              "      quickchartButtonEl.disabled = true;  // To prevent multiple clicks.\n",
              "      quickchartButtonEl.classList.add('colab-df-spinner');\n",
              "      try {\n",
              "        const charts = await google.colab.kernel.invokeFunction(\n",
              "            'suggestCharts', [key], {});\n",
              "      } catch (error) {\n",
              "        console.error('Error during call to suggestCharts:', error);\n",
              "      }\n",
              "      quickchartButtonEl.classList.remove('colab-df-spinner');\n",
              "      quickchartButtonEl.classList.add('colab-df-quickchart-complete');\n",
              "    }\n",
              "    (() => {\n",
              "      let quickchartButtonEl =\n",
              "        document.querySelector('#df-62c88273-d786-4cbd-a88d-1ba2f95e3a9d button');\n",
              "      quickchartButtonEl.style.display =\n",
              "        google.colab.kernel.accessAllowed ? 'block' : 'none';\n",
              "    })();\n",
              "  </script>\n",
              "</div>\n",
              "\n",
              "    </div>\n",
              "  </div>\n"
            ],
            "application/vnd.google.colaboratory.intrinsic+json": {
              "type": "dataframe",
              "variable_name": "data",
              "summary": "{\n  \"name\": \"data\",\n  \"rows\": 5000,\n  \"fields\": [\n    {\n      \"column\": \"Text\",\n      \"properties\": {\n        \"dtype\": \"string\",\n        \"num_unique_values\": 4960,\n        \"samples\": [\n          \"`:::::::::I'm afriad that is total nonsense. So much for you scholarship when you cannot understand simnple words like atheism - look up a definition. It is not a religion. It involves no supernatural mumbo jumbo. It is not a ``faith``. In fact it is the lack of ``faith`` - the reliance on the rational. It is the neutral default position. You are talking rubbish - but thanks for making your position very clear - would you describe yourself as a fundamentalist?    `\",\n          \"`  :::Maybe you can also ``mediate`` T-Man's insane edit on Legends of the Dark Knight...  `\",\n          \"  == Spurious edits ==  I just wanted to tell you that there are edits going on like removing Macedonian names from Greek towns, changing Republic of Macedonia to  FYRM etc. They are done from changing IP numbers, each change done with a separate IP number. Check Florina, Drama, Greece.  \"\n        ],\n        \"semantic_type\": \"\",\n        \"description\": \"\"\n      }\n    },\n    {\n      \"column\": \"lable\",\n      \"properties\": {\n        \"dtype\": \"number\",\n        \"std\": 0.4894160888432969,\n        \"min\": 0.0,\n        \"max\": 1.0,\n        \"num_unique_values\": 2,\n        \"samples\": [\n          0.0,\n          1.0\n        ],\n        \"semantic_type\": \"\",\n        \"description\": \"\"\n      }\n    },\n    {\n      \"column\": \"Clean Dataset\",\n      \"properties\": {\n        \"dtype\": \"string\",\n        \"num_unique_values\": 4950,\n        \"samples\": [\n          \"red ensign hello bellman really like australian new zealand flags alot their respectively national flags blue ensigns elagant beautiful designs pov also love red ensign counterparts australia red ensignmerchant ensign navy httpflagspotnetimagesaauredgif new zealand red ensign merchant ensign navy httpflagspotnetimagesnnzcivilgif proposed canadian red ensign possible new national flag httpscaausaskcagalleryflagdisplayimageswebpaneljpg really love star constillation theme the australia new zealand red ensigns southern cross kinship proposed canadian red ensign big dipper sincerely hope red ensign page become unlocked someday contributions bellman would true pleasure read sincerely armchairvexillologistdon\",\n          \"please stop continue vandalize pages national park blocked editing wikipedia\"\n        ],\n        \"semantic_type\": \"\",\n        \"description\": \"\"\n      }\n    }\n  ]\n}"
            }
          },
          "metadata": {},
          "execution_count": 3
        }
      ],
      "source": [
        "import pandas as pd\n",
        "import numpy as np\n",
        "import matplotlib.pyplot as plt\n",
        "import seaborn as sns\n",
        "\n",
        "#READ DATA\n",
        "data=pd.read_csv(\"/content/sample_data/Example (1).csv\",encoding=\"latin-1\")\n",
        "data.head(10)"
      ]
    },
    {
      "cell_type": "code",
      "execution_count": 4,
      "metadata": {
        "id": "xXZPCzUoNpHR"
      },
      "outputs": [],
      "source": [
        "from sklearn.feature_extraction.text import TfidfVectorizer\n",
        "from sklearn.model_selection import train_test_split\n",
        "from sklearn.linear_model import LogisticRegressionCV\n",
        "from sklearn import metrics\n",
        "import nltk\n",
        "from nltk.corpus import stopwords\n",
        "import string\n",
        "import re"
      ]
    },
    {
      "cell_type": "code",
      "execution_count": null,
      "metadata": {
        "id": "j4X-HbNNMr7A"
      },
      "outputs": [],
      "source": [
        "from google.colab import drive\n",
        "drive.mount('/content/drive')"
      ]
    },
    {
      "cell_type": "markdown",
      "metadata": {
        "id": "HRF4T1CjDPCD"
      },
      "source": [
        "# **SAMPLE DATA 4000**"
      ]
    },
    {
      "cell_type": "code",
      "execution_count": 5,
      "metadata": {
        "colab": {
          "base_uri": "https://localhost:8080/"
        },
        "id": "Q-bGeMhvOPRj",
        "outputId": "c501a184-5398-46b6-e5e3-3bd1707ad38c"
      },
      "outputs": [
        {
          "output_type": "stream",
          "name": "stdout",
          "text": [
            "235       == Parentage and children ==  I see this was...\n",
            "3980      Wow, that's like six-million times better th...\n",
            "905     `  It seems to me, to use a Christian metaphor...\n",
            "2763    `   Sooooo... Does any OTHER admin want to com...\n",
            "2895      ==  English versions ==  There is not need t...\n",
            "                              ...                        \n",
            "1724      ::The previous format of the page provides a...\n",
            "4037     April 2006 (UTC)  ::: You allopaths took it u...\n",
            "4182      I told you he was notable, medical men who b...\n",
            "2318    Welcome!  Hello, , and welcome to Wikipedia! T...\n",
            "271     `  :It's so easy you could do it yourself if y...\n",
            "Name: Text, Length: 4000, dtype: object\n",
            "235     0.0\n",
            "3980    0.0\n",
            "905     1.0\n",
            "2763    1.0\n",
            "2895    1.0\n",
            "       ... \n",
            "1724    0.0\n",
            "4037    1.0\n",
            "4182    0.0\n",
            "2318    1.0\n",
            "271     1.0\n",
            "Name: lable, Length: 4000, dtype: float64\n"
          ]
        }
      ],
      "source": [
        "# Sample data\n",
        "\n",
        "sample_data = data.sample(4000,replace=True, random_state=1)\n",
        "X = sample_data['Text']\n",
        "y = sample_data['lable']\n",
        "print(X)\n",
        "print(y)"
      ]
    },
    {
      "cell_type": "code",
      "execution_count": null,
      "metadata": {
        "id": "ycRe9GKrDf-G"
      },
      "outputs": [],
      "source": []
    },
    {
      "cell_type": "markdown",
      "metadata": {
        "id": "T0irolPODbxA"
      },
      "source": [
        "# WORD CLOUD"
      ]
    },
    {
      "cell_type": "code",
      "execution_count": 6,
      "metadata": {
        "id": "CIJJm0KtOnPb"
      },
      "outputs": [],
      "source": [
        "from wordcloud import WordCloud"
      ]
    },
    {
      "cell_type": "code",
      "execution_count": 7,
      "metadata": {
        "colab": {
          "base_uri": "https://localhost:8080/",
          "height": 285
        },
        "id": "h16b2p9HObe6",
        "outputId": "43a021f9-2362-4dc5-d7b1-7e1c2bcc4330"
      },
      "outputs": [
        {
          "output_type": "display_data",
          "data": {
            "text/plain": [
              "<Figure size 640x480 with 1 Axes>"
            ],
            "image/png": "[encoded data removed]"
          },
          "metadata": {}
        }
      ],
      "source": [
        "# Sample a subset of the data to avoid processing the entire dataset\n",
        "sample_data = data['Text'].sample(4000, replace=True,random_state=1)  # Adjust the sample size as needed\n",
        "\n",
        "# Create a string with all text data from the sample\n",
        "word_cloud = \" \".join(str(text) for text in sample_data)\n",
        "\n",
        "# Generate the word cloud\n",
        "wordcloud = WordCloud(width=1000, height=500, background_color='white', min_font_size=10).generate(word_cloud)\n",
        "\n",
        "# Display the word cloud\n",
        "plt.imshow(wordcloud, interpolation='bilinear')\n",
        "plt.axis('off')  # Hide axes\n",
        "plt.show()\n"
      ]
    },
    {
      "cell_type": "markdown",
      "metadata": {
        "id": "dV1xQ5vaDmkb"
      },
      "source": [
        "# STOP WORDS"
      ]
    },
    {
      "cell_type": "code",
      "execution_count": 8,
      "metadata": {
        "colab": {
          "base_uri": "https://localhost:8080/"
        },
        "id": "oEl3Gwx4Nu_7",
        "outputId": "5ab31327-7890-4071-f6dd-192534d5ff7c"
      },
      "outputs": [
        {
          "output_type": "stream",
          "name": "stderr",
          "text": [
            "[nltk_data] Downloading package stopwords to /root/nltk_data...\n",
            "[nltk_data]   Unzipping corpora/stopwords.zip.\n"
          ]
        }
      ],
      "source": [
        "nltk.download('stopwords')\n",
        "stop_words = set(stopwords.words('english'))"
      ]
    },
    {
      "cell_type": "markdown",
      "metadata": {
        "id": "CDuAbe--Drdj"
      },
      "source": [
        "# CLEAN DATA"
      ]
    },
    {
      "cell_type": "code",
      "execution_count": 9,
      "metadata": {
        "colab": {
          "base_uri": "https://localhost:8080/",
          "height": 988
        },
        "id": "vxVbkpztN1wa",
        "outputId": "63fa5d61-dc39-49ff-ca9c-4961acebcaf1"
      },
      "outputs": [
        {
          "output_type": "stream",
          "name": "stderr",
          "text": [
            "[nltk_data] Downloading package stopwords to /root/nltk_data...\n",
            "[nltk_data]   Package stopwords is already up-to-date!\n"
          ]
        },
        {
          "output_type": "execute_result",
          "data": {
            "text/plain": [
              "                                                 Text  lable  \\\n",
              "0   `- This is not ``creative``.  Those are the di...    1.0   \n",
              "1   `  :: the term ``standard model`` is itself le...    0.0   \n",
              "2     True or false, the situation as of March 200...    0.0   \n",
              "3    Next, maybe you could work on being less cond...    1.0   \n",
              "4                This page will need disambiguation.     0.0   \n",
              "5     :If I may butt in  I've spent the last 1/4 h...    1.0   \n",
              "6   ` Changed Macedonia link to Macedon; ancients ...    1.0   \n",
              "7   `  :::: You're onto something important, there...    1.0   \n",
              "8   `I posted this to  because the timeline confus...    0.0   \n",
              "9   There is no such thing as Christian religiocen...    1.0   \n",
              "10  `  :Click on my ``Annoying Users`` link! I gue...    1.0   \n",
              "11  `  Â¿Why do some people want to remove all fac...    0.0   \n",
              "12  `  Am glad you have asserted we are all equal....    1.0   \n",
              "13  Is it Gauss or GauÃ? I still don't know, can ...    0.0   \n",
              "14               I just save an awful lot -). - fonzy    0.0   \n",
              "15          Iraq is not good  ===  ===  USA is bad       1.0   \n",
              "16    Perhaps it was possible to have dual citizen...    0.0   \n",
              "17  `  ``The WTC Towers were constructed almost en...    1.0   \n",
              "18                        Wikipedia is banned? Why?      1.0   \n",
              "19  `  ::I've been considering the proposed versio...    1.0   \n",
              "\n",
              "                                        Clean Dataset  \\\n",
              "0   this creative those dictionary definitions ter...   \n",
              "1   term standard model less npov think wed prefer...   \n",
              "2   true false situation march saudi proposal land...   \n",
              "3   next maybe could work less condescending sugge...   \n",
              "4                       this page need disambiguation   \n",
              "5   may butt ive spent last hour following andre t...   \n",
              "6   changed macedonia link macedon ancients didnt ...   \n",
              "7   youre onto something important even liturgical...   \n",
              "8   posted timeline confused hey tried clean timel...   \n",
              "9   there thing christian religiocentrism come ple...   \n",
              "10  click annoying users link guess massachusetts ...   \n",
              "11  Â¿why people want remove facts normal anatamy ...   \n",
              "12  glad asserted equal that fundamental operation...   \n",
              "13  gauss gauÃ£Ã¿ still dont know someone deep kno...   \n",
              "14                               save awful lot fonzy   \n",
              "15                                  iraq good usa bad   \n",
              "16  perhaps possible dual citizenship said maybe s...   \n",
              "17  the wtc towers constructed almost entirely ste...   \n",
              "18                               wikipedia banned why   \n",
              "19  ive considering proposed version far considera...   \n",
              "\n",
              "                                         Cleaned_Text  \n",
              "0   creative dictionary definitions terms insuranc...  \n",
              "1   term standard model less npov think would pref...  \n",
              "2   true false situation march saudi proposal land...  \n",
              "3   next maybe could work less condescending sugge...  \n",
              "4                            page need disambiguation  \n",
              "5   may butt ive spent last hour following andre t...  \n",
              "6   changed macedonia link macedon ancients call l...  \n",
              "7   onto something important even liturgical renew...  \n",
              "8   posted timeline confused hey tried clean timel...  \n",
              "9   thing christian religiocentrism come please st...  \n",
              "10  click annoying users link guess massachusetts ...  \n",
              "11  people want remove facts normal anatamy functi...  \n",
              "12  glad asserted equal fundamental operationial r...  \n",
              "13  gauss gau still know someone deep knowledge ge...  \n",
              "14                               save awful lot fonzy  \n",
              "15                                  iraq good usa bad  \n",
              "16  perhaps possible dual citizenship said maybe s...  \n",
              "17  wtc towers constructed almost entirely steel c...  \n",
              "18                                   wikipedia banned  \n",
              "19  ive considering proposed version far considera...  "
            ],
            "text/html": [
              "\n",
              "  <div id=\"df-81e3a7ac-948a-4b69-af57-a7e8361a987d\" class=\"colab-df-container\">\n",
              "    <div>\n",
              "<style scoped>\n",
              "    .dataframe tbody tr th:only-of-type {\n",
              "        vertical-align: middle;\n",
              "    }\n",
              "\n",
              "    .dataframe tbody tr th {\n",
              "        vertical-align: top;\n",
              "    }\n",
              "\n",
              "    .dataframe thead th {\n",
              "        text-align: right;\n",
              "    }\n",
              "</style>\n",
              "<table border=\"1\" class=\"dataframe\">\n",
              "  <thead>\n",
              "    <tr style=\"text-align: right;\">\n",
              "      <th></th>\n",
              "      <th>Text</th>\n",
              "      <th>lable</th>\n",
              "      <th>Clean Dataset</th>\n",
              "      <th>Cleaned_Text</th>\n",
              "    </tr>\n",
              "  </thead>\n",
              "  <tbody>\n",
              "    <tr>\n",
              "      <th>0</th>\n",
              "      <td>`- This is not ``creative``.  Those are the di...</td>\n",
              "      <td>1.0</td>\n",
              "      <td>this creative those dictionary definitions ter...</td>\n",
              "      <td>creative dictionary definitions terms insuranc...</td>\n",
              "    </tr>\n",
              "    <tr>\n",
              "      <th>1</th>\n",
              "      <td>`  :: the term ``standard model`` is itself le...</td>\n",
              "      <td>0.0</td>\n",
              "      <td>term standard model less npov think wed prefer...</td>\n",
              "      <td>term standard model less npov think would pref...</td>\n",
              "    </tr>\n",
              "    <tr>\n",
              "      <th>2</th>\n",
              "      <td>True or false, the situation as of March 200...</td>\n",
              "      <td>0.0</td>\n",
              "      <td>true false situation march saudi proposal land...</td>\n",
              "      <td>true false situation march saudi proposal land...</td>\n",
              "    </tr>\n",
              "    <tr>\n",
              "      <th>3</th>\n",
              "      <td>Next, maybe you could work on being less cond...</td>\n",
              "      <td>1.0</td>\n",
              "      <td>next maybe could work less condescending sugge...</td>\n",
              "      <td>next maybe could work less condescending sugge...</td>\n",
              "    </tr>\n",
              "    <tr>\n",
              "      <th>4</th>\n",
              "      <td>This page will need disambiguation.</td>\n",
              "      <td>0.0</td>\n",
              "      <td>this page need disambiguation</td>\n",
              "      <td>page need disambiguation</td>\n",
              "    </tr>\n",
              "    <tr>\n",
              "      <th>5</th>\n",
              "      <td>:If I may butt in  I've spent the last 1/4 h...</td>\n",
              "      <td>1.0</td>\n",
              "      <td>may butt ive spent last hour following andre t...</td>\n",
              "      <td>may butt ive spent last hour following andre t...</td>\n",
              "    </tr>\n",
              "    <tr>\n",
              "      <th>6</th>\n",
              "      <td>` Changed Macedonia link to Macedon; ancients ...</td>\n",
              "      <td>1.0</td>\n",
              "      <td>changed macedonia link macedon ancients didnt ...</td>\n",
              "      <td>changed macedonia link macedon ancients call l...</td>\n",
              "    </tr>\n",
              "    <tr>\n",
              "      <th>7</th>\n",
              "      <td>`  :::: You're onto something important, there...</td>\n",
              "      <td>1.0</td>\n",
              "      <td>youre onto something important even liturgical...</td>\n",
              "      <td>onto something important even liturgical renew...</td>\n",
              "    </tr>\n",
              "    <tr>\n",
              "      <th>8</th>\n",
              "      <td>`I posted this to  because the timeline confus...</td>\n",
              "      <td>0.0</td>\n",
              "      <td>posted timeline confused hey tried clean timel...</td>\n",
              "      <td>posted timeline confused hey tried clean timel...</td>\n",
              "    </tr>\n",
              "    <tr>\n",
              "      <th>9</th>\n",
              "      <td>There is no such thing as Christian religiocen...</td>\n",
              "      <td>1.0</td>\n",
              "      <td>there thing christian religiocentrism come ple...</td>\n",
              "      <td>thing christian religiocentrism come please st...</td>\n",
              "    </tr>\n",
              "    <tr>\n",
              "      <th>10</th>\n",
              "      <td>`  :Click on my ``Annoying Users`` link! I gue...</td>\n",
              "      <td>1.0</td>\n",
              "      <td>click annoying users link guess massachusetts ...</td>\n",
              "      <td>click annoying users link guess massachusetts ...</td>\n",
              "    </tr>\n",
              "    <tr>\n",
              "      <th>11</th>\n",
              "      <td>`  Â¿Why do some people want to remove all fac...</td>\n",
              "      <td>0.0</td>\n",
              "      <td>Â¿why people want remove facts normal anatamy ...</td>\n",
              "      <td>people want remove facts normal anatamy functi...</td>\n",
              "    </tr>\n",
              "    <tr>\n",
              "      <th>12</th>\n",
              "      <td>`  Am glad you have asserted we are all equal....</td>\n",
              "      <td>1.0</td>\n",
              "      <td>glad asserted equal that fundamental operation...</td>\n",
              "      <td>glad asserted equal fundamental operationial r...</td>\n",
              "    </tr>\n",
              "    <tr>\n",
              "      <th>13</th>\n",
              "      <td>Is it Gauss or GauÃ? I still don't know, can ...</td>\n",
              "      <td>0.0</td>\n",
              "      <td>gauss gauÃ£Ã¿ still dont know someone deep kno...</td>\n",
              "      <td>gauss gau still know someone deep knowledge ge...</td>\n",
              "    </tr>\n",
              "    <tr>\n",
              "      <th>14</th>\n",
              "      <td>I just save an awful lot -). - fonzy</td>\n",
              "      <td>0.0</td>\n",
              "      <td>save awful lot fonzy</td>\n",
              "      <td>save awful lot fonzy</td>\n",
              "    </tr>\n",
              "    <tr>\n",
              "      <th>15</th>\n",
              "      <td>Iraq is not good  ===  ===  USA is bad</td>\n",
              "      <td>1.0</td>\n",
              "      <td>iraq good usa bad</td>\n",
              "      <td>iraq good usa bad</td>\n",
              "    </tr>\n",
              "    <tr>\n",
              "      <th>16</th>\n",
              "      <td>Perhaps it was possible to have dual citizen...</td>\n",
              "      <td>0.0</td>\n",
              "      <td>perhaps possible dual citizenship said maybe s...</td>\n",
              "      <td>perhaps possible dual citizenship said maybe s...</td>\n",
              "    </tr>\n",
              "    <tr>\n",
              "      <th>17</th>\n",
              "      <td>`  ``The WTC Towers were constructed almost en...</td>\n",
              "      <td>1.0</td>\n",
              "      <td>the wtc towers constructed almost entirely ste...</td>\n",
              "      <td>wtc towers constructed almost entirely steel c...</td>\n",
              "    </tr>\n",
              "    <tr>\n",
              "      <th>18</th>\n",
              "      <td>Wikipedia is banned? Why?</td>\n",
              "      <td>1.0</td>\n",
              "      <td>wikipedia banned why</td>\n",
              "      <td>wikipedia banned</td>\n",
              "    </tr>\n",
              "    <tr>\n",
              "      <th>19</th>\n",
              "      <td>`  ::I've been considering the proposed versio...</td>\n",
              "      <td>1.0</td>\n",
              "      <td>ive considering proposed version far considera...</td>\n",
              "      <td>ive considering proposed version far considera...</td>\n",
              "    </tr>\n",
              "  </tbody>\n",
              "</table>\n",
              "</div>\n",
              "    <div class=\"colab-df-buttons\">\n",
              "\n",
              "  <div class=\"colab-df-container\">\n",
              "    <button class=\"colab-df-convert\" onclick=\"convertToInteractive('df-81e3a7ac-948a-4b69-af57-a7e8361a987d')\"\n",
              "            title=\"Convert this dataframe to an interactive table.\"\n",
              "            style=\"display:none;\">\n",
              "\n",
              "  <svg xmlns=\"http://www.w3.org/2000/svg\" height=\"24px\" viewBox=\"0 -960 960 960\">\n",
              "    <path d=\"M120-120v-720h720v720H120Zm60-500h600v-160H180v160Zm220 220h160v-160H400v160Zm0 220h160v-160H400v160ZM180-400h160v-160H180v160Zm440 0h160v-160H620v160ZM180-180h160v-160H180v160Zm440 0h160v-160H620v160Z\"/>\n",
              "  </svg>\n",
              "    </button>\n",
              "\n",
              "  <style>\n",
              "    .colab-df-container {\n",
              "      display:flex;\n",
              "      gap: 12px;\n",
              "    }\n",
              "\n",
              "    .colab-df-convert {\n",
              "      background-color: #E8F0FE;\n",
              "      border: none;\n",
              "      border-radius: 50%;\n",
              "      cursor: pointer;\n",
              "      display: none;\n",
              "      fill: #1967D2;\n",
              "      height: 32px;\n",
              "      padding: 0 0 0 0;\n",
              "      width: 32px;\n",
              "    }\n",
              "\n",
              "    .colab-df-convert:hover {\n",
              "      background-color: #E2EBFA;\n",
              "      box-shadow: 0px 1px 2px rgba(60, 64, 67, 0.3), 0px 1px 3px 1px rgba(60, 64, 67, 0.15);\n",
              "      fill: #174EA6;\n",
              "    }\n",
              "\n",
              "    .colab-df-buttons div {\n",
              "      margin-bottom: 4px;\n",
              "    }\n",
              "\n",
              "    [theme=dark] .colab-df-convert {\n",
              "      background-color: #3B4455;\n",
              "      fill: #D2E3FC;\n",
              "    }\n",
              "\n",
              "    [theme=dark] .colab-df-convert:hover {\n",
              "      background-color: #434B5C;\n",
              "      box-shadow: 0px 1px 3px 1px rgba(0, 0, 0, 0.15);\n",
              "      filter: drop-shadow(0px 1px 2px rgba(0, 0, 0, 0.3));\n",
              "      fill: #FFFFFF;\n",
              "    }\n",
              "  </style>\n",
              "\n",
              "    <script>\n",
              "      const buttonEl =\n",
              "        document.querySelector('#df-81e3a7ac-948a-4b69-af57-a7e8361a987d button.colab-df-convert');\n",
              "      buttonEl.style.display =\n",
              "        google.colab.kernel.accessAllowed ? 'block' : 'none';\n",
              "\n",
              "      async function convertToInteractive(key) {\n",
              "        const element = document.querySelector('#df-81e3a7ac-948a-4b69-af57-a7e8361a987d');\n",
              "        const dataTable =\n",
              "          await google.colab.kernel.invokeFunction('convertToInteractive',\n",
              "                                                    [key], {});\n",
              "        if (!dataTable) return;\n",
              "\n",
              "        const docLinkHtml = 'Like what you see? Visit the ' +\n",
              "          '<a target=\"_blank\" href=https://colab.research.google.com/notebooks/data_table.ipynb>data table notebook</a>'\n",
              "          + ' to learn more about interactive tables.';\n",
              "        element.innerHTML = '';\n",
              "        dataTable['output_type'] = 'display_data';\n",
              "        await google.colab.output.renderOutput(dataTable, element);\n",
              "        const docLink = document.createElement('div');\n",
              "        docLink.innerHTML = docLinkHtml;\n",
              "        element.appendChild(docLink);\n",
              "      }\n",
              "    </script>\n",
              "  </div>\n",
              "\n",
              "\n",
              "<div id=\"df-dd14c32e-19ab-4794-a5a4-3b850297ff74\">\n",
              "  <button class=\"colab-df-quickchart\" onclick=\"quickchart('df-dd14c32e-19ab-4794-a5a4-3b850297ff74')\"\n",
              "            title=\"Suggest charts\"\n",
              "            style=\"display:none;\">\n",
              "\n",
              "<svg xmlns=\"http://www.w3.org/2000/svg\" height=\"24px\"viewBox=\"0 0 24 24\"\n",
              "     width=\"24px\">\n",
              "    <g>\n",
              "        <path d=\"M19 3H5c-1.1 0-2 .9-2 2v14c0 1.1.9 2 2 2h14c1.1 0 2-.9 2-2V5c0-1.1-.9-2-2-2zM9 17H7v-7h2v7zm4 0h-2V7h2v10zm4 0h-2v-4h2v4z\"/>\n",
              "    </g>\n",
              "</svg>\n",
              "  </button>\n",
              "\n",
              "<style>\n",
              "  .colab-df-quickchart {\n",
              "      --bg-color: #E8F0FE;\n",
              "      --fill-color: #1967D2;\n",
              "      --hover-bg-color: #E2EBFA;\n",
              "      --hover-fill-color: #174EA6;\n",
              "      --disabled-fill-color: #AAA;\n",
              "      --disabled-bg-color: #DDD;\n",
              "  }\n",
              "\n",
              "  [theme=dark] .colab-df-quickchart {\n",
              "      --bg-color: #3B4455;\n",
              "      --fill-color: #D2E3FC;\n",
              "      --hover-bg-color: #434B5C;\n",
              "      --hover-fill-color: #FFFFFF;\n",
              "      --disabled-bg-color: #3B4455;\n",
              "      --disabled-fill-color: #666;\n",
              "  }\n",
              "\n",
              "  .colab-df-quickchart {\n",
              "    background-color: var(--bg-color);\n",
              "    border: none;\n",
              "    border-radius: 50%;\n",
              "    cursor: pointer;\n",
              "    display: none;\n",
              "    fill: var(--fill-color);\n",
              "    height: 32px;\n",
              "    padding: 0;\n",
              "    width: 32px;\n",
              "  }\n",
              "\n",
              "  .colab-df-quickchart:hover {\n",
              "    background-color: var(--hover-bg-color);\n",
              "    box-shadow: 0 1px 2px rgba(60, 64, 67, 0.3), 0 1px 3px 1px rgba(60, 64, 67, 0.15);\n",
              "    fill: var(--button-hover-fill-color);\n",
              "  }\n",
              "\n",
              "  .colab-df-quickchart-complete:disabled,\n",
              "  .colab-df-quickchart-complete:disabled:hover {\n",
              "    background-color: var(--disabled-bg-color);\n",
              "    fill: var(--disabled-fill-color);\n",
              "    box-shadow: none;\n",
              "  }\n",
              "\n",
              "  .colab-df-spinner {\n",
              "    border: 2px solid var(--fill-color);\n",
              "    border-color: transparent;\n",
              "    border-bottom-color: var(--fill-color);\n",
              "    animation:\n",
              "      spin 1s steps(1) infinite;\n",
              "  }\n",
              "\n",
              "  @keyframes spin {\n",
              "    0% {\n",
              "      border-color: transparent;\n",
              "      border-bottom-color: var(--fill-color);\n",
              "      border-left-color: var(--fill-color);\n",
              "    }\n",
              "    20% {\n",
              "      border-color: transparent;\n",
              "      border-left-color: var(--fill-color);\n",
              "      border-top-color: var(--fill-color);\n",
              "    }\n",
              "    30% {\n",
              "      border-color: transparent;\n",
              "      border-left-color: var(--fill-color);\n",
              "      border-top-color: var(--fill-color);\n",
              "      border-right-color: var(--fill-color);\n",
              "    }\n",
              "    40% {\n",
              "      border-color: transparent;\n",
              "      border-right-color: var(--fill-color);\n",
              "      border-top-color: var(--fill-color);\n",
              "    }\n",
              "    60% {\n",
              "      border-color: transparent;\n",
              "      border-right-color: var(--fill-color);\n",
              "    }\n",
              "    80% {\n",
              "      border-color: transparent;\n",
              "      border-right-color: var(--fill-color);\n",
              "      border-bottom-color: var(--fill-color);\n",
              "    }\n",
              "    90% {\n",
              "      border-color: transparent;\n",
              "      border-bottom-color: var(--fill-color);\n",
              "    }\n",
              "  }\n",
              "</style>\n",
              "\n",
              "  <script>\n",
              "    async function quickchart(key) {\n",
              "      const quickchartButtonEl =\n",
              "        document.querySelector('#' + key + ' button');\n",
              "      quickchartButtonEl.disabled = true;  // To prevent multiple clicks.\n",
              "      quickchartButtonEl.classList.add('colab-df-spinner');\n",
              "      try {\n",
              "        const charts = await google.colab.kernel.invokeFunction(\n",
              "            'suggestCharts', [key], {});\n",
              "      } catch (error) {\n",
              "        console.error('Error during call to suggestCharts:', error);\n",
              "      }\n",
              "      quickchartButtonEl.classList.remove('colab-df-spinner');\n",
              "      quickchartButtonEl.classList.add('colab-df-quickchart-complete');\n",
              "    }\n",
              "    (() => {\n",
              "      let quickchartButtonEl =\n",
              "        document.querySelector('#df-dd14c32e-19ab-4794-a5a4-3b850297ff74 button');\n",
              "      quickchartButtonEl.style.display =\n",
              "        google.colab.kernel.accessAllowed ? 'block' : 'none';\n",
              "    })();\n",
              "  </script>\n",
              "</div>\n",
              "\n",
              "    </div>\n",
              "  </div>\n"
            ],
            "application/vnd.google.colaboratory.intrinsic+json": {
              "type": "dataframe",
              "variable_name": "data",
              "summary": "{\n  \"name\": \"data\",\n  \"rows\": 5000,\n  \"fields\": [\n    {\n      \"column\": \"Text\",\n      \"properties\": {\n        \"dtype\": \"string\",\n        \"num_unique_values\": 4960,\n        \"samples\": [\n          \"`:::::::::I'm afriad that is total nonsense. So much for you scholarship when you cannot understand simnple words like atheism - look up a definition. It is not a religion. It involves no supernatural mumbo jumbo. It is not a ``faith``. In fact it is the lack of ``faith`` - the reliance on the rational. It is the neutral default position. You are talking rubbish - but thanks for making your position very clear - would you describe yourself as a fundamentalist?    `\",\n          \"`  :::Maybe you can also ``mediate`` T-Man's insane edit on Legends of the Dark Knight...  `\",\n          \"  == Spurious edits ==  I just wanted to tell you that there are edits going on like removing Macedonian names from Greek towns, changing Republic of Macedonia to  FYRM etc. They are done from changing IP numbers, each change done with a separate IP number. Check Florina, Drama, Greece.  \"\n        ],\n        \"semantic_type\": \"\",\n        \"description\": \"\"\n      }\n    },\n    {\n      \"column\": \"lable\",\n      \"properties\": {\n        \"dtype\": \"number\",\n        \"std\": 0.4894160888432969,\n        \"min\": 0.0,\n        \"max\": 1.0,\n        \"num_unique_values\": 2,\n        \"samples\": [\n          0.0,\n          1.0\n        ],\n        \"semantic_type\": \"\",\n        \"description\": \"\"\n      }\n    },\n    {\n      \"column\": \"Clean Dataset\",\n      \"properties\": {\n        \"dtype\": \"string\",\n        \"num_unique_values\": 4950,\n        \"samples\": [\n          \"red ensign hello bellman really like australian new zealand flags alot their respectively national flags blue ensigns elagant beautiful designs pov also love red ensign counterparts australia red ensignmerchant ensign navy httpflagspotnetimagesaauredgif new zealand red ensign merchant ensign navy httpflagspotnetimagesnnzcivilgif proposed canadian red ensign possible new national flag httpscaausaskcagalleryflagdisplayimageswebpaneljpg really love star constillation theme the australia new zealand red ensigns southern cross kinship proposed canadian red ensign big dipper sincerely hope red ensign page become unlocked someday contributions bellman would true pleasure read sincerely armchairvexillologistdon\",\n          \"please stop continue vandalize pages national park blocked editing wikipedia\"\n        ],\n        \"semantic_type\": \"\",\n        \"description\": \"\"\n      }\n    },\n    {\n      \"column\": \"Cleaned_Text\",\n      \"properties\": {\n        \"dtype\": \"string\",\n        \"num_unique_values\": 4916,\n        \"samples\": [\n          \"japan make decisions cause favourite articles certainly bad able use bigger tool box repeat craft defended one getting frustrated well ive done good editing\",\n          \"welcoming template shamelessly stolen modified stole back make one anons\"\n        ],\n        \"semantic_type\": \"\",\n        \"description\": \"\"\n      }\n    }\n  ]\n}"
            }
          },
          "metadata": {},
          "execution_count": 9
        }
      ],
      "source": [
        "import re\n",
        "import string\n",
        "from nltk.corpus import stopwords\n",
        "\n",
        "nltk.download('stopwords')\n",
        "stop_words = set(stopwords.words('english'))\n",
        "\n",
        "# Dictionary of short forms and their corresponding full forms\n",
        "abbreviation_map = {\n",
        "    \"isn't\": \"is not\",\n",
        "    \"aren't\": \"are not\",\n",
        "    \"can't\": \"cannot\",\n",
        "    \"couldn't\": \"could not\",\n",
        "    \"don't\": \"do not\",\n",
        "    \"doesn't\": \"does not\",\n",
        "    \"it's\": \"it is\",\n",
        "    \"i'm\": \"I am\",\n",
        "    \"you're\": \"you are\",\n",
        "    \"he's\": \"he is\",\n",
        "    \"she's\": \"she is\",\n",
        "    \"we're\": \"we are\",\n",
        "    \"they're\": \"they are\",\n",
        "    \"I've\": \"I have\",\n",
        "    \"we've\": \"we have\",\n",
        "    \"you've\": \"you have\",\n",
        "    \"they've\": \"they have\",\n",
        "    \"I'll\": \"I will\",\n",
        "    \"you'll\": \"you will\",\n",
        "    \"he'll\": \"he will\",\n",
        "    \"she'll\": \"she will\",\n",
        "    \"we'll\": \"we will\",\n",
        "    \"they'll\": \"they will\",\n",
        "    \"I'd\": \"I would\",\n",
        "    \"you'd\": \"you would\",\n",
        "    \"he'd\": \"he would\",\n",
        "    \"she'd\": \"she would\",\n",
        "    \"we'd\": \"we would\",\n",
        "    \"they'd\": \"they would\",\n",
        "    \"let's\": \"let us\",\n",
        "    \"who's\": \"who is\",\n",
        "    \"what's\": \"what is\",\n",
        "    \"where's\": \"where is\",\n",
        "    \"there's\": \"there is\",\n",
        "    \"here's\": \"here is\",\n",
        "    \"that's\": \"that is\",\n",
        "    \"how's\": \"how is\",\n",
        "    \"isn't\": \"is not\",\n",
        "    \"didn't\": \"did not\",\n",
        "    \"wasn't\": \"was not\",\n",
        "    \"weren't\": \"were not\",\n",
        "    \"wouldn't\": \"would not\",\n",
        "    \"shouldn't\": \"should not\",\n",
        "    \"hasn't\": \"has not\",\n",
        "    \"hadn't\": \"had not\",\n",
        "    \"won't\": \"will not\",\n",
        "    \"wouldn't\": \"would not\",\n",
        "    \"couldn't\": \"could not\",\n",
        "    \"doesn't\": \"does not\"\n",
        "}\n",
        "\n",
        "def clean_text(text):\n",
        "    # Handle potential float values by converting to string first\n",
        "    if isinstance(text, float):\n",
        "        text = str(text)\n",
        "\n",
        "    # Convert to lowercase\n",
        "    text = text.lower()\n",
        "\n",
        "    # Replace short forms with full forms\n",
        "    for short_form, full_form in abbreviation_map.items():\n",
        "        text = text.replace(short_form, full_form)\n",
        "\n",
        "    # Remove URLs\n",
        "    text = re.sub(r'http\\S+|www\\S+|https\\S+', '', text, flags=re.MULTILINE)\n",
        "\n",
        "    # Remove email addresses\n",
        "    text = re.sub(r'\\b\\w+@\\w+\\.\\w+\\b', '', text)\n",
        "\n",
        "    # Remove digits\n",
        "    text = re.sub(r'\\d+', '', text)\n",
        "\n",
        "    # Remove punctuation\n",
        "    text = text.translate(str.maketrans('', '', string.punctuation))\n",
        "\n",
        "    # Remove extra whitespace\n",
        "    text = text.strip()\n",
        "\n",
        "    # Remove multiple spaces\n",
        "    text = re.sub(r'\\s+', ' ', text)\n",
        "    # Remove special characters and short words\n",
        "    text = re.sub(r':|<|>|>>|[^a-zA-Z\\s]', '', text)\n",
        "\n",
        "    # Remove 1 or 2 character words (excluding specific words like \"no\")\n",
        "    words_to_keep = [\"no\"]\n",
        "    pattern = r'\\b(?!' + r'\\b|\\b'.join(words_to_keep) + r'\\b)\\w{1,2}\\b'\n",
        "    text = re.sub(pattern, '', text)\n",
        "\n",
        "    # Remove stopwords\n",
        "    text = ' '.join([word for word in text.split() if word not in stop_words])\n",
        "\n",
        "    return text\n",
        "\n",
        "# Apply the function to the 'Text' column of your DataFrame\n",
        "data['Text'] = data['Text'].apply(clean_text)\n",
        "data=pd.read_csv(\"/content/sample_data/Example (1).csv\",encoding=\"latin-1\")\n",
        "\n",
        "# Apply the clean_text function to the 'Text' column of your DataFrame\n",
        "data['Cleaned_Text'] = data['Text'].apply(clean_text)\n",
        "\n",
        "# Save the cleaned data to a new CSV file\n",
        "data.to_csv('cleaned_data.csv', index=False)\n",
        "\n",
        "data.head(20)\n"
      ]
    },
    {
      "cell_type": "code",
      "execution_count": 10,
      "metadata": {
        "colab": {
          "base_uri": "https://localhost:8080/"
        },
        "id": "JcwcliSDt1dN",
        "outputId": "bb7a7d02-d6c6-46ea-e318-183c56225989"
      },
      "outputs": [
        {
          "output_type": "stream",
          "name": "stdout",
          "text": [
            "(5000, 4)\n",
            "                                                Text  lable  \\\n",
            "0  `- This is not ``creative``.  Those are the di...    1.0   \n",
            "1  `  :: the term ``standard model`` is itself le...    0.0   \n",
            "2    True or false, the situation as of March 200...    0.0   \n",
            "3   Next, maybe you could work on being less cond...    1.0   \n",
            "4               This page will need disambiguation.     0.0   \n",
            "\n",
            "                                       Clean Dataset  \\\n",
            "0  this creative those dictionary definitions ter...   \n",
            "1  term standard model less npov think wed prefer...   \n",
            "2  true false situation march saudi proposal land...   \n",
            "3  next maybe could work less condescending sugge...   \n",
            "4                      this page need disambiguation   \n",
            "\n",
            "                                        Cleaned_Text  \n",
            "0  creative dictionary definitions terms insuranc...  \n",
            "1  term standard model less npov think would pref...  \n",
            "2  true false situation march saudi proposal land...  \n",
            "3  next maybe could work less condescending sugge...  \n",
            "4                           page need disambiguation  \n",
            "Index(['Text', 'lable', 'Clean Dataset', 'Cleaned_Text'], dtype='object')\n",
            "235       == Parentage and children ==  I see this was...\n",
            "3980      Wow, that's like six-million times better th...\n",
            "905     `  It seems to me, to use a Christian metaphor...\n",
            "2763    `   Sooooo... Does any OTHER admin want to com...\n",
            "2895      ==  English versions ==  There is not need t...\n",
            "Name: Text, dtype: object\n",
            "235     0.0\n",
            "3980    0.0\n",
            "905     1.0\n",
            "2763    1.0\n",
            "2895    1.0\n",
            "Name: lable, dtype: float64\n"
          ]
        }
      ],
      "source": [
        "\n",
        "data.head()\n",
        "data.shape\n",
        "print(data.shape)\n",
        "print(data.head())\n",
        "print(data.columns)\n",
        "print(X.head())\n",
        "print(y.head())\n"
      ]
    },
    {
      "cell_type": "markdown",
      "metadata": {
        "id": "N6fNpGzsz5pc"
      },
      "source": [
        "Eliminate last 17 thousand dataset beacuse its too long and time wasting"
      ]
    },
    {
      "cell_type": "code",
      "execution_count": 11,
      "metadata": {
        "id": "EOwe7nRdt3lD"
      },
      "outputs": [],
      "source": [
        "data = data.iloc[:4000,:]"
      ]
    },
    {
      "cell_type": "code",
      "execution_count": 12,
      "metadata": {
        "colab": {
          "base_uri": "https://localhost:8080/",
          "height": 178
        },
        "id": "mKkKpAAEt-cy",
        "outputId": "4851584b-f796-4ec5-a922-a206998ce486"
      },
      "outputs": [
        {
          "output_type": "execute_result",
          "data": {
            "text/plain": [
              "lable\n",
              "1.0    2406\n",
              "0.0    1594\n",
              "Name: count, dtype: int64"
            ],
            "text/html": [
              "<div>\n",
              "<style scoped>\n",
              "    .dataframe tbody tr th:only-of-type {\n",
              "        vertical-align: middle;\n",
              "    }\n",
              "\n",
              "    .dataframe tbody tr th {\n",
              "        vertical-align: top;\n",
              "    }\n",
              "\n",
              "    .dataframe thead th {\n",
              "        text-align: right;\n",
              "    }\n",
              "</style>\n",
              "<table border=\"1\" class=\"dataframe\">\n",
              "  <thead>\n",
              "    <tr style=\"text-align: right;\">\n",
              "      <th></th>\n",
              "      <th>count</th>\n",
              "    </tr>\n",
              "    <tr>\n",
              "      <th>lable</th>\n",
              "      <th></th>\n",
              "    </tr>\n",
              "  </thead>\n",
              "  <tbody>\n",
              "    <tr>\n",
              "      <th>1.0</th>\n",
              "      <td>2406</td>\n",
              "    </tr>\n",
              "    <tr>\n",
              "      <th>0.0</th>\n",
              "      <td>1594</td>\n",
              "    </tr>\n",
              "  </tbody>\n",
              "</table>\n",
              "</div><br><label><b>dtype:</b> int64</label>"
            ]
          },
          "metadata": {},
          "execution_count": 12
        }
      ],
      "source": [
        "data['lable'].value_counts()"
      ]
    },
    {
      "cell_type": "markdown",
      "metadata": {
        "id": "KJiyQt7601hl"
      },
      "source": [
        "visualize the leable"
      ]
    },
    {
      "cell_type": "code",
      "execution_count": 13,
      "metadata": {
        "colab": {
          "base_uri": "https://localhost:8080/",
          "height": 476
        },
        "id": "mseqOBt-uBhC",
        "outputId": "fe0f649e-63ac-4b04-ca39-b1c939c68777"
      },
      "outputs": [
        {
          "output_type": "execute_result",
          "data": {
            "text/plain": [
              "<Axes: xlabel='lable'>"
            ]
          },
          "metadata": {},
          "execution_count": 13
        },
        {
          "output_type": "display_data",
          "data": {
            "text/plain": [
              "<Figure size 640x480 with 1 Axes>"
            ],
            "image/png": "[encoded data removed]"
          },
          "metadata": {}
        }
      ],
      "source": [
        "data['lable'].value_counts().plot(kind='bar')"
      ]
    },
    {
      "cell_type": "markdown",
      "metadata": {
        "id": "MVZqiuSw1TLL"
      },
      "source": [
        "Creating a pie chart for the label i got"
      ]
    },
    {
      "cell_type": "code",
      "execution_count": 14,
      "metadata": {
        "colab": {
          "base_uri": "https://localhost:8080/",
          "height": 538
        },
        "id": "WfSo8LLkuNeM",
        "outputId": "ebb758d1-aea5-4521-aa08-e2f12089c47b"
      },
      "outputs": [
        {
          "output_type": "execute_result",
          "data": {
            "text/plain": [
              "Text(0.5, 1.0, 'label distribution')"
            ]
          },
          "metadata": {},
          "execution_count": 14
        },
        {
          "output_type": "display_data",
          "data": {
            "text/plain": [
              "<Figure size 1000x600 with 1 Axes>"
            ],
            "image/png": "[encoded data removed]"
          },
          "metadata": {}
        }
      ],
      "source": [
        "plt.figure(figsize=(10,6))\n",
        "colors = ['green', 'orange']\n",
        "data['lable'].value_counts().plot(kind='pie', autopct='%.1f%%',shadow = True,colors = colors,startangle = 45,\n",
        "                 explode=(0, 0.1))\n",
        "plt.title('label distribution')\n"
      ]
    },
    {
      "cell_type": "markdown",
      "metadata": {
        "id": "go0IQJDf1rpG"
      },
      "source": [
        "the code is trying to extract the value at the 999th position within the  column"
      ]
    },
    {
      "cell_type": "markdown",
      "metadata": {
        "id": "jaiL9tQg2ITO"
      },
      "source": [
        "visualizing the negetive and positive words,it counts frequents word of each category"
      ]
    },
    {
      "cell_type": "code",
      "execution_count": 15,
      "metadata": {
        "colab": {
          "base_uri": "https://localhost:8080/",
          "height": 35
        },
        "id": "_rfmpiYR-rBZ",
        "outputId": "e6400770-57f0-420b-f60b-ce165a8bfa09"
      },
      "outputs": [
        {
          "output_type": "execute_result",
          "data": {
            "text/plain": [
              "'  == Pig Fenian ==  Nice wrist action boys, keep it up.  '"
            ],
            "application/vnd.google.colaboratory.intrinsic+json": {
              "type": "string"
            }
          },
          "metadata": {},
          "execution_count": 15
        }
      ],
      "source": [
        "data['Text'][999]"
      ]
    },
    {
      "cell_type": "code",
      "execution_count": 16,
      "metadata": {
        "colab": {
          "base_uri": "https://localhost:8080/"
        },
        "id": "dJoIrMu-Ehcr",
        "outputId": "0633aafc-56a0-479a-f948-b0ea89dade8f"
      },
      "outputs": [
        {
          "output_type": "stream",
          "name": "stdout",
          "text": [
            "Index(['Text', 'lable', 'Clean Dataset', 'Cleaned_Text'], dtype='object')\n"
          ]
        }
      ],
      "source": [
        "print(data.columns)"
      ]
    },
    {
      "cell_type": "markdown",
      "metadata": {
        "id": "YtW5wapYE8JR"
      },
      "source": []
    },
    {
      "cell_type": "markdown",
      "metadata": {
        "id": "EKVgQ5jb2vpy"
      },
      "source": [
        "Text to numbering featuress\n"
      ]
    },
    {
      "cell_type": "markdown",
      "metadata": {
        "id": "wLY1JURWD2Qu"
      },
      "source": [
        "# Text to matrix"
      ]
    },
    {
      "cell_type": "markdown",
      "metadata": {
        "id": "qQ6rZbS1JroR"
      },
      "source": [
        "# **Use TfidfVectorizer**"
      ]
    },
    {
      "cell_type": "code",
      "execution_count": 17,
      "metadata": {
        "id": "0adpeFSSwPDL"
      },
      "outputs": [],
      "source": [
        "from sklearn.feature_extraction.text import TfidfVectorizer # convert a collection of raw text documents into a matrix\n",
        "tfidf=TfidfVectorizer(strip_accents=None,lowercase=False,preprocessor=None,use_idf=True,norm='l2',smooth_idf=True)\n",
        "# Extract the label values from the 'data' DataFrame and assign them to variable 'y'\n",
        "data['Text'] = data['Text'].fillna('')\n",
        "y=data.lable.values\n",
        "x=tfidf.fit_transform(data.Text)"
      ]
    },
    {
      "cell_type": "code",
      "execution_count": 18,
      "metadata": {
        "id": "9uR46WkYwoHb"
      },
      "outputs": [],
      "source": [
        "from sklearn.model_selection import train_test_split\n",
        "X_train,X_test,y_train,y_test=train_test_split(x,y,random_state=1,test_size=0.2,shuffle=False)"
      ]
    },
    {
      "cell_type": "code",
      "execution_count": 20,
      "metadata": {
        "colab": {
          "base_uri": "https://localhost:8080/"
        },
        "id": "Y9NtxbNBwqf0",
        "outputId": "5d3dd289-e905-431b-c6fe-0f744736966a"
      },
      "outputs": [
        {
          "output_type": "stream",
          "name": "stderr",
          "text": [
            "[Parallel(n_jobs=-1)]: Using backend LokyBackend with 2 concurrent workers.\n",
            "[Parallel(n_jobs=-1)]: Done   6 out of   6 | elapsed:   20.7s finished\n"
          ]
        }
      ],
      "source": [
        "from sklearn.linear_model import LogisticRegressionCV\n",
        "#cross-validation to select the best regularization parameter.\n",
        "clf=LogisticRegressionCV(cv=6,scoring='accuracy',random_state=0,n_jobs=-1,verbose=3,max_iter=500).fit(X_train,y_train)\n",
        "y_pred = clf.predict(X_test)"
      ]
    },
    {
      "cell_type": "code",
      "execution_count": 21,
      "metadata": {
        "colab": {
          "base_uri": "https://localhost:8080/"
        },
        "id": "6MvXKEGYxUhZ",
        "outputId": "01ed0c5e-f654-4ecc-85cc-a78a54e67124"
      },
      "outputs": [
        {
          "output_type": "stream",
          "name": "stdout",
          "text": [
            "Test Accuracy: 0.6275\n",
            "Train Accuracy: 0.595\n"
          ]
        }
      ],
      "source": [
        "from sklearn import metrics\n",
        "\n",
        "\n",
        "print(\"Test Accuracy:\", metrics.accuracy_score(y_test, y_pred))\n",
        "print(\"Train Accuracy:\", metrics.accuracy_score(y_train, clf.predict(X_train)))\n"
      ]
    },
    {
      "cell_type": "markdown",
      "metadata": {
        "id": "0PEbnopZKYMS"
      },
      "source": [
        "#Albert"
      ]
    },
    {
      "cell_type": "code",
      "source": [
        "pip install transformers\n"
      ],
      "metadata": {
        "colab": {
          "base_uri": "https://localhost:8080/"
        },
        "id": "5QZRiZLVljof",
        "outputId": "99aee24f-7eb9-43ae-dda2-76dd9e88c20c"
      },
      "execution_count": 22,
      "outputs": [
        {
          "output_type": "stream",
          "name": "stdout",
          "text": [
            "Requirement already satisfied: transformers in /usr/local/lib/python3.10/dist-packages (4.44.2)\n",
            "Requirement already satisfied: filelock in /usr/local/lib/python3.10/dist-packages (from transformers) (3.16.1)\n",
            "Requirement already satisfied: huggingface-hub<1.0,>=0.23.2 in /usr/local/lib/python3.10/dist-packages (from transformers) (0.24.7)\n",
            "Requirement already satisfied: numpy>=1.17 in /usr/local/lib/python3.10/dist-packages (from transformers) (1.26.4)\n",
            "Requirement already satisfied: packaging>=20.0 in /usr/local/lib/python3.10/dist-packages (from transformers) (24.1)\n",
            "Requirement already satisfied: pyyaml>=5.1 in /usr/local/lib/python3.10/dist-packages (from transformers) (6.0.2)\n",
            "Requirement already satisfied: regex!=2019.12.17 in /usr/local/lib/python3.10/dist-packages (from transformers) (2024.9.11)\n",
            "Requirement already satisfied: requests in /usr/local/lib/python3.10/dist-packages (from transformers) (2.32.3)\n",
            "Requirement already satisfied: safetensors>=0.4.1 in /usr/local/lib/python3.10/dist-packages (from transformers) (0.4.5)\n",
            "Requirement already satisfied: tokenizers<0.20,>=0.19 in /usr/local/lib/python3.10/dist-packages (from transformers) (0.19.1)\n",
            "Requirement already satisfied: tqdm>=4.27 in /usr/local/lib/python3.10/dist-packages (from transformers) (4.66.5)\n",
            "Requirement already satisfied: fsspec>=2023.5.0 in /usr/local/lib/python3.10/dist-packages (from huggingface-hub<1.0,>=0.23.2->transformers) (2024.6.1)\n",
            "Requirement already satisfied: typing-extensions>=3.7.4.3 in /usr/local/lib/python3.10/dist-packages (from huggingface-hub<1.0,>=0.23.2->transformers) (4.12.2)\n",
            "Requirement already satisfied: charset-normalizer<4,>=2 in /usr/local/lib/python3.10/dist-packages (from requests->transformers) (3.4.0)\n",
            "Requirement already satisfied: idna<4,>=2.5 in /usr/local/lib/python3.10/dist-packages (from requests->transformers) (3.10)\n",
            "Requirement already satisfied: urllib3<3,>=1.21.1 in /usr/local/lib/python3.10/dist-packages (from requests->transformers) (2.2.3)\n",
            "Requirement already satisfied: certifi>=2017.4.17 in /usr/local/lib/python3.10/dist-packages (from requests->transformers) (2024.8.30)\n"
          ]
        }
      ]
    },
    {
      "cell_type": "code",
      "source": [
        "from transformers import AlbertTokenizer, AlbertForSequenceClassification\n",
        "from transformers import Trainer, TrainingArguments\n",
        "import torch\n",
        "from sklearn.model_selection import train_test_split\n",
        "\n",
        "# Load ALBERT tokenizer and model\n",
        "tokenizer = AlbertTokenizer.from_pretrained(\"albert-base-v2\")\n",
        "model = AlbertForSequenceClassification.from_pretrained(\"albert-base-v2\", num_labels=2)  # num_labels = 2 for binary classification\n"
      ],
      "metadata": {
        "colab": {
          "base_uri": "https://localhost:8080/"
        },
        "id": "yEoCzzWUl3IN",
        "outputId": "d0c4e2ec-140a-42ca-ec2c-ba86e281461b"
      },
      "execution_count": 23,
      "outputs": [
        {
          "output_type": "stream",
          "name": "stderr",
          "text": [
            "/usr/local/lib/python3.10/dist-packages/transformers/tokenization_utils_base.py:1601: FutureWarning: `clean_up_tokenization_spaces` was not set. It will be set to `True` by default. This behavior will be depracted in transformers v4.45, and will be then set to `False` by default. For more details check this issue: https://github.com/huggingface/transformers/issues/31884\n",
            "  warnings.warn(\n",
            "Some weights of AlbertForSequenceClassification were not initialized from the model checkpoint at albert-base-v2 and are newly initialized: ['classifier.bias', 'classifier.weight']\n",
            "You should probably TRAIN this model on a down-stream task to be able to use it for predictions and inference.\n"
          ]
        }
      ]
    },
    {
      "cell_type": "code",
      "source": [
        "# Tokenize the text data\n",
        "def tokenize_data(texts, tokenizer, max_len):\n",
        "    return tokenizer(texts, padding=True, truncation=True, max_length=max_len, return_tensors='pt')\n",
        "\n",
        "# Tokenize and split data\n",
        "tokenized_data = tokenize_data(data['Text'].tolist(), tokenizer, max_len=100)\n",
        "X_train, X_test, y_train, y_test = train_test_split(tokenized_data['input_ids'], data['lable'], test_size=0.2, random_state=42)\n"
      ],
      "metadata": {
        "id": "aZsA-P1Ql7H2"
      },
      "execution_count": 24,
      "outputs": []
    },
    {
      "cell_type": "code",
      "source": [
        "class TextDataset(torch.utils.data.Dataset):\n",
        "    def __init__(self, input_ids, labels):\n",
        "        self.input_ids = input_ids\n",
        "        self.labels = labels\n",
        "\n",
        "    def __len__(self):\n",
        "        return len(self.labels)\n",
        "\n",
        "    def __getitem__(self, idx):\n",
        "        return {\n",
        "            'input_ids': self.input_ids[idx],\n",
        "            'labels': torch.tensor(self.labels[idx], dtype=torch.long)\n",
        "        }\n",
        "\n",
        "train_dataset = TextDataset(X_train, y_train)\n",
        "test_dataset = TextDataset(X_test, y_test)\n"
      ],
      "metadata": {
        "id": "mbjtBIyDl9Hv"
      },
      "execution_count": 25,
      "outputs": []
    },
    {
      "cell_type": "code",
      "source": [
        "training_args = TrainingArguments(\n",
        "    output_dir='./results',\n",
        "    num_train_epochs=3,\n",
        "    per_device_train_batch_size=16,\n",
        "    per_device_eval_batch_size=64,\n",
        "    warmup_steps=500,\n",
        "    weight_decay=0.01,\n",
        "    logging_dir='./logs',\n",
        "    logging_steps=10,\n",
        "    evaluation_strategy=\"epoch\"\n",
        ")\n",
        "\n",
        "trainer = Trainer(\n",
        "    model=model,\n",
        "    args=training_args,\n",
        "    train_dataset=train_dataset,\n",
        "    eval_dataset=test_dataset\n",
        ")\n"
      ],
      "metadata": {
        "colab": {
          "base_uri": "https://localhost:8080/"
        },
        "id": "R2chrgn5l_H3",
        "outputId": "5e12937c-edf6-4a01-f42e-f6e998318f74"
      },
      "execution_count": 26,
      "outputs": [
        {
          "output_type": "stream",
          "name": "stderr",
          "text": [
            "/usr/local/lib/python3.10/dist-packages/transformers/training_args.py:1525: FutureWarning: `evaluation_strategy` is deprecated and will be removed in version 4.46 of 🤗 Transformers. Use `eval_strategy` instead\n",
            "  warnings.warn(\n"
          ]
        }
      ]
    },
    {
      "cell_type": "code",
      "source": [
        "from transformers import AlbertTokenizer, AlbertForSequenceClassification, Trainer, TrainingArguments\n",
        "import torch\n",
        "from sklearn.model_selection import train_test_split\n",
        "\n",
        "# Load tokenizer and model\n",
        "tokenizer = AlbertTokenizer.from_pretrained(\"albert-base-v2\")\n",
        "model = AlbertForSequenceClassification.from_pretrained(\"albert-base-v2\", num_labels=2)\n",
        "\n",
        "# Split raw texts and labels before tokenization\n",
        "texts = data['Text'].tolist()\n",
        "labels = data['lable'].tolist()\n",
        "\n",
        "# Split the data into training and testing sets\n",
        "X_train_texts, X_test_texts, y_train, y_test = train_test_split(texts, labels, test_size=0.2, random_state=42)\n",
        "\n",
        "# Tokenize training and testing data separately\n",
        "X_train_encodings = tokenizer(X_train_texts, padding=True, truncation=True, max_length=100, return_tensors='pt')\n",
        "X_test_encodings = tokenizer(X_test_texts, padding=True, truncation=True, max_length=100, return_tensors='pt')\n",
        "\n",
        "# Convert labels to tensors\n",
        "y_train = torch.tensor(y_train)\n",
        "y_test = torch.tensor(y_test)\n",
        "\n",
        "# Define dataset class\n",
        "class TextDataset(torch.utils.data.Dataset):\n",
        "    def __init__(self, encodings, labels):\n",
        "        self.encodings = encodings\n",
        "        self.labels = labels\n",
        "\n",
        "    def __len__(self):\n",
        "        return len(self.labels)\n",
        "\n",
        "    def __getitem__(self, idx):\n",
        "        item = {key: torch.tensor(val[idx]) for key, val in self.encodings.items()}\n",
        "        item['labels'] = torch.tensor(self.labels[idx], dtype=torch.long)\n",
        "        return item\n",
        "\n",
        "# Create dataset objects\n",
        "train_dataset = TextDataset(X_train_encodings, y_train)\n",
        "test_dataset = TextDataset(X_test_encodings, y_test)\n",
        "\n",
        "# Define training arguments\n",
        "training_args = TrainingArguments(\n",
        "    output_dir='./results',\n",
        "    num_train_epochs=3,++99+\n",
        "    per_device_train_batch_size=16,\n",
        "    per_device_eval_batch_size=64,\n",
        "    warmup_steps=500,\n",
        "    weight_decay=0.01,\n",
        "    logging_dir='./logs',\n",
        "    logging_steps=10,\n",
        "    evaluation_strategy=\"epoch\"\n",
        ")\n",
        "\n",
        "# Create Trainer object\n",
        "trainer = Trainer(\n",
        "    model=model,\n",
        "    args=training_args,\n",
        "    train_dataset=train_dataset,\n",
        "    eval_dataset=test_dataset\n",
        ")\n",
        "\n",
        "# Train the model\n",
        "trainer.train()\n",
        "trainer.evaluate()\n",
        "\n"
      ],
      "metadata": {
        "colab": {
          "base_uri": "https://localhost:8080/",
          "height": 539
        },
        "id": "3HMfyTOtmBWG",
        "outputId": "dcc897eb-24e2-429e-f258-2b7cf630d5b7"
      },
      "execution_count": 27,
      "outputs": [
        {
          "output_type": "stream",
          "name": "stderr",
          "text": [
            "Some weights of AlbertForSequenceClassification were not initialized from the model checkpoint at albert-base-v2 and are newly initialized: ['classifier.bias', 'classifier.weight']\n",
            "You should probably TRAIN this model on a down-stream task to be able to use it for predictions and inference.\n",
            "<ipython-input-27-0bd5fb51fd92>:34: UserWarning: To copy construct from a tensor, it is recommended to use sourceTensor.clone().detach() or sourceTensor.clone().detach().requires_grad_(True), rather than torch.tensor(sourceTensor).\n",
            "  item = {key: torch.tensor(val[idx]) for key, val in self.encodings.items()}\n",
            "<ipython-input-27-0bd5fb51fd92>:35: UserWarning: To copy construct from a tensor, it is recommended to use sourceTensor.clone().detach() or sourceTensor.clone().detach().requires_grad_(True), rather than torch.tensor(sourceTensor).\n",
            "  item['labels'] = torch.tensor(self.labels[idx], dtype=torch.long)\n"
          ]
        },
        {
          "output_type": "display_data",
          "data": {
            "text/plain": [
              "<IPython.core.display.HTML object>"
            ],
            "text/html": [
              "\n",
              "    <div>\n",
              "      \n",
              "      <progress value='600' max='600' style='width:300px; height:20px; vertical-align: middle;'></progress>\n",
              "      [600/600 2:47:28, Epoch 3/3]\n",
              "    </div>\n",
              "    <table border=\"1\" class=\"dataframe\">\n",
              "  <thead>\n",
              " <tr style=\"text-align: left;\">\n",
              "      <th>Epoch</th>\n",
              "      <th>Training Loss</th>\n",
              "      <th>Validation Loss</th>\n",
              "    </tr>\n",
              "  </thead>\n",
              "  <tbody>\n",
              "    <tr>\n",
              "      <td>1</td>\n",
              "      <td>0.685100</td>\n",
              "      <td>0.683592</td>\n",
              "    </tr>\n",
              "    <tr>\n",
              "      <td>2</td>\n",
              "      <td>0.719000</td>\n",
              "      <td>0.688923</td>\n",
              "    </tr>\n",
              "    <tr>\n",
              "      <td>3</td>\n",
              "      <td>0.673800</td>\n",
              "      <td>0.659848</td>\n",
              "    </tr>\n",
              "  </tbody>\n",
              "</table><p>"
            ]
          },
          "metadata": {}
        },
        {
          "output_type": "stream",
          "name": "stderr",
          "text": [
            "<ipython-input-27-0bd5fb51fd92>:34: UserWarning: To copy construct from a tensor, it is recommended to use sourceTensor.clone().detach() or sourceTensor.clone().detach().requires_grad_(True), rather than torch.tensor(sourceTensor).\n",
            "  item = {key: torch.tensor(val[idx]) for key, val in self.encodings.items()}\n",
            "<ipython-input-27-0bd5fb51fd92>:35: UserWarning: To copy construct from a tensor, it is recommended to use sourceTensor.clone().detach() or sourceTensor.clone().detach().requires_grad_(True), rather than torch.tensor(sourceTensor).\n",
            "  item['labels'] = torch.tensor(self.labels[idx], dtype=torch.long)\n",
            "<ipython-input-27-0bd5fb51fd92>:34: UserWarning: To copy construct from a tensor, it is recommended to use sourceTensor.clone().detach() or sourceTensor.clone().detach().requires_grad_(True), rather than torch.tensor(sourceTensor).\n",
            "  item = {key: torch.tensor(val[idx]) for key, val in self.encodings.items()}\n",
            "<ipython-input-27-0bd5fb51fd92>:35: UserWarning: To copy construct from a tensor, it is recommended to use sourceTensor.clone().detach() or sourceTensor.clone().detach().requires_grad_(True), rather than torch.tensor(sourceTensor).\n",
            "  item['labels'] = torch.tensor(self.labels[idx], dtype=torch.long)\n"
          ]
        },
        {
          "output_type": "display_data",
          "data": {
            "text/plain": [
              "<IPython.core.display.HTML object>"
            ],
            "text/html": [
              "\n",
              "    <div>\n",
              "      \n",
              "      <progress value='13' max='13' style='width:300px; height:20px; vertical-align: middle;'></progress>\n",
              "      [13/13 04:11]\n",
              "    </div>\n",
              "    "
            ]
          },
          "metadata": {}
        },
        {
          "output_type": "execute_result",
          "data": {
            "text/plain": [
              "{'eval_loss': 0.6598477959632874,\n",
              " 'eval_runtime': 272.3516,\n",
              " 'eval_samples_per_second': 2.937,\n",
              " 'eval_steps_per_second': 0.048,\n",
              " 'epoch': 3.0}"
            ]
          },
          "metadata": {},
          "execution_count": 27
        }
      ]
    },
    {
      "cell_type": "code",
      "source": [
        "\n",
        "\n",
        "\n",
        "from sklearn.metrics import accuracy_score\n",
        "\n",
        "# Make predictions on the test dataset\n",
        "predictions = trainer.predict(test_dataset)\n",
        "\n",
        "# Extract the predicted labels (argmax of the logits)\n",
        "predicted_labels = predictions.predictions.argmax(-1)\n",
        "\n",
        "# Calculate accuracy\n",
        "accuracy = accuracy_score(y_test.numpy(), predicted_labels)\n",
        "\n",
        "print(\"Test Accuracy:\", accuracy)\n"
      ],
      "metadata": {
        "colab": {
          "base_uri": "https://localhost:8080/",
          "height": 124
        },
        "outputId": "84ad7138-08b2-4861-df22-43f05bbf3776",
        "id": "6Kes7NS1bTW-"
      },
      "execution_count": 28,
      "outputs": [
        {
          "output_type": "stream",
          "name": "stderr",
          "text": [
            "<ipython-input-27-0bd5fb51fd92>:34: UserWarning: To copy construct from a tensor, it is recommended to use sourceTensor.clone().detach() or sourceTensor.clone().detach().requires_grad_(True), rather than torch.tensor(sourceTensor).\n",
            "  item = {key: torch.tensor(val[idx]) for key, val in self.encodings.items()}\n",
            "<ipython-input-27-0bd5fb51fd92>:35: UserWarning: To copy construct from a tensor, it is recommended to use sourceTensor.clone().detach() or sourceTensor.clone().detach().requires_grad_(True), rather than torch.tensor(sourceTensor).\n",
            "  item['labels'] = torch.tensor(self.labels[idx], dtype=torch.long)\n"
          ]
        },
        {
          "output_type": "display_data",
          "data": {
            "text/plain": [
              "<IPython.core.display.HTML object>"
            ],
            "text/html": []
          },
          "metadata": {}
        },
        {
          "output_type": "stream",
          "name": "stdout",
          "text": [
            "Test Accuracy: 0.59375\n"
          ]
        }
      ]
    }
  ],
  "metadata": {
    "colab": {
      "provenance": []
    },
    "kernelspec": {
      "display_name": "Python 3",
      "name": "python3"
    },
    "language_info": {
      "name": "python"
    }
  },
  "nbformat": 4,
  "nbformat_minor": 0
}