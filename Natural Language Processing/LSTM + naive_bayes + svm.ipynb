{
 "cells": [
  {
   "cell_type": "code",
   "execution_count": 2,
   "metadata": {
    "colab": {
     "base_uri": "https://localhost:8080/",
     "height": 363
    },
    "id": "SGbYS8EnkLuY",
    "outputId": "607da15f-73c3-433f-bd6c-a8b4538d869d"
   },
   "outputs": [
    {
     "data": {
      "text/html": [
       "<div>\n",
       "<style scoped>\n",
       "    .dataframe tbody tr th:only-of-type {\n",
       "        vertical-align: middle;\n",
       "    }\n",
       "\n",
       "    .dataframe tbody tr th {\n",
       "        vertical-align: top;\n",
       "    }\n",
       "\n",
       "    .dataframe thead th {\n",
       "        text-align: right;\n",
       "    }\n",
       "</style>\n",
       "<table border=\"1\" class=\"dataframe\">\n",
       "  <thead>\n",
       "    <tr style=\"text-align: right;\">\n",
       "      <th></th>\n",
       "      <th>label</th>\n",
       "      <th>Text</th>\n",
       "    </tr>\n",
       "  </thead>\n",
       "  <tbody>\n",
       "    <tr>\n",
       "      <th>0</th>\n",
       "      <td>1</td>\n",
       "      <td>@polythenespam I will be all packed for rehab....</td>\n",
       "    </tr>\n",
       "    <tr>\n",
       "      <th>1</th>\n",
       "      <td>1</td>\n",
       "      <td>Sorry if you at having trouble viewing my stor...</td>\n",
       "    </tr>\n",
       "    <tr>\n",
       "      <th>2</th>\n",
       "      <td>1</td>\n",
       "      <td>Ah! My pc is so bad to me!!!</td>\n",
       "    </tr>\n",
       "    <tr>\n",
       "      <th>3</th>\n",
       "      <td>1</td>\n",
       "      <td>@kstew_fan No shade, still all old!  And you h...</td>\n",
       "    </tr>\n",
       "    <tr>\n",
       "      <th>4</th>\n",
       "      <td>1</td>\n",
       "      <td>Our phone line is dead.</td>\n",
       "    </tr>\n",
       "    <tr>\n",
       "      <th>5</th>\n",
       "      <td>1</td>\n",
       "      <td>Spending my last days in Washington with the b...</td>\n",
       "    </tr>\n",
       "    <tr>\n",
       "      <th>6</th>\n",
       "      <td>0</td>\n",
       "      <td>http://twitpic.com/6ivhj - Demi...ÃÂ¢ÃÂÃÂ¥...</td>\n",
       "    </tr>\n",
       "    <tr>\n",
       "      <th>7</th>\n",
       "      <td>1</td>\n",
       "      <td>@missxseptemberk nope, because then I'd miss m...</td>\n",
       "    </tr>\n",
       "    <tr>\n",
       "      <th>8</th>\n",
       "      <td>0</td>\n",
       "      <td>@JillzWorth its sooooooooo gone    i feel so a...</td>\n",
       "    </tr>\n",
       "    <tr>\n",
       "      <th>9</th>\n",
       "      <td>1</td>\n",
       "      <td>lost ma phone... man this is da worst bday wee...</td>\n",
       "    </tr>\n",
       "  </tbody>\n",
       "</table>\n",
       "</div>"
      ],
      "text/plain": [
       "   label                                               Text\n",
       "0      1  @polythenespam I will be all packed for rehab....\n",
       "1      1  Sorry if you at having trouble viewing my stor...\n",
       "2      1                      Ah! My pc is so bad to me!!! \n",
       "3      1  @kstew_fan No shade, still all old!  And you h...\n",
       "4      1                           Our phone line is dead. \n",
       "5      1  Spending my last days in Washington with the b...\n",
       "6      0  http://twitpic.com/6ivhj - Demi...ÃÂ¢ÃÂÃÂ¥...\n",
       "7      1  @missxseptemberk nope, because then I'd miss m...\n",
       "8      0  @JillzWorth its sooooooooo gone    i feel so a...\n",
       "9      1  lost ma phone... man this is da worst bday wee..."
      ]
     },
     "execution_count": 2,
     "metadata": {},
     "output_type": "execute_result"
    }
   ],
   "source": [
    "import pandas as pd\n",
    "import numpy as np\n",
    "import matplotlib.pyplot as plt\n",
    "import seaborn as sns\n",
    "#READ DATA\n",
    "data = pd.read_csv(\"C:\\\\Users\\\\USER\\\\Desktop\\\\New Research\\\\dataset.csv\", encoding='ISO-8859-1')\n",
    "\n",
    "data.head(10)"
   ]
  },
  {
   "cell_type": "code",
   "execution_count": 3,
   "metadata": {},
   "outputs": [],
   "source": [
    "sample_data = data.sample(150000,replace=True, random_state=1)\n",
    "X = sample_data['Text']\n",
    "y = sample_data['label']"
   ]
  },
  {
   "cell_type": "code",
   "execution_count": 4,
   "metadata": {
    "id": "VrkStg-uk7fX"
   },
   "outputs": [],
   "source": [
    "from sklearn.feature_extraction.text import TfidfVectorizer\n",
    "from sklearn.model_selection import train_test_split\n",
    "from sklearn.linear_model import LogisticRegressionCV\n",
    "from sklearn import metrics\n",
    "import nltk\n",
    "from nltk.corpus import stopwords\n",
    "import string\n",
    "import re"
   ]
  },
  {
   "cell_type": "code",
   "execution_count": 5,
   "metadata": {
    "colab": {
     "base_uri": "https://localhost:8080/"
    },
    "id": "UMIqepKQUSK0",
    "outputId": "8c99ec8d-96a5-4c18-ad6d-4420a4fa65d0"
   },
   "outputs": [
    {
     "name": "stderr",
     "output_type": "stream",
     "text": [
      "[nltk_data] Downloading package stopwords to\n",
      "[nltk_data]     C:\\Users\\USER\\AppData\\Roaming\\nltk_data...\n",
      "[nltk_data]   Package stopwords is already up-to-date!\n"
     ]
    }
   ],
   "source": [
    "nltk.download('stopwords')\n",
    "from nltk.corpus import stopwords\n",
    "stop_words = set(stopwords.words('english'))"
   ]
  },
  {
   "cell_type": "code",
   "execution_count": 6,
   "metadata": {},
   "outputs": [],
   "source": [
    "import nltk\n",
    "nltk.data.path.append(\"C:/Users/Asus/nltk_data\")  # Update the path if you’ve placed nltk_data elsewhere\n"
   ]
  },
  {
   "cell_type": "code",
   "execution_count": 7,
   "metadata": {},
   "outputs": [
    {
     "name": "stderr",
     "output_type": "stream",
     "text": [
      "[nltk_data] Downloading package punkt to\n",
      "[nltk_data]     C:\\Users\\USER\\AppData\\Roaming\\nltk_data...\n",
      "[nltk_data]   Package punkt is already up-to-date!\n",
      "[nltk_data] Downloading package stopwords to\n",
      "[nltk_data]     C:\\Users\\USER\\AppData\\Roaming\\nltk_data...\n",
      "[nltk_data]   Package stopwords is already up-to-date!\n",
      "[nltk_data] Downloading package averaged_perceptron_tagger to\n",
      "[nltk_data]     C:\\Users\\USER\\AppData\\Roaming\\nltk_data...\n",
      "[nltk_data]   Package averaged_perceptron_tagger is already up-to-\n",
      "[nltk_data]       date!\n",
      "[nltk_data] Downloading package wordnet to\n",
      "[nltk_data]     C:\\Users\\USER\\AppData\\Roaming\\nltk_data...\n",
      "[nltk_data]   Package wordnet is already up-to-date!\n"
     ]
    },
    {
     "data": {
      "text/plain": [
       "True"
      ]
     },
     "execution_count": 7,
     "metadata": {},
     "output_type": "execute_result"
    }
   ],
   "source": [
    "import nltk\n",
    "nltk.download('punkt')\n",
    "nltk.download('stopwords')\n",
    "nltk.download('averaged_perceptron_tagger')\n",
    "nltk.download('wordnet')\n"
   ]
  },
  {
   "cell_type": "code",
   "execution_count": 8,
   "metadata": {},
   "outputs": [
    {
     "name": "stderr",
     "output_type": "stream",
     "text": [
      "[nltk_data] Downloading package punkt to\n",
      "[nltk_data]     C:\\Users\\USER\\AppData\\Roaming\\nltk_data...\n",
      "[nltk_data]   Package punkt is already up-to-date!\n",
      "[nltk_data] Downloading package stopwords to\n",
      "[nltk_data]     C:\\Users\\USER\\AppData\\Roaming\\nltk_data...\n",
      "[nltk_data]   Package stopwords is already up-to-date!\n",
      "[nltk_data] Downloading package averaged_perceptron_tagger to\n",
      "[nltk_data]     C:\\Users\\USER\\AppData\\Roaming\\nltk_data...\n",
      "[nltk_data]   Package averaged_perceptron_tagger is already up-to-\n",
      "[nltk_data]       date!\n",
      "[nltk_data] Downloading package wordnet to\n",
      "[nltk_data]     C:\\Users\\USER\\AppData\\Roaming\\nltk_data...\n",
      "[nltk_data]   Package wordnet is already up-to-date!\n"
     ]
    },
    {
     "name": "stdout",
     "output_type": "stream",
     "text": [
      "Most common POS tags in negative words:\n",
      "[('NN', 279060), ('JJ', 98524), ('VB', 51556), ('NNS', 50896), ('VBP', 39925), ('VBG', 37556), ('VBD', 28735), ('RB', 26769), ('VBN', 19943), ('VBZ', 13296)]\n",
      "    label                                               Text  \\\n",
      "0       1  @polythenespam I will be all packed for rehab....   \n",
      "1       1  Sorry if you at having trouble viewing my stor...   \n",
      "2       1                      Ah! My pc is so bad to me!!!    \n",
      "3       1  @kstew_fan No shade, still all old!  And you h...   \n",
      "4       1                           Our phone line is dead.    \n",
      "5       1  Spending my last days in Washington with the b...   \n",
      "6       0  http://twitpic.com/6ivhj - Demi...Ã¢ÂÂ¥Ã¢ÂÂ¥...   \n",
      "7       1  @missxseptemberk nope, because then I'd miss m...   \n",
      "8       0  @JillzWorth its sooooooooo gone    i feel so a...   \n",
      "9       1  lost ma phone... man this is da worst bday wee...   \n",
      "10      0  @revjesse @TipSquirrel Haha... if I ruled the ...   \n",
      "11      1  Not been tweeting much  Resi was good, went to...   \n",
      "12      0  @davidtoddmke @digtlhippie (AKA Andy) is sad b...   \n",
      "13      1  Haha. I was super sick all day..and I couldn't...   \n",
      "14      1  In my garden, working on my tan and trying to ...   \n",
      "15      0     @lenoreva Happy Birthday! Have an awesome one    \n",
      "16      1        @awesomenessjen LOL! I have tutoring soon.    \n",
      "17      0       finals=over, SAT's=over, SUMMER= just began    \n",
      "18      1  chantelle's going to formula 1 nd leaving jess...   \n",
      "19      1  this week is really weird. i want it to just end    \n",
      "\n",
      "                                     Cleaned_Text_POS  \\\n",
      "0   [(pack, VBN), (rehab, NN), (tell, VB), (date, ...   \n",
      "1   [(sorry, NN), (trouble, NN), (view, VBG), (sto...   \n",
      "2                     [(ah, VB), (pc, NN), (bad, JJ)]   \n",
      "3   [(shade, NN), (old, JJ), (new, JJ), (pesquisar...   \n",
      "4               [(phone, NN), (line, NN), (dead, JJ)]   \n",
      "5   [(spending, NN), (day, NNS), (washington, NN),...   \n",
      "6   [(demi, NN), (hope, VBP), (come, VBZ), (german...   \n",
      "7   [(nope, NN), (iwould, JJ), (miss, VB), (wifey,...   \n",
      "8   [(sooooooooo, NN), (go, VBN), (feel, VBP), (aw...   \n",
      "9   [(lose, VBN), (phone, NN), (man, NN), (da, JJ)...   \n",
      "10  [(haha, NN), (rule, VBD), (world, NN), (therew...   \n",
      "11  [(tweet, VBG), (resi, NN), (good, JJ), (go, VB...   \n",
      "12  [(aka, NN), (andy, NN), (sad, JJ), (find, VB),...   \n",
      "13  [(haha, NN), (super, JJ), (sick, JJ), (dayand,...   \n",
      "14  [(garden, NN), (work, VBG), (tan, NN), (try, V...   \n",
      "15       [(happy, JJ), (birthday, NN), (awesome, JJ)]   \n",
      "16              [(lol, NN), (tutor, VBG), (soon, RB)]   \n",
      "17  [(finalsover, NN), (satisover, RB), (summer, N...   \n",
      "18  [(chantelleis, NN), (go, VBG), (formula, VB), ...   \n",
      "19  [(week, NN), (weird, JJ), (want, VBP), (end, VB)]   \n",
      "\n",
      "                                         Cleaned_Text  \n",
      "0        pack rehab tell date bruno twittersober lmao  \n",
      "1            sorry trouble view story site tech issue  \n",
      "2                                           ah pc bad  \n",
      "3                             shade old new pesquisar  \n",
      "4                                     phone line dead  \n",
      "5   spending day washington best th grade leader p...  \n",
      "6                    demi hope come germanywanna live  \n",
      "7                           nope iwould miss wifey lt  \n",
      "8                          sooooooooo go feel awesome  \n",
      "9   lose phone man da worst bday weekend everi wis...  \n",
      "10         haha rule world therewould hectic nonsense  \n",
      "11  tweet resi good go friday th bday party lastni...  \n",
      "12                         aka andy sad find big twit  \n",
      "13  haha super sick dayand hotel bad french experi...  \n",
      "14  garden work tan try find way think ruin quotho...  \n",
      "15                             happy birthday awesome  \n",
      "16                                     lol tutor soon  \n",
      "17                  finalsover satisover summer begin  \n",
      "18      chantelleis go formula nd leave jess saturday  \n",
      "19                                week weird want end  \n"
     ]
    }
   ],
   "source": [
    "import re\n",
    "import string\n",
    "import nltk\n",
    "import spacy\n",
    "import pandas as pd\n",
    "from nltk.corpus import stopwords\n",
    "from nltk import pos_tag, word_tokenize\n",
    "from nltk.stem import WordNetLemmatizer\n",
    "from spacy.lang.en.stop_words import STOP_WORDS as spacy_stopwords\n",
    "from collections import Counter\n",
    "\n",
    "# Download necessary NLTK datasets\n",
    "nltk.download('punkt')\n",
    "nltk.download('stopwords')\n",
    "nltk.download('averaged_perceptron_tagger')\n",
    "nltk.download('wordnet')\n",
    "\n",
    "# Initialize lemmatizer\n",
    "lemmatizer = WordNetLemmatizer()\n",
    "\n",
    "# Stopwords set (combining NLTK and spaCy stopwords)\n",
    "stop_words = frozenset(stopwords.words('english')).union(spacy_stopwords)\n",
    "\n",
    "# Dictionary of contractions and their expanded forms\n",
    "abbreviation_map = {\n",
    "    \"isn't\": \"is not\", \"aren't\": \"are not\", \"can't\": \"cannot\",\n",
    "    \"couldn't\": \"could not\", \"don't\": \"do not\", \"doesn't\": \"does not\",\n",
    "    \"n't\": \"not\", \"'re\": \"are\", \"'ve\": \"have\", \"'ll\": \"will\",\n",
    "    \"'d\": \"would\", \"'s\": \"is\"\n",
    "}\n",
    "\n",
    "# Enhanced data cleaning function\n",
    "def clean_text(text):\n",
    "    # Convert to lowercase and handle abbreviations\n",
    "    text = text.lower()\n",
    "    for short_form, full_form in abbreviation_map.items():\n",
    "        text = re.sub(rf\"\\b{re.escape(short_form)}\\b\", full_form, text)\n",
    "    \n",
    "    # Combine all regex replacements into a single call\n",
    "    text = re.sub(\n",
    "        r'http\\S+|www\\S+|https\\S+|'        # URLs\n",
    "        r'\\b\\w+@\\w+\\.\\w+\\b|'               # Emails\n",
    "        r'@\\w+|#\\w+|'                      # Hashtags and mentions\n",
    "        r'\\d+|'                            # Digits\n",
    "        r'[^\\x00-\\x7F]+|'                  # Non-English symbols\n",
    "        r'\\s+', ' ',                       # Excessive whitespace\n",
    "        text\n",
    "    )\n",
    "    \n",
    "    # Remove punctuation and trim whitespace\n",
    "    return text.translate(str.maketrans('', '', string.punctuation)).strip()\n",
    "\n",
    "# Tokenize, lemmatize, and filter by POS and stopwords in one step\n",
    "def process_and_filter_text(text):\n",
    "    tokens = word_tokenize(text)\n",
    "    pos_tagged = pos_tag(tokens)\n",
    "    filtered_words = []\n",
    "    \n",
    "    for word, tag in pos_tagged:\n",
    "        # Exclude stopwords and unwanted POS tags (e.g., prepositions and conjunctions)\n",
    "        if word in stop_words or tag in {'IN', 'CC'}:\n",
    "            continue\n",
    "        \n",
    "        # Determine POS and lemmatize accordingly\n",
    "        if tag.startswith('NN'):\n",
    "            lemma = lemmatizer.lemmatize(word, pos='n')\n",
    "        elif tag.startswith('VB'):\n",
    "            lemma = lemmatizer.lemmatize(word, pos='v')\n",
    "        elif tag.startswith('JJ'):\n",
    "            lemma = lemmatizer.lemmatize(word, pos='a')\n",
    "        elif tag.startswith('RB'):\n",
    "            lemma = lemmatizer.lemmatize(word, pos='r')\n",
    "        else:\n",
    "            lemma = lemmatizer.lemmatize(word)\n",
    "        \n",
    "        filtered_words.append((lemma, tag))  # Append word with POS tag if it passes all filters\n",
    "    \n",
    "    return filtered_words\n",
    "\n",
    "# Full data cleaning and preprocessing pipeline\n",
    "def preprocess_data(text):\n",
    "    cleaned_text = clean_text(text)\n",
    "    return process_and_filter_text(cleaned_text)\n",
    "\n",
    "# Apply the preprocessing function to the dataset\n",
    "data = pd.read_csv(\"C:\\\\Users\\\\USER\\\\Desktop\\\\New Research\\\\dataset.csv\")\n",
    "data['Cleaned_Text_POS'] = data['Text'].apply(preprocess_data)\n",
    "\n",
    "# Filter negative samples and analyze POS tags\n",
    "negative_data = data[data['label'] == 1]\n",
    "\n",
    "# Collect POS tags of words in negative texts\n",
    "pos_tags_negative = Counter()\n",
    "for row in negative_data['Cleaned_Text_POS']:\n",
    "    pos_tags_negative.update(tag for _, tag in row)\n",
    "\n",
    "# Display the most common POS tags associated with negative words\n",
    "print(\"Most common POS tags in negative words:\")\n",
    "print(pos_tags_negative.most_common(10))\n",
    "\n",
    "# Remove the POS tags to retain only the cleaned text for other uses\n",
    "data['Cleaned_Text'] = data['Cleaned_Text_POS'].apply(lambda x: ' '.join(word for word, _ in x))\n",
    "\n",
    "# Display the first 20 rows of the cleaned dataset with POS analysis\n",
    "print(data.head(20))\n"
   ]
  },
  {
   "cell_type": "code",
   "execution_count": 9,
   "metadata": {},
   "outputs": [
    {
     "name": "stdout",
     "output_type": "stream",
     "text": [
      "Most common POS tags in negative words:\n",
      "NN: 279060\n",
      "JJ: 98524\n",
      "VB: 51556\n",
      "NNS: 50896\n",
      "VBP: 39925\n",
      "VBG: 37556\n",
      "VBD: 28735\n",
      "RB: 26769\n",
      "VBN: 19943\n",
      "VBZ: 13296\n",
      "CSV file saved as pos_tags_negative_words.csv\n"
     ]
    },
    {
     "data": {
      "image/png": "[encoded data removed]",
      "text/plain": [
       "<Figure size 1000x600 with 1 Axes>"
      ]
     },
     "metadata": {},
     "output_type": "display_data"
    }
   ],
   "source": [
    "import pandas as pd\n",
    "from collections import Counter\n",
    "import matplotlib.pyplot as plt\n",
    "\n",
    "# Assuming `negative_data` is already defined and contains rows with 'label' == 1\n",
    "# and `Cleaned_Text_POS` is a list of tuples [(word, POS_tag), ...]\n",
    "\n",
    "# Collect POS tags from negative samples\n",
    "pos_tags_negative = Counter()\n",
    "for row in negative_data['Cleaned_Text_POS']:\n",
    "    pos_tags_negative.update(tag for _, tag in row)\n",
    "\n",
    "# Display the most common POS tags with their counts\n",
    "print(\"Most common POS tags in negative words:\")\n",
    "for tag, count in pos_tags_negative.most_common(10):\n",
    "    print(f\"{tag}: {count}\")\n",
    "\n",
    "# Convert to DataFrame for easier plotting and saving\n",
    "pos_tag_df = pd.DataFrame(pos_tags_negative.most_common(10), columns=['POS_Tag', 'Count'])\n",
    "\n",
    "# Save the DataFrame to a CSV file\n",
    "pos_tag_df.to_csv(\"pos_tags_negative_words.csv\", index=False)\n",
    "print(\"CSV file saved as pos_tags_negative_words.csv\")\n",
    "\n",
    "# Plotting the POS tag distribution for negative words\n",
    "plt.figure(figsize=(10, 6))\n",
    "plt.bar(pos_tag_df['POS_Tag'], pos_tag_df['Count'], color='skyblue')\n",
    "plt.xlabel(\"POS Tags\")\n",
    "plt.ylabel(\"Frequency\")\n",
    "plt.title(\"Top 10 Most Common POS Tags in Negative Words\")\n",
    "plt.xticks(rotation=45)\n",
    "plt.show()\n"
   ]
  },
  {
   "cell_type": "code",
   "execution_count": 9,
   "metadata": {},
   "outputs": [
    {
     "name": "stdout",
     "output_type": "stream",
     "text": [
      "Defaulting to user installation because normal site-packages is not writeable\n",
      "Collecting xlsxwriter\n",
      "  Downloading XlsxWriter-3.2.0-py3-none-any.whl.metadata (2.6 kB)\n",
      "Downloading XlsxWriter-3.2.0-py3-none-any.whl (159 kB)\n",
      "Installing collected packages: xlsxwriter\n",
      "Successfully installed xlsxwriter-3.2.0\n",
      "Note: you may need to restart the kernel to use updated packages.\n"
     ]
    }
   ],
   "source": [
    "pip install xlsxwriter"
   ]
  },
  {
   "cell_type": "code",
   "execution_count": 8,
   "metadata": {},
   "outputs": [
    {
     "name": "stdout",
     "output_type": "stream",
     "text": [
      "Excel file saved as unique_words_by_pos_tag_negative.xlsx\n"
     ]
    }
   ],
   "source": [
    "import pandas as pd\n",
    "from collections import defaultdict\n",
    "import xlsxwriter\n",
    "\n",
    "# Dictionary to store unique words per POS tag\n",
    "unique_words_by_pos = defaultdict(set)\n",
    "\n",
    "# Extract unique words per POS tag from negative samples\n",
    "for row in negative_data['Cleaned_Text_POS']:\n",
    "    for word, tag in row:\n",
    "        unique_words_by_pos[tag].add(word)\n",
    "\n",
    "# Find the maximum length among POS tags\n",
    "max_length = max(len(words) for words in unique_words_by_pos.values())\n",
    "\n",
    "# Pad each POS tag list with None to make all columns equal in length\n",
    "padded_unique_words = {tag: list(words) + [None] * (max_length - len(words)) for tag, words in unique_words_by_pos.items()}\n",
    "\n",
    "# Convert to DataFrame for saving to Excel\n",
    "unique_words_df = pd.DataFrame(padded_unique_words)\n",
    "\n",
    "# Save to Excel file\n",
    "excel_path = \"unique_words_by_pos_tag_negative.xlsx\"\n",
    "with pd.ExcelWriter(excel_path, engine='xlsxwriter') as writer:\n",
    "    unique_words_df.to_excel(writer, sheet_name=\"Unique_Words_By_POS\", index=False)\n",
    "\n",
    "print(f\"Excel file saved as {excel_path}\")\n"
   ]
  },
  {
   "cell_type": "code",
   "execution_count": 11,
   "metadata": {},
   "outputs": [
    {
     "ename": "PermissionError",
     "evalue": "[Errno 13] Permission denied: 'unique_words_by_pos_tag_negative.xlsx'",
     "output_type": "error",
     "traceback": [
      "\u001b[1;31m---------------------------------------------------------------------------\u001b[0m",
      "\u001b[1;31mPermissionError\u001b[0m                           Traceback (most recent call last)",
      "Cell \u001b[1;32mIn[11], line 28\u001b[0m\n\u001b[0;32m     26\u001b[0m \u001b[38;5;66;03m# Save to Excel file with both unique words and POS tag frequency analysis\u001b[39;00m\n\u001b[0;32m     27\u001b[0m excel_path \u001b[38;5;241m=\u001b[39m \u001b[38;5;124m\"\u001b[39m\u001b[38;5;124munique_words_by_pos_tag_negative.xlsx\u001b[39m\u001b[38;5;124m\"\u001b[39m\n\u001b[1;32m---> 28\u001b[0m \u001b[38;5;28;01mwith\u001b[39;00m \u001b[43mpd\u001b[49m\u001b[38;5;241;43m.\u001b[39;49m\u001b[43mExcelWriter\u001b[49m\u001b[43m(\u001b[49m\u001b[43mexcel_path\u001b[49m\u001b[43m,\u001b[49m\u001b[43m \u001b[49m\u001b[43mengine\u001b[49m\u001b[38;5;241;43m=\u001b[39;49m\u001b[38;5;124;43m'\u001b[39;49m\u001b[38;5;124;43mxlsxwriter\u001b[39;49m\u001b[38;5;124;43m'\u001b[39;49m\u001b[43m)\u001b[49m \u001b[38;5;28;01mas\u001b[39;00m writer:\n\u001b[0;32m     29\u001b[0m     unique_words_df\u001b[38;5;241m.\u001b[39mto_excel(writer, sheet_name\u001b[38;5;241m=\u001b[39m\u001b[38;5;124m\"\u001b[39m\u001b[38;5;124mcheck\u001b[39m\u001b[38;5;124m\"\u001b[39m, index\u001b[38;5;241m=\u001b[39m\u001b[38;5;28;01mFalse\u001b[39;00m)\n\u001b[0;32m     30\u001b[0m     pos_tag_counts_df\u001b[38;5;241m.\u001b[39mto_excel(writer, sheet_name\u001b[38;5;241m=\u001b[39m\u001b[38;5;124m\"\u001b[39m\u001b[38;5;124mPOS_Tag_Frequency\u001b[39m\u001b[38;5;124m\"\u001b[39m, index\u001b[38;5;241m=\u001b[39m\u001b[38;5;28;01mFalse\u001b[39;00m)\n",
      "File \u001b[1;32m~\\AppData\\Roaming\\Python\\Python310\\site-packages\\pandas\\io\\excel\\_xlsxwriter.py:204\u001b[0m, in \u001b[0;36mXlsxWriter.__init__\u001b[1;34m(self, path, engine, date_format, datetime_format, mode, storage_options, if_sheet_exists, engine_kwargs, **kwargs)\u001b[0m\n\u001b[0;32m    201\u001b[0m \u001b[38;5;28;01mif\u001b[39;00m mode \u001b[38;5;241m==\u001b[39m \u001b[38;5;124m\"\u001b[39m\u001b[38;5;124ma\u001b[39m\u001b[38;5;124m\"\u001b[39m:\n\u001b[0;32m    202\u001b[0m     \u001b[38;5;28;01mraise\u001b[39;00m \u001b[38;5;167;01mValueError\u001b[39;00m(\u001b[38;5;124m\"\u001b[39m\u001b[38;5;124mAppend mode is not supported with xlsxwriter!\u001b[39m\u001b[38;5;124m\"\u001b[39m)\n\u001b[1;32m--> 204\u001b[0m \u001b[38;5;28;43msuper\u001b[39;49m\u001b[43m(\u001b[49m\u001b[43m)\u001b[49m\u001b[38;5;241;43m.\u001b[39;49m\u001b[38;5;21;43m__init__\u001b[39;49m\u001b[43m(\u001b[49m\n\u001b[0;32m    205\u001b[0m \u001b[43m    \u001b[49m\u001b[43mpath\u001b[49m\u001b[43m,\u001b[49m\n\u001b[0;32m    206\u001b[0m \u001b[43m    \u001b[49m\u001b[43mengine\u001b[49m\u001b[38;5;241;43m=\u001b[39;49m\u001b[43mengine\u001b[49m\u001b[43m,\u001b[49m\n\u001b[0;32m    207\u001b[0m \u001b[43m    \u001b[49m\u001b[43mdate_format\u001b[49m\u001b[38;5;241;43m=\u001b[39;49m\u001b[43mdate_format\u001b[49m\u001b[43m,\u001b[49m\n\u001b[0;32m    208\u001b[0m \u001b[43m    \u001b[49m\u001b[43mdatetime_format\u001b[49m\u001b[38;5;241;43m=\u001b[39;49m\u001b[43mdatetime_format\u001b[49m\u001b[43m,\u001b[49m\n\u001b[0;32m    209\u001b[0m \u001b[43m    \u001b[49m\u001b[43mmode\u001b[49m\u001b[38;5;241;43m=\u001b[39;49m\u001b[43mmode\u001b[49m\u001b[43m,\u001b[49m\n\u001b[0;32m    210\u001b[0m \u001b[43m    \u001b[49m\u001b[43mstorage_options\u001b[49m\u001b[38;5;241;43m=\u001b[39;49m\u001b[43mstorage_options\u001b[49m\u001b[43m,\u001b[49m\n\u001b[0;32m    211\u001b[0m \u001b[43m    \u001b[49m\u001b[43mif_sheet_exists\u001b[49m\u001b[38;5;241;43m=\u001b[39;49m\u001b[43mif_sheet_exists\u001b[49m\u001b[43m,\u001b[49m\n\u001b[0;32m    212\u001b[0m \u001b[43m    \u001b[49m\u001b[43mengine_kwargs\u001b[49m\u001b[38;5;241;43m=\u001b[39;49m\u001b[43mengine_kwargs\u001b[49m\u001b[43m,\u001b[49m\n\u001b[0;32m    213\u001b[0m \u001b[43m\u001b[49m\u001b[43m)\u001b[49m\n\u001b[0;32m    215\u001b[0m \u001b[38;5;28;01mtry\u001b[39;00m:\n\u001b[0;32m    216\u001b[0m     \u001b[38;5;28mself\u001b[39m\u001b[38;5;241m.\u001b[39m_book \u001b[38;5;241m=\u001b[39m Workbook(\u001b[38;5;28mself\u001b[39m\u001b[38;5;241m.\u001b[39m_handles\u001b[38;5;241m.\u001b[39mhandle, \u001b[38;5;241m*\u001b[39m\u001b[38;5;241m*\u001b[39mengine_kwargs)\n",
      "File \u001b[1;32m~\\AppData\\Roaming\\Python\\Python310\\site-packages\\pandas\\io\\excel\\_base.py:1246\u001b[0m, in \u001b[0;36mExcelWriter.__init__\u001b[1;34m(self, path, engine, date_format, datetime_format, mode, storage_options, if_sheet_exists, engine_kwargs)\u001b[0m\n\u001b[0;32m   1242\u001b[0m \u001b[38;5;28mself\u001b[39m\u001b[38;5;241m.\u001b[39m_handles \u001b[38;5;241m=\u001b[39m IOHandles(\n\u001b[0;32m   1243\u001b[0m     cast(IO[\u001b[38;5;28mbytes\u001b[39m], path), compression\u001b[38;5;241m=\u001b[39m{\u001b[38;5;124m\"\u001b[39m\u001b[38;5;124mcompression\u001b[39m\u001b[38;5;124m\"\u001b[39m: \u001b[38;5;28;01mNone\u001b[39;00m}\n\u001b[0;32m   1244\u001b[0m )\n\u001b[0;32m   1245\u001b[0m \u001b[38;5;28;01mif\u001b[39;00m \u001b[38;5;129;01mnot\u001b[39;00m \u001b[38;5;28misinstance\u001b[39m(path, ExcelWriter):\n\u001b[1;32m-> 1246\u001b[0m     \u001b[38;5;28mself\u001b[39m\u001b[38;5;241m.\u001b[39m_handles \u001b[38;5;241m=\u001b[39m \u001b[43mget_handle\u001b[49m\u001b[43m(\u001b[49m\n\u001b[0;32m   1247\u001b[0m \u001b[43m        \u001b[49m\u001b[43mpath\u001b[49m\u001b[43m,\u001b[49m\u001b[43m \u001b[49m\u001b[43mmode\u001b[49m\u001b[43m,\u001b[49m\u001b[43m \u001b[49m\u001b[43mstorage_options\u001b[49m\u001b[38;5;241;43m=\u001b[39;49m\u001b[43mstorage_options\u001b[49m\u001b[43m,\u001b[49m\u001b[43m \u001b[49m\u001b[43mis_text\u001b[49m\u001b[38;5;241;43m=\u001b[39;49m\u001b[38;5;28;43;01mFalse\u001b[39;49;00m\n\u001b[0;32m   1248\u001b[0m \u001b[43m    \u001b[49m\u001b[43m)\u001b[49m\n\u001b[0;32m   1249\u001b[0m \u001b[38;5;28mself\u001b[39m\u001b[38;5;241m.\u001b[39m_cur_sheet \u001b[38;5;241m=\u001b[39m \u001b[38;5;28;01mNone\u001b[39;00m\n\u001b[0;32m   1251\u001b[0m \u001b[38;5;28;01mif\u001b[39;00m date_format \u001b[38;5;129;01mis\u001b[39;00m \u001b[38;5;28;01mNone\u001b[39;00m:\n",
      "File \u001b[1;32m~\\AppData\\Roaming\\Python\\Python310\\site-packages\\pandas\\io\\common.py:882\u001b[0m, in \u001b[0;36mget_handle\u001b[1;34m(path_or_buf, mode, encoding, compression, memory_map, is_text, errors, storage_options)\u001b[0m\n\u001b[0;32m    873\u001b[0m         handle \u001b[38;5;241m=\u001b[39m \u001b[38;5;28mopen\u001b[39m(\n\u001b[0;32m    874\u001b[0m             handle,\n\u001b[0;32m    875\u001b[0m             ioargs\u001b[38;5;241m.\u001b[39mmode,\n\u001b[1;32m   (...)\u001b[0m\n\u001b[0;32m    878\u001b[0m             newline\u001b[38;5;241m=\u001b[39m\u001b[38;5;124m\"\u001b[39m\u001b[38;5;124m\"\u001b[39m,\n\u001b[0;32m    879\u001b[0m         )\n\u001b[0;32m    880\u001b[0m     \u001b[38;5;28;01melse\u001b[39;00m:\n\u001b[0;32m    881\u001b[0m         \u001b[38;5;66;03m# Binary mode\u001b[39;00m\n\u001b[1;32m--> 882\u001b[0m         handle \u001b[38;5;241m=\u001b[39m \u001b[38;5;28;43mopen\u001b[39;49m\u001b[43m(\u001b[49m\u001b[43mhandle\u001b[49m\u001b[43m,\u001b[49m\u001b[43m \u001b[49m\u001b[43mioargs\u001b[49m\u001b[38;5;241;43m.\u001b[39;49m\u001b[43mmode\u001b[49m\u001b[43m)\u001b[49m\n\u001b[0;32m    883\u001b[0m     handles\u001b[38;5;241m.\u001b[39mappend(handle)\n\u001b[0;32m    885\u001b[0m \u001b[38;5;66;03m# Convert BytesIO or file objects passed with an encoding\u001b[39;00m\n",
      "\u001b[1;31mPermissionError\u001b[0m: [Errno 13] Permission denied: 'unique_words_by_pos_tag_negative.xlsx'"
     ]
    }
   ],
   "source": [
    "import pandas as pd\n",
    "from collections import defaultdict, Counter\n",
    "import xlsxwriter\n",
    "\n",
    "# Dictionary to store unique words per POS tag\n",
    "unique_words_by_pos = defaultdict(set)\n",
    "\n",
    "# Extract unique words per POS tag from negative samples\n",
    "for row in negative_data['Cleaned_Text_POS']:\n",
    "    for word, tag in row:\n",
    "        unique_words_by_pos[tag].add(word)\n",
    "\n",
    "# Find the maximum length among POS tags\n",
    "max_length = max(len(words) for words in unique_words_by_pos.values())\n",
    "\n",
    "# Pad each POS tag list with None to make all columns equal in length\n",
    "padded_unique_words = {tag: list(words) + [None] * (max_length - len(words)) for tag, words in unique_words_by_pos.items()}\n",
    "\n",
    "# Convert to DataFrame for saving unique words to Excel\n",
    "unique_words_df = pd.DataFrame(padded_unique_words)\n",
    "\n",
    "# Part 2: Analyze frequency of POS tags in negative samples\n",
    "pos_tag_counts = Counter(tag for row in negative_data['Cleaned_Text_POS'] for _, tag in row)\n",
    "pos_tag_counts_df = pd.DataFrame(pos_tag_counts.items(), columns=['POS_Tag', 'Frequency']).sort_values(by='Frequency', ascending=False)\n",
    "\n",
    "# Save to Excel file with both unique words and POS tag frequency analysis\n",
    "excel_path = \"unique_words_by_pos_tag_negative.xlsx\"\n",
    "with pd.ExcelWriter(excel_path, engine='xlsxwriter') as writer:\n",
    "    unique_words_df.to_excel(writer, sheet_name=\"check\", index=False)\n",
    "    pos_tag_counts_df.to_excel(writer, sheet_name=\"POS_Tag_Frequency\", index=False)\n",
    "\n",
    "print(f\"Excel file saved as {excel_path}\")\n"
   ]
  },
  {
   "cell_type": "code",
   "execution_count": 8,
   "metadata": {
    "colab": {
     "base_uri": "https://localhost:8080/",
     "height": 474
    },
    "id": "xMj_METtlv8_",
    "outputId": "e806e9ba-0fcf-48f1-cbab-4b37cb5b9c27"
   },
   "outputs": [
    {
     "data": {
      "text/plain": [
       "<Axes: xlabel='label'>"
      ]
     },
     "execution_count": 8,
     "metadata": {},
     "output_type": "execute_result"
    },
    {
     "data": {
      "image/png": "[encoded data removed]",
      "text/plain": [
       "<Figure size 640x480 with 1 Axes>"
      ]
     },
     "metadata": {},
     "output_type": "display_data"
    }
   ],
   "source": [
    "sample_data['label'].value_counts().plot(kind='bar')"
   ]
  },
  {
   "cell_type": "code",
   "execution_count": 9,
   "metadata": {
    "colab": {
     "base_uri": "https://localhost:8080/",
     "height": 538
    },
    "id": "t32PFqrFl2A0",
    "outputId": "fd7a2112-cc08-4207-b6a9-c89a21629e5b"
   },
   "outputs": [
    {
     "data": {
      "text/plain": [
       "Text(0.5, 1.0, 'label distribution')"
      ]
     },
     "execution_count": 9,
     "metadata": {},
     "output_type": "execute_result"
    },
    {
     "data": {
      "image/png": "[encoded data removed]",
      "text/plain": [
       "<Figure size 1000x600 with 1 Axes>"
      ]
     },
     "metadata": {},
     "output_type": "display_data"
    }
   ],
   "source": [
    "plt.figure(figsize=(10,6))\n",
    "colors = ['green', 'orange']\n",
    "sample_data['label'].value_counts().plot(kind='pie', autopct='%.1f%%',shadow = True,colors = colors,startangle = 45,\n",
    "                 explode=(0, 0.1))\n",
    "plt.title('label distribution')"
   ]
  },
  {
   "cell_type": "code",
   "execution_count": 10,
   "metadata": {
    "id": "mg5dSUlTl30U"
   },
   "outputs": [],
   "source": [
    "import numpy as np\n",
    "import pandas as pd\n",
    "from tensorflow.keras.preprocessing.text import Tokenizer\n",
    "from tensorflow.keras.preprocessing.sequence import pad_sequences\n",
    "from tensorflow.keras.models import Sequential\n",
    "from tensorflow.keras.layers import Embedding, LSTM, Dense, Dropout\n",
    "from tensorflow.keras.optimizers import Adam\n",
    "from sklearn.model_selection import train_test_split\n",
    "from sklearn.preprocessing import LabelEncoder\n",
    "from sklearn.metrics import accuracy_score"
   ]
  },
  {
   "cell_type": "code",
   "execution_count": null,
   "metadata": {},
   "outputs": [],
   "source": [
    "LSTM"
   ]
  },
  {
   "cell_type": "code",
   "execution_count": 14,
   "metadata": {},
   "outputs": [
    {
     "name": "stdout",
     "output_type": "stream",
     "text": [
      "Epoch 1/75\n",
      "\u001b[1m1875/1875\u001b[0m \u001b[32m━━━━━━━━━━━━━━━━━━━━\u001b[0m\u001b[37m\u001b[0m \u001b[1m1319s\u001b[0m 702ms/step - accuracy: 0.7473 - loss: 0.6759 - val_accuracy: 0.8146 - val_loss: 0.4294\n",
      "Epoch 2/75\n",
      "\u001b[1m1875/1875\u001b[0m \u001b[32m━━━━━━━━━━━━━━━━━━━━\u001b[0m\u001b[37m\u001b[0m \u001b[1m713s\u001b[0m 380ms/step - accuracy: 0.8271 - loss: 0.4127 - val_accuracy: 0.8291 - val_loss: 0.4019\n",
      "Epoch 3/75\n",
      "\u001b[1m1875/1875\u001b[0m \u001b[32m━━━━━━━━━━━━━━━━━━━━\u001b[0m\u001b[37m\u001b[0m \u001b[1m714s\u001b[0m 381ms/step - accuracy: 0.8433 - loss: 0.3832 - val_accuracy: 0.8362 - val_loss: 0.3917\n",
      "Epoch 4/75\n",
      "\u001b[1m1875/1875\u001b[0m \u001b[32m━━━━━━━━━━━━━━━━━━━━\u001b[0m\u001b[37m\u001b[0m \u001b[1m724s\u001b[0m 386ms/step - accuracy: 0.8591 - loss: 0.3539 - val_accuracy: 0.8440 - val_loss: 0.3769\n",
      "Epoch 5/75\n",
      "\u001b[1m1875/1875\u001b[0m \u001b[32m━━━━━━━━━━━━━━━━━━━━\u001b[0m\u001b[37m\u001b[0m \u001b[1m738s\u001b[0m 393ms/step - accuracy: 0.8729 - loss: 0.3298 - val_accuracy: 0.8459 - val_loss: 0.3712\n",
      "Epoch 6/75\n",
      "\u001b[1m1875/1875\u001b[0m \u001b[32m━━━━━━━━━━━━━━━━━━━━\u001b[0m\u001b[37m\u001b[0m \u001b[1m722s\u001b[0m 385ms/step - accuracy: 0.8841 - loss: 0.3055 - val_accuracy: 0.8556 - val_loss: 0.3619\n",
      "Epoch 7/75\n",
      "\u001b[1m1875/1875\u001b[0m \u001b[32m━━━━━━━━━━━━━━━━━━━━\u001b[0m\u001b[37m\u001b[0m \u001b[1m721s\u001b[0m 385ms/step - accuracy: 0.8980 - loss: 0.2807 - val_accuracy: 0.8588 - val_loss: 0.3700\n",
      "Epoch 8/75\n",
      "\u001b[1m1875/1875\u001b[0m \u001b[32m━━━━━━━━━━━━━━━━━━━━\u001b[0m\u001b[37m\u001b[0m \u001b[1m723s\u001b[0m 386ms/step - accuracy: 0.9083 - loss: 0.2576 - val_accuracy: 0.8558 - val_loss: 0.3901\n",
      "Epoch 9/75\n",
      "\u001b[1m1875/1875\u001b[0m \u001b[32m━━━━━━━━━━━━━━━━━━━━\u001b[0m\u001b[37m\u001b[0m \u001b[1m738s\u001b[0m 393ms/step - accuracy: 0.9175 - loss: 0.2376 - val_accuracy: 0.8663 - val_loss: 0.3739\n",
      "Epoch 10/75\n",
      "\u001b[1m1875/1875\u001b[0m \u001b[32m━━━━━━━━━━━━━━━━━━━━\u001b[0m\u001b[37m\u001b[0m \u001b[1m751s\u001b[0m 401ms/step - accuracy: 0.9252 - loss: 0.2202 - val_accuracy: 0.8680 - val_loss: 0.3683\n",
      "Epoch 11/75\n",
      "\u001b[1m1875/1875\u001b[0m \u001b[32m━━━━━━━━━━━━━━━━━━━━\u001b[0m\u001b[37m\u001b[0m \u001b[1m757s\u001b[0m 404ms/step - accuracy: 0.9312 - loss: 0.2052 - val_accuracy: 0.8683 - val_loss: 0.3874\n",
      "\u001b[1m938/938\u001b[0m \u001b[32m━━━━━━━━━━━━━━━━━━━━\u001b[0m\u001b[37m\u001b[0m \u001b[1m79s\u001b[0m 84ms/step\n",
      "Accuracy: 0.86\n"
     ]
    }
   ],
   "source": [
    "from tensorflow.keras.optimizers import RMSprop\n",
    "\n",
    "# Adjust LSTM units and add an additional dense layer\n",
    "model = Sequential()\n",
    "model.add(Embedding(input_dim=10000, output_dim=128, input_length=max_len))\n",
    "model.add(Bidirectional(LSTM(units=256, return_sequences=True)))\n",
    "model.add(Dropout(0.5))\n",
    "model.add(Bidirectional(LSTM(units=128, return_sequences=False)))\n",
    "model.add(Dropout(0.5))\n",
    "model.add(Dense(units=128, activation='relu', kernel_regularizer='l2'))\n",
    "model.add(Dropout(0.5))\n",
    "model.add(Dense(units=1, activation='sigmoid'))\n",
    "\n",
    "# Compile with a smaller learning rate and RMSprop optimizer\n",
    "model.compile(optimizer=RMSprop(learning_rate=0.001), loss='binary_crossentropy', metrics=['accuracy'])\n",
    "\n",
    "# Train the Enhanced Model with more epochs and early stopping\n",
    "from tensorflow.keras.callbacks import EarlyStopping\n",
    "\n",
    "early_stopping = EarlyStopping(monitor='val_loss', patience=5, restore_best_weights=True)\n",
    "\n",
    "history = model.fit(\n",
    "    X_train_padded, y_train,\n",
    "    epochs=75,  # Increase epochs for better learning\n",
    "    batch_size=64,\n",
    "    validation_data=(X_test_padded, y_test),\n",
    "    callbacks=[early_stopping]\n",
    ")\n",
    "\n",
    "# Evaluate the Enhanced Model\n",
    "y_pred = model.predict(X_test_padded)\n",
    "y_pred = np.round(y_pred).astype(int)\n",
    "accuracy = accuracy_score(y_test, y_pred)\n",
    "print(f'Accuracy: {accuracy:.2f}')\n"
   ]
  },
  {
   "cell_type": "markdown",
   "metadata": {
    "id": "34_rOytDdZq7"
   },
   "source": [
    "# SVM\n"
   ]
  },
  {
   "cell_type": "code",
   "execution_count": 18,
   "metadata": {
    "id": "IrQ6YxZ6yNCi"
   },
   "outputs": [
    {
     "name": "stdout",
     "output_type": "stream",
     "text": [
      "Test Accuracy: 0.82\n"
     ]
    }
   ],
   "source": [
    "import pandas as pd\n",
    "from sklearn.model_selection import train_test_split\n",
    "from sklearn.feature_extraction.text import TfidfVectorizer\n",
    "from sklearn.svm import SVC\n",
    "from sklearn.metrics import accuracy_score, classification_report\n",
    "\n",
    "\n",
    "sample_data['Text'] = sample_data['Text'].fillna('')\n",
    "\n",
    "texts = sample_data['Text'].values\n",
    "labels = sample_data['label'].values\n",
    "\n",
    "# Split data into training and test sets\n",
    "X_train, X_test, y_train, y_test = train_test_split(texts, labels, test_size=0.2, random_state=42)\n",
    "\n",
    "# Convert text data into TF-IDF features\n",
    "vectorizer = TfidfVectorizer(max_features=5000)\n",
    "X_train_tfidf = vectorizer.fit_transform(X_train)\n",
    "X_test_tfidf = vectorizer.transform(X_test)\n",
    "\n",
    "# Initialize and train the SVM model\n",
    "svm_model = SVC(kernel='linear')\n",
    "svm_model.fit(X_train_tfidf, y_train)\n",
    "\n",
    "# Make predictions on the test set\n",
    "y_pred = svm_model.predict(X_test_tfidf)\n",
    "\n",
    "# Evaluate the model\n",
    "accuracy = accuracy_score(y_test, y_pred)\n",
    "print(f'Test Accuracy: {accuracy:.2f}')"
   ]
  },
  {
   "cell_type": "markdown",
   "metadata": {
    "id": "9mwA_qWOyr-i"
   },
   "source": [
    "# naive_bayes\n"
   ]
  },
  {
   "cell_type": "code",
   "execution_count": 19,
   "metadata": {
    "id": "ejNawBGbh_m_"
   },
   "outputs": [
    {
     "name": "stdout",
     "output_type": "stream",
     "text": [
      "Test Accuracy: 0.78\n"
     ]
    }
   ],
   "source": [
    "import pandas as pd\n",
    "from sklearn.model_selection import train_test_split\n",
    "from sklearn.feature_extraction.text import TfidfVectorizer\n",
    "from sklearn.naive_bayes import MultinomialNB\n",
    "from sklearn.metrics import accuracy_score, classification_report\n",
    "\n",
    "texts = sample_data['Text'].values\n",
    "labels = sample_data['label'].values\n",
    "\n",
    "# Split data into training and test sets\n",
    "X_train, X_test, y_train, y_test = train_test_split(texts, labels, test_size=0.2, random_state=42)\n",
    "\n",
    "# Convert text data into TF-IDF features\n",
    "vectorizer = TfidfVectorizer(max_features=5000)  # Limit to 5000 features (words)\n",
    "\n",
    "# Handle NaN values by replacing them with an empty string before fitting the vectorizer\n",
    "X_train = [str(x) if not pd.isnull(x) else '' for x in X_train]\n",
    "X_test = [str(x) if not pd.isnull(x) else '' for x in X_test]\n",
    "\n",
    "X_train_tfidf = vectorizer.fit_transform(X_train)\n",
    "X_test_tfidf = vectorizer.transform(X_test)\n",
    "\n",
    "# Initialize and train the Naive Bayes model\n",
    "nb_model = MultinomialNB()\n",
    "nb_model.fit(X_train_tfidf, y_train)\n",
    "\n",
    "# Make predictions on the test set\n",
    "y_pred = nb_model.predict(X_test_tfidf)\n",
    "\n",
    "# Evaluate the model\n",
    "accuracy = accuracy_score(y_test, y_pred)\n",
    "print(f'Test Accuracy: {accuracy:.2f}')\n"
   ]
  }
 ],
 "metadata": {
  "colab": {
   "provenance": []
  },
  "kernelspec": {
   "display_name": "Python 3",
   "name": "python3"
  },
  "language_info": {
   "codemirror_mode": {
    "name": "ipython",
    "version": 3
   },
   "file_extension": ".py",
   "mimetype": "text/x-python",
   "name": "python",
   "nbconvert_exporter": "python",
   "pygments_lexer": "ipython3",
   "version": "3.10.10"
  }
 },
 "nbformat": 4,
 "nbformat_minor": 0
}
