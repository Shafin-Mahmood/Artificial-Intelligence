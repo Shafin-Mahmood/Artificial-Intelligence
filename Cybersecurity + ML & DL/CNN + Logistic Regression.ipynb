{
 "cells": [
  {
   "cell_type": "code",
   "execution_count": 1,
   "metadata": {},
   "outputs": [],
   "source": [
    "import pandas as pd\n",
    "import numpy as np\n",
    "import tensorflow as tf\n",
    "from tensorflow.keras.models import Sequential\n",
    "from tensorflow.keras.layers import Conv2D, MaxPooling2D, Flatten, Dense, Dropout\n",
    "from sklearn.model_selection import train_test_split\n",
    "from sklearn.preprocessing import StandardScaler, LabelEncoder\n",
    "from sklearn.metrics import accuracy_score, classification_report"
   ]
  },
  {
   "cell_type": "code",
   "execution_count": 2,
   "metadata": {},
   "outputs": [],
   "source": [
    "data = pd.read_csv(\"cybersecurity_attacks.csv\")\n"
   ]
  },
  {
   "cell_type": "markdown",
   "metadata": {},
   "source": [
    "Data Preprocessing"
   ]
  },
  {
   "cell_type": "code",
   "execution_count": 8,
   "metadata": {},
   "outputs": [
    {
     "name": "stdout",
     "output_type": "stream",
     "text": [
      "All columns are now numeric!\n"
     ]
    }
   ],
   "source": [
    "import pandas as pd\n",
    "import numpy as np\n",
    "from sklearn.preprocessing import LabelEncoder\n",
    "\n",
    "# Columns to drop\n",
    "columns_to_drop = [\n",
    "    'Payload Data', 'Device Information', 'Geo-location Data',\n",
    "    'Timestamp', 'User Information', 'Proxy Information'\n",
    "]\n",
    "\n",
    "# Encode remaining categorical columns\n",
    "categorical_columns = [\n",
    "    'Traffic Type', 'Malware Indicators', 'Alerts/Warnings',\n",
    "    'Attack Signature', 'Severity Level', 'Network Segment',\n",
    "    'Firewall Logs', 'IDS/IPS Alerts', 'Log Source',\n",
    "    'Protocol', 'Packet Type', 'Attack Type', 'Action Taken',\n",
    "    'Source IP Address', 'Destination IP Address'\n",
    "]\n",
    "\n",
    "label_encoders = {}\n",
    "\n",
    "# Iterate through columns to encode\n",
    "for column in categorical_columns:\n",
    "    if column in data.columns:\n",
    "        le = LabelEncoder()\n",
    "        # Fill NaN with a placeholder and encode as strings\n",
    "        data[column] = data[column].fillna('Unknown').astype(str)\n",
    "        data[column] = le.fit_transform(data[column])\n",
    "        label_encoders[column] = le\n",
    "\n",
    "# Drop irrelevant columns\n",
    "data = data.drop(columns=[col for col in columns_to_drop if col in data.columns], errors='ignore')\n",
    "\n",
    "# Check for non-numeric columns\n",
    "non_numeric_columns = data.select_dtypes(exclude=[np.number]).columns\n",
    "\n",
    "if len(non_numeric_columns) > 0:\n",
    "    # Print details of non-numeric columns for debugging\n",
    "    print(\"Non-numeric columns and their unique values:\", {col: data[col].unique() for col in non_numeric_columns})\n",
    "    raise ValueError(\"Some columns are still non-numeric after processing!\")\n",
    "\n",
    "print(\"All columns are now numeric!\")\n"
   ]
  },
  {
   "cell_type": "markdown",
   "metadata": {},
   "source": [
    "CNN"
   ]
  },
  {
   "cell_type": "code",
   "execution_count": 13,
   "metadata": {},
   "outputs": [
    {
     "name": "stdout",
     "output_type": "stream",
     "text": [
      "Epoch 1/100\n"
     ]
    },
    {
     "name": "stderr",
     "output_type": "stream",
     "text": [
      "C:\\Users\\USER\\AppData\\Roaming\\Python\\Python310\\site-packages\\keras\\src\\layers\\convolutional\\base_conv.py:107: UserWarning: Do not pass an `input_shape`/`input_dim` argument to a layer. When using Sequential models, prefer using an `Input(shape)` object as the first layer in the model instead.\n",
      "  super().__init__(activity_regularizer=activity_regularizer, **kwargs)\n"
     ]
    },
    {
     "name": "stdout",
     "output_type": "stream",
     "text": [
      "\u001b[1m400/400\u001b[0m \u001b[32m━━━━━━━━━━━━━━━━━━━━\u001b[0m\u001b[37m\u001b[0m \u001b[1m3s\u001b[0m 4ms/step - accuracy: 0.4869 - loss: 0.8503 - val_accuracy: 0.5008 - val_loss: 0.6940 - learning_rate: 0.0010\n",
      "Epoch 2/100\n",
      "\u001b[1m400/400\u001b[0m \u001b[32m━━━━━━━━━━━━━━━━━━━━\u001b[0m\u001b[37m\u001b[0m \u001b[1m2s\u001b[0m 4ms/step - accuracy: 0.5027 - loss: 0.7153 - val_accuracy: 0.4941 - val_loss: 0.6938 - learning_rate: 0.0010\n",
      "Epoch 3/100\n",
      "\u001b[1m400/400\u001b[0m \u001b[32m━━━━━━━━━━━━━━━━━━━━\u001b[0m\u001b[37m\u001b[0m \u001b[1m2s\u001b[0m 4ms/step - accuracy: 0.4941 - loss: 0.7009 - val_accuracy: 0.4959 - val_loss: 0.6935 - learning_rate: 0.0010\n",
      "Epoch 4/100\n",
      "\u001b[1m400/400\u001b[0m \u001b[32m━━━━━━━━━━━━━━━━━━━━\u001b[0m\u001b[37m\u001b[0m \u001b[1m2s\u001b[0m 4ms/step - accuracy: 0.5118 - loss: 0.6958 - val_accuracy: 0.4897 - val_loss: 0.6939 - learning_rate: 0.0010\n",
      "Epoch 5/100\n",
      "\u001b[1m400/400\u001b[0m \u001b[32m━━━━━━━━━━━━━━━━━━━━\u001b[0m\u001b[37m\u001b[0m \u001b[1m2s\u001b[0m 4ms/step - accuracy: 0.5025 - loss: 0.6965 - val_accuracy: 0.5014 - val_loss: 0.6936 - learning_rate: 0.0010\n",
      "Epoch 6/100\n",
      "\u001b[1m400/400\u001b[0m \u001b[32m━━━━━━━━━━━━━━━━━━━━\u001b[0m\u001b[37m\u001b[0m \u001b[1m2s\u001b[0m 4ms/step - accuracy: 0.4991 - loss: 0.6963 - val_accuracy: 0.5050 - val_loss: 0.6932 - learning_rate: 0.0010\n",
      "Epoch 7/100\n",
      "\u001b[1m400/400\u001b[0m \u001b[32m━━━━━━━━━━━━━━━━━━━━\u001b[0m\u001b[37m\u001b[0m \u001b[1m2s\u001b[0m 4ms/step - accuracy: 0.5018 - loss: 0.6962 - val_accuracy: 0.4956 - val_loss: 0.6938 - learning_rate: 0.0010\n",
      "Epoch 8/100\n",
      "\u001b[1m400/400\u001b[0m \u001b[32m━━━━━━━━━━━━━━━━━━━━\u001b[0m\u001b[37m\u001b[0m \u001b[1m2s\u001b[0m 4ms/step - accuracy: 0.4949 - loss: 0.6970 - val_accuracy: 0.4911 - val_loss: 0.6944 - learning_rate: 0.0010\n",
      "Epoch 9/100\n",
      "\u001b[1m395/400\u001b[0m \u001b[32m━━━━━━━━━━━━━━━━━━━\u001b[0m\u001b[37m━\u001b[0m \u001b[1m0s\u001b[0m 4ms/step - accuracy: 0.4989 - loss: 0.6964\n",
      "Epoch 9: ReduceLROnPlateau reducing learning rate to 0.0005000000237487257.\n",
      "\u001b[1m400/400\u001b[0m \u001b[32m━━━━━━━━━━━━━━━━━━━━\u001b[0m\u001b[37m\u001b[0m \u001b[1m2s\u001b[0m 4ms/step - accuracy: 0.4989 - loss: 0.6964 - val_accuracy: 0.5020 - val_loss: 0.6932 - learning_rate: 0.0010\n",
      "Epoch 10/100\n",
      "\u001b[1m400/400\u001b[0m \u001b[32m━━━━━━━━━━━━━━━━━━━━\u001b[0m\u001b[37m\u001b[0m \u001b[1m2s\u001b[0m 5ms/step - accuracy: 0.4955 - loss: 0.6964 - val_accuracy: 0.4927 - val_loss: 0.6941 - learning_rate: 5.0000e-04\n",
      "Epoch 11/100\n",
      "\u001b[1m400/400\u001b[0m \u001b[32m━━━━━━━━━━━━━━━━━━━━\u001b[0m\u001b[37m\u001b[0m \u001b[1m2s\u001b[0m 5ms/step - accuracy: 0.5031 - loss: 0.6947 - val_accuracy: 0.5047 - val_loss: 0.6933 - learning_rate: 5.0000e-04\n",
      "Epoch 11: early stopping\n",
      "Restoring model weights from the end of the best epoch: 6.\n",
      "\u001b[1m250/250\u001b[0m \u001b[32m━━━━━━━━━━━━━━━━━━━━\u001b[0m\u001b[37m\u001b[0m \u001b[1m1s\u001b[0m 2ms/step\n",
      "Accuracy: 0.506125\n",
      "              precision    recall  f1-score   support\n",
      "\n",
      "           0       0.50      0.69      0.58      3986\n",
      "           1       0.51      0.33      0.40      4014\n",
      "\n",
      "    accuracy                           0.51      8000\n",
      "   macro avg       0.51      0.51      0.49      8000\n",
      "weighted avg       0.51      0.51      0.49      8000\n",
      "\n"
     ]
    }
   ],
   "source": [
    "import numpy as np\n",
    "from sklearn.preprocessing import StandardScaler\n",
    "from sklearn.model_selection import train_test_split\n",
    "from sklearn.metrics import accuracy_score, classification_report\n",
    "from tensorflow.keras.models import Sequential\n",
    "from tensorflow.keras.layers import Conv2D, MaxPooling2D, Dropout, Flatten, Dense\n",
    "from tensorflow.keras.callbacks import ReduceLROnPlateau, EarlyStopping\n",
    "from tensorflow.keras.layers import BatchNormalization\n",
    "\n",
    "\n",
    "# Step 1: Separate features and target\n",
    "X = data.drop(columns=['Malware Indicators'])\n",
    "y = data['Malware Indicators']\n",
    "\n",
    "# Ensure `X` and `y` have the same number of samples\n",
    "if X.shape[0] != y.shape[0]:\n",
    "    raise ValueError(f\"Initial mismatch in number of samples: X={X.shape[0]}, y={y.shape[0]}\")\n",
    "\n",
    "# Step 2: Normalize features\n",
    "scaler = StandardScaler()\n",
    "X = scaler.fit_transform(X)\n",
    "\n",
    "# Step 3: Reshape `X` for CNN input\n",
    "num_features = X.shape[1]\n",
    "reshaped_dim1 = int(np.ceil(np.sqrt(num_features)))\n",
    "reshaped_dim2 = int(np.ceil(num_features / reshaped_dim1))\n",
    "\n",
    "# Padding to match reshaped dimensions\n",
    "if reshaped_dim1 * reshaped_dim2 > num_features:\n",
    "    padding = np.zeros((X.shape[0], reshaped_dim1 * reshaped_dim2 - num_features))\n",
    "    X = np.hstack((X, padding))\n",
    "\n",
    "X = X.reshape(-1, reshaped_dim1, reshaped_dim2, 1)\n",
    "\n",
    "# Ensure target size matches reshaped feature size\n",
    "y = y.iloc[:X.shape[0]].reset_index(drop=True)\n",
    "\n",
    "# Final shape check\n",
    "if X.shape[0] != y.shape[0]:\n",
    "    raise ValueError(f\"Mismatch after reshaping: X={X.shape[0]}, y={y.shape[0]}\")\n",
    "\n",
    "# Step 4: Split data into training and testing sets\n",
    "X_train, X_test, y_train, y_test = train_test_split(X, y, test_size=0.2, random_state=42)\n",
    "\n",
    "from tensorflow.keras.callbacks import ReduceLROnPlateau, EarlyStopping\n",
    "from tensorflow.keras.layers import BatchNormalization\n",
    "\n",
    "# Updated CNN Model\n",
    "model = Sequential([\n",
    "    Conv2D(32, (3, 3), activation='relu', input_shape=(reshaped_dim1, reshaped_dim2, 1)),\n",
    "    BatchNormalization(),\n",
    "    MaxPooling2D((2, 2), padding='same'),\n",
    "    Dropout(0.3),\n",
    "\n",
    "    Conv2D(64, (3, 3), activation='relu', padding='same'),\n",
    "    BatchNormalization(),\n",
    "    MaxPooling2D((2, 2), padding='same'),\n",
    "    Dropout(0.4),\n",
    "\n",
    "    Conv2D(128, (3, 3), activation='relu', padding='same'),\n",
    "    BatchNormalization(),\n",
    "    MaxPooling2D((2, 2), padding='same'),\n",
    "    Dropout(0.5),\n",
    "\n",
    "    Flatten(),\n",
    "    Dense(256, activation='relu'),\n",
    "    Dropout(0.5),\n",
    "    Dense(1, activation='sigmoid')  # Binary classification\n",
    "])\n",
    "\n",
    "# Compile the model\n",
    "model.compile(optimizer='adam', loss='binary_crossentropy', metrics=['accuracy'])\n",
    "\n",
    "# Callbacks for Training\n",
    "callbacks = [\n",
    "    ReduceLROnPlateau(monitor='val_loss', factor=0.5, patience=3, verbose=1),\n",
    "    EarlyStopping(monitor='val_loss', patience=5, verbose=1, restore_best_weights=True)\n",
    "]\n",
    "\n",
    "# Train the model\n",
    "history = model.fit(\n",
    "    X_train, y_train,\n",
    "    epochs=100,  # Increased epochs for better learning\n",
    "    batch_size=64,\n",
    "    validation_split=0.2,\n",
    "    callbacks=callbacks,\n",
    "    verbose=1\n",
    ")\n",
    "\n",
    "# Evaluate the model\n",
    "y_pred = (model.predict(X_test) > 0.5).astype(int)\n",
    "accuracy = accuracy_score(y_test, y_pred)\n",
    "print(\"Accuracy:\", accuracy)\n",
    "print(classification_report(y_test, y_pred))\n"
   ]
  },
  {
   "cell_type": "markdown",
   "metadata": {},
   "source": [
    "Logistic Regression"
   ]
  },
  {
   "cell_type": "code",
   "execution_count": 83,
   "metadata": {},
   "outputs": [
    {
     "name": "stdout",
     "output_type": "stream",
     "text": [
      "Accuracy: 0.50125\n",
      "              precision    recall  f1-score   support\n",
      "\n",
      "           0       0.50      0.51      0.50      3986\n",
      "           1       0.50      0.49      0.50      4014\n",
      "\n",
      "    accuracy                           0.50      8000\n",
      "   macro avg       0.50      0.50      0.50      8000\n",
      "weighted avg       0.50      0.50      0.50      8000\n",
      "\n"
     ]
    }
   ],
   "source": [
    "from sklearn.linear_model import LogisticRegression\n",
    "from sklearn.metrics import accuracy_score, classification_report\n",
    "\n",
    "# Step 1: Flatten the input data for Logistic Regression\n",
    "X_flat = X.reshape(X.shape[0], -1)  # Flatten each sample into a 1D array\n",
    "\n",
    "# Step 2: Split data into training and testing sets\n",
    "X_train, X_test, y_train, y_test = train_test_split(X_flat, y, test_size=0.2, random_state=42)\n",
    "\n",
    "# Step 3: Initialize and train Logistic Regression\n",
    "logistic_model = LogisticRegression(max_iter=1000, random_state=42)\n",
    "logistic_model.fit(X_train, y_train)\n",
    "\n",
    "# Step 4: Predict on test data\n",
    "y_pred = logistic_model.predict(X_test)\n",
    "\n",
    "# Step 5: Evaluate the model\n",
    "accuracy = accuracy_score(y_test, y_pred)\n",
    "print(\"Accuracy:\", accuracy)\n",
    "print(classification_report(y_test, y_pred))\n"
   ]
  }
 ],
 "metadata": {
  "kernelspec": {
   "display_name": "Python 3",
   "language": "python",
   "name": "python3"
  },
  "language_info": {
   "codemirror_mode": {
    "name": "ipython",
    "version": 3
   },
   "file_extension": ".py",
   "mimetype": "text/x-python",
   "name": "python",
   "nbconvert_exporter": "python",
   "pygments_lexer": "ipython3",
   "version": "3.10.10"
  }
 },
 "nbformat": 4,
 "nbformat_minor": 2
}
