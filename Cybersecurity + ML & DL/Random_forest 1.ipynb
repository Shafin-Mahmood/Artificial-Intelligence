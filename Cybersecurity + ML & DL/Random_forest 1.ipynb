{
  "cells": [
    {
      "cell_type": "code",
      "execution_count": 12,
      "metadata": {
        "id": "xz_xVTB9v-Lo"
      },
      "outputs": [],
      "source": [
        "import pandas as pd\n",
        "import numpy as np\n",
        "import tensorflow as tf\n",
        "from tensorflow.keras.models import Sequential\n",
        "from tensorflow.keras.layers import Conv2D, MaxPooling2D, Flatten, Dense, Dropout\n",
        "from sklearn.model_selection import train_test_split\n",
        "from sklearn.preprocessing import StandardScaler, LabelEncoder\n",
        "from sklearn.metrics import accuracy_score, classification_report"
      ]
    },
    {
      "cell_type": "code",
      "source": [
        "from google.colab import drive\n",
        "drive.mount('/content/drive')"
      ],
      "metadata": {
        "colab": {
          "base_uri": "https://localhost:8080/"
        },
        "id": "Nd4I2_jVwAG7",
        "outputId": "c13fd5ae-0035-48a0-90f6-0a4b25d2d941"
      },
      "execution_count": 13,
      "outputs": [
        {
          "output_type": "stream",
          "name": "stdout",
          "text": [
            "Drive already mounted at /content/drive; to attempt to forcibly remount, call drive.mount(\"/content/drive\", force_remount=True).\n"
          ]
        }
      ]
    },
    {
      "cell_type": "code",
      "execution_count": 14,
      "metadata": {
        "id": "Ipr7Uv50v-Lp"
      },
      "outputs": [],
      "source": [
        "data = pd.read_csv(\"/content/cybersecurity_attacks.csv\")\n"
      ]
    },
    {
      "cell_type": "markdown",
      "metadata": {
        "id": "p8EWBJs8v-Lr"
      },
      "source": [
        "Data Preprocessing"
      ]
    },
    {
      "cell_type": "code",
      "source": [
        "import pandas as pd\n",
        "import numpy as np\n",
        "from sklearn.preprocessing import LabelEncoder\n",
        "\n",
        "# Columns to drop\n",
        "columns_to_drop = [\n",
        "    'Payload Data', 'Device Information', 'Geo-location Data',\n",
        "    'Timestamp', 'User Information', 'Proxy Information'\n",
        "]\n",
        "\n",
        "# Encode remaining categorical columns\n",
        "categorical_columns = [\n",
        "    'Traffic Type', 'Malware Indicators', 'Alerts/Warnings',\n",
        "    'Attack Signature', 'Severity Level', 'Network Segment',\n",
        "    'Firewall Logs', 'IDS/IPS Alerts', 'Log Source',\n",
        "    'Protocol', 'Packet Type', 'Attack Type', 'Action Taken',\n",
        "    'Source IP Address', 'Destination IP Address'\n",
        "]\n",
        "\n",
        "label_encoders = {}\n",
        "\n",
        "# Iterate through columns to encode\n",
        "for column in categorical_columns:\n",
        "    if column in data.columns:\n",
        "        le = LabelEncoder()\n",
        "        # Fill NaN with a placeholder and encode as strings\n",
        "        data[column] = data[column].fillna('Unknown').astype(str)\n",
        "        data[column] = le.fit_transform(data[column])\n",
        "        label_encoders[column] = le\n",
        "\n",
        "# Drop irrelevant columns\n",
        "data = data.drop(columns=[col for col in columns_to_drop if col in data.columns], errors='ignore')\n",
        "\n",
        "# Check for non-numeric columns\n",
        "non_numeric_columns = data.select_dtypes(exclude=[np.number]).columns\n",
        "\n",
        "if len(non_numeric_columns) > 0:\n",
        "    # Print details of non-numeric columns for debugging\n",
        "    print(\"Non-numeric columns and their unique values:\", {col: data[col].unique() for col in non_numeric_columns})\n",
        "    raise ValueError(\"Some columns are still non-numeric after processing!\")\n",
        "\n",
        "print(\"All columns are now numeric!\")\n",
        ""
      ],
      "metadata": {
        "colab": {
          "base_uri": "https://localhost:8080/"
        },
        "id": "rrwW5HN9Bm1H",
        "outputId": "d61aeee6-280a-4a8d-eb44-5c653f40da5d"
      },
      "execution_count": 16,
      "outputs": [
        {
          "output_type": "stream",
          "name": "stdout",
          "text": [
            "All columns are now numeric!\n"
          ]
        }
      ]
    },
    {
      "cell_type": "code",
      "source": [
        "import pandas as pd\n",
        "import numpy as np\n",
        "from sklearn.model_selection import train_test_split\n",
        "from sklearn.ensemble import RandomForestClassifier\n",
        "from sklearn.metrics import accuracy_score, precision_score, recall_score, f1_score, roc_auc_score, classification_report\n",
        "\n",
        "\n",
        "\n",
        "# Define the target variable and features\n",
        "X = data.drop(columns=['Malware Indicators'])  # Features\n",
        "y = data['Malware Indicators']  # Target variable\n",
        "\n",
        "\n",
        "# Split the data into training and testing sets (80% train, 20% test)\n",
        "X_train, X_test, y_train, y_test = train_test_split(X, y, test_size=0.2, random_state=42, stratify=y)\n",
        "\n",
        "\n",
        "\n",
        "# Initialize the Random Forest Classifier\n",
        "rf_classifier = RandomForestClassifier(n_estimators=100, random_state=42)\n",
        "\n",
        "# Train the Random Forest model on the training dataset\n",
        "rf_classifier.fit(X_train, y_train)\n",
        "\n",
        "# Make predictions on the test dataset\n",
        "y_pred = rf_classifier.predict(X_test)\n",
        "\n",
        "\n",
        "# Calculate evaluation metrics\n",
        "accuracy = accuracy_score(y_test, y_pred)\n",
        "precision = precision_score(y_test, y_pred, average='weighted')\n",
        "recall = recall_score(y_test, y_pred, average='weighted')\n",
        "f1 = f1_score(y_test, y_pred, average='weighted')\n",
        "roc_auc = roc_auc_score(y_test, rf_classifier.predict_proba(X_test)[:, 1])  # For binary classification\n",
        "\n",
        "# Print the evaluation metrics\n",
        "print(\"Model Evaluation Metrics:\")\n",
        "print(f\"Accuracy: {accuracy:.4f}\")\n",
        "print(f\"Precision: {precision:.4f}\")\n",
        "print(f\"Recall: {recall:.4f}\")\n",
        "print(f\"F1 Score: {f1:.4f}\")\n",
        "print(f\"AUC-ROC: {roc_auc:.4f}\")\n",
        "\n",
        "# Print classification report\n",
        "print(\"\\nClassification Report:\")\n",
        "print(classification_report(y_test, y_pred))"
      ],
      "metadata": {
        "colab": {
          "base_uri": "https://localhost:8080/"
        },
        "id": "lSBZvG0uyWP6",
        "outputId": "620832df-4a3d-4e06-eed9-813ea7dc120e"
      },
      "execution_count": 17,
      "outputs": [
        {
          "output_type": "stream",
          "name": "stdout",
          "text": [
            "Model Evaluation Metrics:\n",
            "Accuracy: 0.4964\n",
            "Precision: 0.4964\n",
            "Recall: 0.4964\n",
            "F1 Score: 0.4955\n",
            "AUC-ROC: 0.5034\n",
            "\n",
            "Classification Report:\n",
            "              precision    recall  f1-score   support\n",
            "\n",
            "           0       0.50      0.54      0.52      4000\n",
            "           1       0.50      0.46      0.47      4000\n",
            "\n",
            "    accuracy                           0.50      8000\n",
            "   macro avg       0.50      0.50      0.50      8000\n",
            "weighted avg       0.50      0.50      0.50      8000\n",
            "\n"
          ]
        }
      ]
    }
  ],
  "metadata": {
    "kernelspec": {
      "display_name": "Python 3",
      "language": "python",
      "name": "python3"
    },
    "language_info": {
      "codemirror_mode": {
        "name": "ipython",
        "version": 3
      },
      "file_extension": ".py",
      "mimetype": "text/x-python",
      "name": "python",
      "nbconvert_exporter": "python",
      "pygments_lexer": "ipython3",
      "version": "3.10.10"
    },
    "colab": {
      "provenance": []
    }
  },
  "nbformat": 4,
  "nbformat_minor": 0
}